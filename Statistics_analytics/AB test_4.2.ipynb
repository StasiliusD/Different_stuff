{
 "cells": [
  {
   "cell_type": "markdown",
   "id": "f4d71dd3-f377-4939-bd5b-b77ce5c17680",
   "metadata": {},
   "source": [
    "Пришло время проанализировать результаты эксперимента, который мы провели вместе с командой дата сайентистов. Эксперимент проходил с 2022-12-02 по 2022-12-08 включительно. Для эксперимента были задействованы 2 и 1 группы. \n",
    "\n",
    "В группе 2 был использован один из новых алгоритмов рекомендации постов, группа 1 использовалась в качестве контроля. \n",
    "\n",
    "Основная гипотеза заключается в том, что новый алгоритм во 2-й группе приведет к увеличению CTR. \n",
    "\n",
    "Ваша задача — проанализировать данные АB-теста. \n",
    "\n",
    "Выбрать метод анализа и сравнить CTR в двух группах (мы разбирали t-тест, Пуассоновский бутстреп, тест Манна-Уитни, t-тест на сглаженном ctr (α=5) а также t-тест и тест Манна-Уитни поверх бакетного преобразования).\n",
    "Сравните данные этими тестами. А еще посмотрите на распределения глазами. Почему тесты сработали так как сработали? \n",
    "Опишите потенциальную ситуацию, когда такое изменение могло произойти. Тут нет идеального ответа, подумайте.\n",
    "Напишите рекомендацию, будем ли мы раскатывать новый алгоритм на всех новых пользователей или все-таки не стоит.\n",
    "Ваше решение — это ссылка на merge request с проведенным анализом."
   ]
  },
  {
   "cell_type": "code",
   "execution_count": 1,
   "id": "8d49bc0c-591f-4f89-9211-253e5cd39f64",
   "metadata": {},
   "outputs": [],
   "source": [
    "import pandas as pd\n",
    "import pandahouse as ph\n",
    "import numpy as np\n",
    "from tqdm import tqdm\n",
    "import scipy.stats as stats"
   ]
  },
  {
   "cell_type": "code",
   "execution_count": 2,
   "id": "c0b7065c-796f-4e7f-b44a-1b9585e90410",
   "metadata": {},
   "outputs": [],
   "source": [
    "import seaborn as sns"
   ]
  },
  {
   "cell_type": "code",
   "execution_count": 3,
   "id": "5fc7074f-4b12-4be2-9314-35bd43dbc889",
   "metadata": {},
   "outputs": [],
   "source": [
    "connection = {'host': 'https://clickhouse.lab.karpov.courses',\n",
    "                      'database':'simulator_20221220',\n",
    "                      'user':'student', \n",
    "                      'password':'dpo_python_2020'\n",
    "                     }"
   ]
  },
  {
   "cell_type": "code",
   "execution_count": 4,
   "id": "fd588115-75c7-4bf5-a423-926074d290de",
   "metadata": {},
   "outputs": [
    {
     "data": {
      "text/html": [
       "<div>\n",
       "<style scoped>\n",
       "    .dataframe tbody tr th:only-of-type {\n",
       "        vertical-align: middle;\n",
       "    }\n",
       "\n",
       "    .dataframe tbody tr th {\n",
       "        vertical-align: top;\n",
       "    }\n",
       "\n",
       "    .dataframe thead th {\n",
       "        text-align: right;\n",
       "    }\n",
       "</style>\n",
       "<table border=\"1\" class=\"dataframe\">\n",
       "  <thead>\n",
       "    <tr style=\"text-align: right;\">\n",
       "      <th></th>\n",
       "      <th>exp_group</th>\n",
       "      <th>user_id</th>\n",
       "      <th>likes</th>\n",
       "      <th>views</th>\n",
       "      <th>ctr</th>\n",
       "    </tr>\n",
       "  </thead>\n",
       "  <tbody>\n",
       "    <tr>\n",
       "      <th>0</th>\n",
       "      <td>1</td>\n",
       "      <td>109963</td>\n",
       "      <td>3</td>\n",
       "      <td>15</td>\n",
       "      <td>0.200000</td>\n",
       "    </tr>\n",
       "    <tr>\n",
       "      <th>1</th>\n",
       "      <td>1</td>\n",
       "      <td>26117</td>\n",
       "      <td>32</td>\n",
       "      <td>141</td>\n",
       "      <td>0.226950</td>\n",
       "    </tr>\n",
       "    <tr>\n",
       "      <th>2</th>\n",
       "      <td>1</td>\n",
       "      <td>138232</td>\n",
       "      <td>18</td>\n",
       "      <td>73</td>\n",
       "      <td>0.246575</td>\n",
       "    </tr>\n",
       "    <tr>\n",
       "      <th>3</th>\n",
       "      <td>1</td>\n",
       "      <td>26295</td>\n",
       "      <td>33</td>\n",
       "      <td>122</td>\n",
       "      <td>0.270492</td>\n",
       "    </tr>\n",
       "    <tr>\n",
       "      <th>4</th>\n",
       "      <td>1</td>\n",
       "      <td>18392</td>\n",
       "      <td>7</td>\n",
       "      <td>32</td>\n",
       "      <td>0.218750</td>\n",
       "    </tr>\n",
       "  </tbody>\n",
       "</table>\n",
       "</div>"
      ],
      "text/plain": [
       "   exp_group  user_id  likes  views       ctr\n",
       "0          1   109963      3     15  0.200000\n",
       "1          1    26117     32    141  0.226950\n",
       "2          1   138232     18     73  0.246575\n",
       "3          1    26295     33    122  0.270492\n",
       "4          1    18392      7     32  0.218750"
      ]
     },
     "execution_count": 4,
     "metadata": {},
     "output_type": "execute_result"
    }
   ],
   "source": [
    "#загружаем данные за 2 - 8 декабря по 1 и 2-й экспериментальных групп\n",
    "q = \"\"\"\n",
    "SELECT exp_group,\n",
    "user_id,\n",
    "sum(action = 'like') as likes,\n",
    "sum(action = 'view') as views,\n",
    "likes/views as ctr\n",
    "FROM {db}.feed_actions\n",
    "WHERE toDate(time) between '2022-12-02' and '2022-12-08'\n",
    "and exp_group in (2,1)\n",
    "GROUP BY exp_group, user_id\n",
    "\"\"\"\n",
    "\n",
    "df = ph.read_clickhouse(q, connection=connection)\n",
    "df.head()"
   ]
  },
  {
   "cell_type": "code",
   "execution_count": 5,
   "id": "520c1cb4-ea56-490c-9ee0-8ac9b2423a40",
   "metadata": {},
   "outputs": [
    {
     "data": {
      "text/plain": [
       "(0.21560459841296287, 0.21441927347479375)"
      ]
     },
     "execution_count": 5,
     "metadata": {},
     "output_type": "execute_result"
    }
   ],
   "source": [
    "'''вначале посчитаем ctr в двух группах'''\n",
    "df[df['exp_group'] == 1].ctr.mean(), df[df['exp_group'] == 2].ctr.mean()"
   ]
  },
  {
   "cell_type": "markdown",
   "id": "59ef36ac-ec9c-448b-9193-3618d2f9a109",
   "metadata": {},
   "source": [
    "получаем результат, что средний ctr в 1-й группе выше, хотя, по условию \n",
    "гипотеза в том, что алгоритм во второй группе приведет к увеличению ctr. \n",
    "Посмотрим на распределение ctr в группах на графике."
   ]
  },
  {
   "cell_type": "code",
   "execution_count": 6,
   "id": "b6da0aa3-9c56-477b-8044-1f1fd7b501ba",
   "metadata": {},
   "outputs": [],
   "source": [
    "sns.set(rc={'figure.figsize':(11.7,8.27)})"
   ]
  },
  {
   "cell_type": "code",
   "execution_count": 7,
   "id": "086bf425-16ca-45df-9ff4-8c809d994eff",
   "metadata": {},
   "outputs": [
    {
     "data": {
      "text/plain": [
       "<AxesSubplot:xlabel='ctr', ylabel='Count'>"
      ]
     },
     "execution_count": 7,
     "metadata": {},
     "output_type": "execute_result"
    },
    {
     "data": {
      "image/png": "[encoded data removed]",
      "text/plain": [
       "<Figure size 842.4x595.44 with 1 Axes>"
      ]
     },
     "metadata": {},
     "output_type": "display_data"
    }
   ],
   "source": [
    "sns.histplot(data =df,\n",
    "x='ctr',\n",
    "hue='exp_group',\n",
    "palette = ['r', 'b'],\n",
    "alpha=0.5,\n",
    "kde=False)"
   ]
  },
  {
   "cell_type": "markdown",
   "id": "9961bb14-09b5-4f72-af66-d109e5af692e",
   "metadata": {},
   "source": [
    "Как мы видим, что в отличие от контрольной группы, распределение во 2й группе бимодальное. Причем первая мода с ctr ниже чем в контрольной группе, вторая мода с ctr выше. Возможно, у какой-то отдельной группы пользователей новый алгоритм работает некорректно, в связи с чем их ctr ниже. Попробуем проверить, загрузив данные, которые у нас есть по пользователям."
   ]
  },
  {
   "cell_type": "code",
   "execution_count": 8,
   "id": "d90b2243-4ba2-458a-b730-67d8c134c5ca",
   "metadata": {},
   "outputs": [
    {
     "data": {
      "text/html": [
       "<div>\n",
       "<style scoped>\n",
       "    .dataframe tbody tr th:only-of-type {\n",
       "        vertical-align: middle;\n",
       "    }\n",
       "\n",
       "    .dataframe tbody tr th {\n",
       "        vertical-align: top;\n",
       "    }\n",
       "\n",
       "    .dataframe thead th {\n",
       "        text-align: right;\n",
       "    }\n",
       "</style>\n",
       "<table border=\"1\" class=\"dataframe\">\n",
       "  <thead>\n",
       "    <tr style=\"text-align: right;\">\n",
       "      <th></th>\n",
       "      <th>user_id</th>\n",
       "      <th>source</th>\n",
       "      <th>country</th>\n",
       "      <th>os</th>\n",
       "      <th>exp_group</th>\n",
       "      <th>likes</th>\n",
       "      <th>views</th>\n",
       "      <th>ctr</th>\n",
       "    </tr>\n",
       "  </thead>\n",
       "  <tbody>\n",
       "    <tr>\n",
       "      <th>0</th>\n",
       "      <td>118685</td>\n",
       "      <td>organic</td>\n",
       "      <td>Russia</td>\n",
       "      <td>Android</td>\n",
       "      <td>1</td>\n",
       "      <td>12</td>\n",
       "      <td>51</td>\n",
       "      <td>0.235294</td>\n",
       "    </tr>\n",
       "    <tr>\n",
       "      <th>1</th>\n",
       "      <td>128479</td>\n",
       "      <td>organic</td>\n",
       "      <td>Russia</td>\n",
       "      <td>Android</td>\n",
       "      <td>2</td>\n",
       "      <td>16</td>\n",
       "      <td>22</td>\n",
       "      <td>0.727273</td>\n",
       "    </tr>\n",
       "    <tr>\n",
       "      <th>2</th>\n",
       "      <td>125315</td>\n",
       "      <td>organic</td>\n",
       "      <td>Ukraine</td>\n",
       "      <td>Android</td>\n",
       "      <td>1</td>\n",
       "      <td>9</td>\n",
       "      <td>92</td>\n",
       "      <td>0.097826</td>\n",
       "    </tr>\n",
       "    <tr>\n",
       "      <th>3</th>\n",
       "      <td>121687</td>\n",
       "      <td>organic</td>\n",
       "      <td>Russia</td>\n",
       "      <td>Android</td>\n",
       "      <td>2</td>\n",
       "      <td>10</td>\n",
       "      <td>27</td>\n",
       "      <td>0.370370</td>\n",
       "    </tr>\n",
       "    <tr>\n",
       "      <th>4</th>\n",
       "      <td>113901</td>\n",
       "      <td>organic</td>\n",
       "      <td>Russia</td>\n",
       "      <td>iOS</td>\n",
       "      <td>2</td>\n",
       "      <td>3</td>\n",
       "      <td>29</td>\n",
       "      <td>0.103448</td>\n",
       "    </tr>\n",
       "  </tbody>\n",
       "</table>\n",
       "</div>"
      ],
      "text/plain": [
       "   user_id   source  country       os  exp_group  likes  views       ctr\n",
       "0   118685  organic   Russia  Android          1     12     51  0.235294\n",
       "1   128479  organic   Russia  Android          2     16     22  0.727273\n",
       "2   125315  organic  Ukraine  Android          1      9     92  0.097826\n",
       "3   121687  organic   Russia  Android          2     10     27  0.370370\n",
       "4   113901  organic   Russia      iOS          2      3     29  0.103448"
      ]
     },
     "execution_count": 8,
     "metadata": {},
     "output_type": "execute_result"
    }
   ],
   "source": [
    "q2 = \"\"\"\n",
    "SELECT\n",
    "user_id,\n",
    "source,\n",
    "country,\n",
    "os,\n",
    "exp_group,\n",
    "sum(action = 'like') as likes,\n",
    "sum(action = 'view') as views,\n",
    "likes/views as ctr\n",
    "FROM {db}.feed_actions\n",
    "WHERE toDate(time) between '2022-12-02' and '2022-12-08'\n",
    "and exp_group in (1,2)\n",
    "GROUP BY user_id, exp_group, source, country, os\n",
    "\"\"\"\n",
    "\n",
    "df2 = ph.read_clickhouse(q2, connection=connection)\n",
    "df2.head()"
   ]
  },
  {
   "cell_type": "code",
   "execution_count": 9,
   "id": "0eef3fcb-701f-4229-a4db-1f64345ec5d6",
   "metadata": {},
   "outputs": [],
   "source": [
    "#выделим отдельно 2 и 1ю группы\n",
    "df3 = df2[df2['exp_group']==2]\n",
    "df4 = df2[df2['exp_group']==1]"
   ]
  },
  {
   "cell_type": "code",
   "execution_count": 10,
   "id": "185e0dda-2ff4-4f7e-a594-b2f862cc8c85",
   "metadata": {},
   "outputs": [
    {
     "data": {
      "text/plain": [
       "(0.2155885979694554,\n",
       " 0.2133753767121574,\n",
       " 0.2181787802316975,\n",
       " 0.2133373585950066)"
      ]
     },
     "execution_count": 10,
     "metadata": {},
     "output_type": "execute_result"
    }
   ],
   "source": [
    "#посмотрим есть ли какие-то отклонения в ctr в зависимости от ресурса\n",
    "df3[df3['source'] == 'ads'].ctr.mean(), df3[df3['source'] == 'organic'].ctr.mean(), df4[df4['source'] == 'ads'].ctr.mean(), df4[df4['source'] == 'organic'].ctr.mean()"
   ]
  },
  {
   "cell_type": "code",
   "execution_count": 11,
   "id": "33cd948d-b8a0-400a-8770-4885deed0efe",
   "metadata": {},
   "outputs": [
    {
     "data": {
      "text/plain": [
       "(0.21610174901867096, 0.21137581150451182)"
      ]
     },
     "execution_count": 11,
     "metadata": {},
     "output_type": "execute_result"
    }
   ],
   "source": [
    "#проверим зависимость от ОС\n",
    "df3[df3['os'] == 'Android'].ctr.mean(), df3[df3['os'] == 'iOS'].ctr.mean()"
   ]
  },
  {
   "cell_type": "markdown",
   "id": "b8fd101f-1977-4877-a40d-54256cca8af3",
   "metadata": {},
   "source": [
    "*Итого заключаем, что особых отклонений выявлено не было. Алгоритм работает хорошо на одной группе пользователей,однако, ухудшает метрику по другой группе. Выявить характеристику пользователей, у которых алгоритм работает плохо не получилось. Возможно, стоит запросить данные о пользователях в зависимости от использования мобильного приложения или ПК.*\n",
    "\n",
    "*Посмотрим, будет ли сглаженный ctr в контрольной группе также выше, чем в тестовой.*"
   ]
  },
  {
   "cell_type": "code",
   "execution_count": 12,
   "id": "d910aed4-966b-4bbc-8d21-ad10307d5f17",
   "metadata": {},
   "outputs": [],
   "source": [
    "#пишем функцию сглаженного ctr\n",
    "def get_smothed_ctr(user_likes, user_views, global_ctr, alpha):\n",
    "    smothed_ctr = (user_likes + alpha * global_ctr) / (user_views + alpha)\n",
    "    return smothed_ctr"
   ]
  },
  {
   "cell_type": "code",
   "execution_count": 13,
   "id": "ccb00299-09cd-4420-80be-4f7062535305",
   "metadata": {},
   "outputs": [
    {
     "data": {
      "text/plain": [
       "(0.20802680490126244, 0.1980601844115994)"
      ]
     },
     "execution_count": 13,
     "metadata": {},
     "output_type": "execute_result"
    }
   ],
   "source": [
    "#считаем ctr по группам\n",
    "global_ctr_1 = df[df.exp_group == 1].likes.sum()/df[df.exp_group == 1].views.sum()\n",
    "global_ctr_2 = df[df.exp_group == 2].likes.sum()/df[df.exp_group == 2].views.sum()\n",
    "global_ctr_1, global_ctr_2"
   ]
  },
  {
   "cell_type": "code",
   "execution_count": 14,
   "id": "6d9e0e43-1660-41ac-9702-99101a86c6f3",
   "metadata": {},
   "outputs": [],
   "source": [
    "df3 = df2[df2['exp_group']==2].copy()\n",
    "df4 = df2[df2['exp_group']==1].copy()"
   ]
  },
  {
   "cell_type": "code",
   "execution_count": 15,
   "id": "9de986fa-8228-45f2-b603-e20a2ff07e08",
   "metadata": {},
   "outputs": [],
   "source": [
    "#рассчитываем сглаженный ctr для пользователей. Гиперапаметр возьмем как в лекции.\n",
    "df3['smoothed_CTR'] = df3.apply(lambda x: get_smothed_ctr(x['likes'], x['views'], global_ctr_1, 5), axis=1)\n",
    "df4['smoothed_CTR'] = df4.apply(lambda x: get_smothed_ctr(x['likes'], x['views'], global_ctr_1, 5), axis=1)"
   ]
  },
  {
   "cell_type": "code",
   "execution_count": 16,
   "id": "ac7c0251-5c79-43b3-92d0-b32d012afbff",
   "metadata": {},
   "outputs": [
    {
     "data": {
      "text/html": [
       "<div>\n",
       "<style scoped>\n",
       "    .dataframe tbody tr th:only-of-type {\n",
       "        vertical-align: middle;\n",
       "    }\n",
       "\n",
       "    .dataframe tbody tr th {\n",
       "        vertical-align: top;\n",
       "    }\n",
       "\n",
       "    .dataframe thead th {\n",
       "        text-align: right;\n",
       "    }\n",
       "</style>\n",
       "<table border=\"1\" class=\"dataframe\">\n",
       "  <thead>\n",
       "    <tr style=\"text-align: right;\">\n",
       "      <th></th>\n",
       "      <th>user_id</th>\n",
       "      <th>source</th>\n",
       "      <th>country</th>\n",
       "      <th>os</th>\n",
       "      <th>exp_group</th>\n",
       "      <th>likes</th>\n",
       "      <th>views</th>\n",
       "      <th>ctr</th>\n",
       "      <th>smoothed_CTR</th>\n",
       "    </tr>\n",
       "  </thead>\n",
       "  <tbody>\n",
       "    <tr>\n",
       "      <th>1</th>\n",
       "      <td>128479</td>\n",
       "      <td>organic</td>\n",
       "      <td>Russia</td>\n",
       "      <td>Android</td>\n",
       "      <td>2</td>\n",
       "      <td>16</td>\n",
       "      <td>22</td>\n",
       "      <td>0.727273</td>\n",
       "      <td>0.631116</td>\n",
       "    </tr>\n",
       "    <tr>\n",
       "      <th>3</th>\n",
       "      <td>121687</td>\n",
       "      <td>organic</td>\n",
       "      <td>Russia</td>\n",
       "      <td>Android</td>\n",
       "      <td>2</td>\n",
       "      <td>10</td>\n",
       "      <td>27</td>\n",
       "      <td>0.370370</td>\n",
       "      <td>0.345004</td>\n",
       "    </tr>\n",
       "    <tr>\n",
       "      <th>4</th>\n",
       "      <td>113901</td>\n",
       "      <td>organic</td>\n",
       "      <td>Russia</td>\n",
       "      <td>iOS</td>\n",
       "      <td>2</td>\n",
       "      <td>3</td>\n",
       "      <td>29</td>\n",
       "      <td>0.103448</td>\n",
       "      <td>0.118827</td>\n",
       "    </tr>\n",
       "    <tr>\n",
       "      <th>6</th>\n",
       "      <td>112724</td>\n",
       "      <td>organic</td>\n",
       "      <td>Russia</td>\n",
       "      <td>iOS</td>\n",
       "      <td>2</td>\n",
       "      <td>25</td>\n",
       "      <td>85</td>\n",
       "      <td>0.294118</td>\n",
       "      <td>0.289335</td>\n",
       "    </tr>\n",
       "    <tr>\n",
       "      <th>7</th>\n",
       "      <td>11766</td>\n",
       "      <td>ads</td>\n",
       "      <td>Russia</td>\n",
       "      <td>Android</td>\n",
       "      <td>2</td>\n",
       "      <td>9</td>\n",
       "      <td>74</td>\n",
       "      <td>0.121622</td>\n",
       "      <td>0.127090</td>\n",
       "    </tr>\n",
       "  </tbody>\n",
       "</table>\n",
       "</div>"
      ],
      "text/plain": [
       "   user_id   source country       os  exp_group  likes  views       ctr  \\\n",
       "1   128479  organic  Russia  Android          2     16     22  0.727273   \n",
       "3   121687  organic  Russia  Android          2     10     27  0.370370   \n",
       "4   113901  organic  Russia      iOS          2      3     29  0.103448   \n",
       "6   112724  organic  Russia      iOS          2     25     85  0.294118   \n",
       "7    11766      ads  Russia  Android          2      9     74  0.121622   \n",
       "\n",
       "   smoothed_CTR  \n",
       "1      0.631116  \n",
       "3      0.345004  \n",
       "4      0.118827  \n",
       "6      0.289335  \n",
       "7      0.127090  "
      ]
     },
     "execution_count": 16,
     "metadata": {},
     "output_type": "execute_result"
    }
   ],
   "source": [
    "df3.head()"
   ]
  },
  {
   "cell_type": "code",
   "execution_count": 17,
   "id": "e85ea8a4-faba-48ca-a8f4-c61584de406f",
   "metadata": {},
   "outputs": [
    {
     "data": {
      "text/html": [
       "<div>\n",
       "<style scoped>\n",
       "    .dataframe tbody tr th:only-of-type {\n",
       "        vertical-align: middle;\n",
       "    }\n",
       "\n",
       "    .dataframe tbody tr th {\n",
       "        vertical-align: top;\n",
       "    }\n",
       "\n",
       "    .dataframe thead th {\n",
       "        text-align: right;\n",
       "    }\n",
       "</style>\n",
       "<table border=\"1\" class=\"dataframe\">\n",
       "  <thead>\n",
       "    <tr style=\"text-align: right;\">\n",
       "      <th></th>\n",
       "      <th>user_id</th>\n",
       "      <th>source</th>\n",
       "      <th>country</th>\n",
       "      <th>os</th>\n",
       "      <th>exp_group</th>\n",
       "      <th>likes</th>\n",
       "      <th>views</th>\n",
       "      <th>ctr</th>\n",
       "      <th>smoothed_CTR</th>\n",
       "    </tr>\n",
       "  </thead>\n",
       "  <tbody>\n",
       "    <tr>\n",
       "      <th>0</th>\n",
       "      <td>118685</td>\n",
       "      <td>organic</td>\n",
       "      <td>Russia</td>\n",
       "      <td>Android</td>\n",
       "      <td>1</td>\n",
       "      <td>12</td>\n",
       "      <td>51</td>\n",
       "      <td>0.235294</td>\n",
       "      <td>0.232860</td>\n",
       "    </tr>\n",
       "    <tr>\n",
       "      <th>2</th>\n",
       "      <td>125315</td>\n",
       "      <td>organic</td>\n",
       "      <td>Ukraine</td>\n",
       "      <td>Android</td>\n",
       "      <td>1</td>\n",
       "      <td>9</td>\n",
       "      <td>92</td>\n",
       "      <td>0.097826</td>\n",
       "      <td>0.103507</td>\n",
       "    </tr>\n",
       "    <tr>\n",
       "      <th>5</th>\n",
       "      <td>22411</td>\n",
       "      <td>ads</td>\n",
       "      <td>Russia</td>\n",
       "      <td>iOS</td>\n",
       "      <td>1</td>\n",
       "      <td>8</td>\n",
       "      <td>45</td>\n",
       "      <td>0.177778</td>\n",
       "      <td>0.180803</td>\n",
       "    </tr>\n",
       "    <tr>\n",
       "      <th>9</th>\n",
       "      <td>32833</td>\n",
       "      <td>ads</td>\n",
       "      <td>Russia</td>\n",
       "      <td>Android</td>\n",
       "      <td>1</td>\n",
       "      <td>22</td>\n",
       "      <td>90</td>\n",
       "      <td>0.244444</td>\n",
       "      <td>0.242528</td>\n",
       "    </tr>\n",
       "    <tr>\n",
       "      <th>10</th>\n",
       "      <td>125762</td>\n",
       "      <td>organic</td>\n",
       "      <td>Russia</td>\n",
       "      <td>iOS</td>\n",
       "      <td>1</td>\n",
       "      <td>6</td>\n",
       "      <td>19</td>\n",
       "      <td>0.315789</td>\n",
       "      <td>0.293339</td>\n",
       "    </tr>\n",
       "  </tbody>\n",
       "</table>\n",
       "</div>"
      ],
      "text/plain": [
       "    user_id   source  country       os  exp_group  likes  views       ctr  \\\n",
       "0    118685  organic   Russia  Android          1     12     51  0.235294   \n",
       "2    125315  organic  Ukraine  Android          1      9     92  0.097826   \n",
       "5     22411      ads   Russia      iOS          1      8     45  0.177778   \n",
       "9     32833      ads   Russia  Android          1     22     90  0.244444   \n",
       "10   125762  organic   Russia      iOS          1      6     19  0.315789   \n",
       "\n",
       "    smoothed_CTR  \n",
       "0       0.232860  \n",
       "2       0.103507  \n",
       "5       0.180803  \n",
       "9       0.242528  \n",
       "10      0.293339  "
      ]
     },
     "execution_count": 17,
     "metadata": {},
     "output_type": "execute_result"
    }
   ],
   "source": [
    "df4.head()"
   ]
  },
  {
   "cell_type": "code",
   "execution_count": 18,
   "id": "05a03384-f498-4de6-8236-447c2c3f935f",
   "metadata": {},
   "outputs": [
    {
     "data": {
      "text/plain": [
       "(0.21181083533531964, 0.21402549608884142)"
      ]
     },
     "execution_count": 18,
     "metadata": {},
     "output_type": "execute_result"
    }
   ],
   "source": [
    "#Проверим в какой группе ctr выше\n",
    "df3.smoothed_CTR.mean(), df4.smoothed_CTR.mean()"
   ]
  },
  {
   "cell_type": "markdown",
   "id": "46754a70-7b22-419c-8e26-f07739b6d4a9",
   "metadata": {},
   "source": [
    "Итого сглаженный ctr, также как и обычный ctr выше в контрольной группе. Проверим, статистическую значимость разницы ctr в контрольной и тестовой группах. Ввиду того, что данных не очень много (в группах не миллионы пользователей), используем метод пуассоновского бутстрепа."
   ]
  },
  {
   "cell_type": "code",
   "execution_count": 19,
   "id": "1ef96c19-f74d-4ae5-8fe1-19ee39e4e6c0",
   "metadata": {},
   "outputs": [],
   "source": [
    "#Функция бутсрепа в которой выбранное число раз по пуассоновскому распределению(1) \n",
    "#строится массив из количеств раз, сколько каждый пользователь попадается в подвыборках.\n",
    "#Далее каждый раз считается групповой ctr по каждой группе и разница ctr заносится в список, \n",
    "#который выдает функция на выходе\n",
    "def bootstrap(likes1, views1, likes2, views2, n_bootstrap=2000):\n",
    "    res=[]\n",
    "    for _ in tqdm(range(n_bootstrap)):\n",
    "        poisson_bootstraps1 = np.random.poisson(1,len(likes1))\n",
    "        poisson_bootstraps2 = np.random.poisson(1,len(likes2))\n",
    "        globalCTR1 = (poisson_bootstraps1*likes1).sum()/(poisson_bootstraps1*views1).sum()\n",
    "        globalCTR2 = (poisson_bootstraps2*likes2).sum()/(poisson_bootstraps2*views2).sum()\n",
    "        res.append(globalCTR2 - globalCTR1)\n",
    "    return res"
   ]
  },
  {
   "cell_type": "code",
   "execution_count": 20,
   "id": "6ec3d2bd-9622-4e0d-8225-0f6ca5edd49b",
   "metadata": {},
   "outputs": [],
   "source": [
    "#считаем лайки и просмотры по каждой группе\n",
    "likes1 = df[df.exp_group == 1].likes.to_numpy()\n",
    "views1 = df[df.exp_group == 1].views.to_numpy()\n",
    "likes2 = df[df.exp_group == 2].likes.to_numpy()\n",
    "views2 = df[df.exp_group == 2].views.to_numpy()"
   ]
  },
  {
   "cell_type": "code",
   "execution_count": 21,
   "id": "29406fa1-5dd7-4e58-a51a-7d4ebec5c347",
   "metadata": {},
   "outputs": [
    {
     "name": "stderr",
     "output_type": "stream",
     "text": [
      "100%|██████████| 2000/2000 [00:04<00:00, 438.73it/s]\n"
     ]
    }
   ],
   "source": [
    "#получаем список из разниц групповых ctr\n",
    "np.random.seed(5)\n",
    "res = bootstrap(likes1, views1, likes2, views2)"
   ]
  },
  {
   "cell_type": "code",
   "execution_count": 22,
   "id": "a11eb76f-5add-4ab1-843a-cbcc4623ea6f",
   "metadata": {},
   "outputs": [
    {
     "data": {
      "text/plain": [
       "<AxesSubplot:ylabel='Count'>"
      ]
     },
     "execution_count": 22,
     "metadata": {},
     "output_type": "execute_result"
    },
    {
     "data": {
      "image/png": "[encoded data removed]",
      "text/plain": [
       "<Figure size 842.4x595.44 with 1 Axes>"
      ]
     },
     "metadata": {},
     "output_type": "display_data"
    }
   ],
   "source": [
    "#строим гистрограмму\n",
    "sns.histplot(res)"
   ]
  },
  {
   "cell_type": "markdown",
   "id": "9d6ad201-6ce0-4c6d-b992-4bc2037ab8ab",
   "metadata": {},
   "source": [
    "Как мы видим на гистрограмме 0 не входим в распределение разницы ctr между контрольной и тестовой группами. Заключаем, что разница ctr между группами статичтически значима, ctr в контрольной группе выше чем ctr в тестовой группе."
   ]
  },
  {
   "cell_type": "markdown",
   "id": "cbf97158-d12d-4203-8aa6-415d8604141c",
   "metadata": {},
   "source": [
    "**Вывод: Гипотеза об увеличении ctr вследствие введения нового алгоритма не подтвердилась. Более того, зафиксировано статистически значимое снижение ctr в тестовой группе. Раскатка алгоритма на всех пользователей не рекомендована.**"
   ]
  },
  {
   "cell_type": "markdown",
   "id": "2c9314c6-a2fa-4597-9109-fc1eae31fee3",
   "metadata": {},
   "source": [
    "В условии задания сказано: \"сравните данные этими тестами\". Чтобы выполнить задание, несмотря на то, что вывод сделан (вверху) проведем оценку статистической значимости бакетным преобразованием (в любой случае вывод по алгоритму сделан!). "
   ]
  },
  {
   "cell_type": "code",
   "execution_count": 23,
   "id": "29ec137c-b010-4c73-bcd9-02cf584a2e87",
   "metadata": {},
   "outputs": [],
   "source": [
    "import hashlib"
   ]
  },
  {
   "cell_type": "code",
   "execution_count": 24,
   "id": "2d038f63-c907-404e-8c4e-f49e70f47aea",
   "metadata": {},
   "outputs": [],
   "source": [
    "#разобьем пользователей на 50 корзин методом хэширования \"с солью\" \n",
    "def ab_split(id, salt='exp_mess_1', n_groups=50):\n",
    "    test_id = str(id) + '-' + str(salt)\n",
    "    test_id_digest = hashlib.md5(test_id.encode('ascii')).hexdigest()\n",
    "    test_id_final_int = int(test_id_digest, 16)\n",
    "    return test_id_final_int % n_groups"
   ]
  },
  {
   "cell_type": "code",
   "execution_count": 25,
   "id": "2b8b6771-0f75-4574-be50-d63b74bc4592",
   "metadata": {},
   "outputs": [],
   "source": [
    "df['hash_group'] = df.user_id.apply(ab_split)"
   ]
  },
  {
   "cell_type": "code",
   "execution_count": 26,
   "id": "2778a3a8-99ee-48ce-87ab-32b2ecd0d5de",
   "metadata": {},
   "outputs": [
    {
     "data": {
      "text/html": [
       "<div>\n",
       "<style scoped>\n",
       "    .dataframe tbody tr th:only-of-type {\n",
       "        vertical-align: middle;\n",
       "    }\n",
       "\n",
       "    .dataframe tbody tr th {\n",
       "        vertical-align: top;\n",
       "    }\n",
       "\n",
       "    .dataframe thead th {\n",
       "        text-align: right;\n",
       "    }\n",
       "</style>\n",
       "<table border=\"1\" class=\"dataframe\">\n",
       "  <thead>\n",
       "    <tr style=\"text-align: right;\">\n",
       "      <th></th>\n",
       "      <th>exp_group</th>\n",
       "      <th>user_id</th>\n",
       "      <th>likes</th>\n",
       "      <th>views</th>\n",
       "      <th>ctr</th>\n",
       "      <th>hash_group</th>\n",
       "    </tr>\n",
       "  </thead>\n",
       "  <tbody>\n",
       "    <tr>\n",
       "      <th>0</th>\n",
       "      <td>1</td>\n",
       "      <td>109963</td>\n",
       "      <td>3</td>\n",
       "      <td>15</td>\n",
       "      <td>0.200000</td>\n",
       "      <td>10</td>\n",
       "    </tr>\n",
       "    <tr>\n",
       "      <th>1</th>\n",
       "      <td>1</td>\n",
       "      <td>26117</td>\n",
       "      <td>32</td>\n",
       "      <td>141</td>\n",
       "      <td>0.226950</td>\n",
       "      <td>19</td>\n",
       "    </tr>\n",
       "    <tr>\n",
       "      <th>2</th>\n",
       "      <td>1</td>\n",
       "      <td>138232</td>\n",
       "      <td>18</td>\n",
       "      <td>73</td>\n",
       "      <td>0.246575</td>\n",
       "      <td>31</td>\n",
       "    </tr>\n",
       "    <tr>\n",
       "      <th>3</th>\n",
       "      <td>1</td>\n",
       "      <td>26295</td>\n",
       "      <td>33</td>\n",
       "      <td>122</td>\n",
       "      <td>0.270492</td>\n",
       "      <td>14</td>\n",
       "    </tr>\n",
       "    <tr>\n",
       "      <th>4</th>\n",
       "      <td>1</td>\n",
       "      <td>18392</td>\n",
       "      <td>7</td>\n",
       "      <td>32</td>\n",
       "      <td>0.218750</td>\n",
       "      <td>1</td>\n",
       "    </tr>\n",
       "  </tbody>\n",
       "</table>\n",
       "</div>"
      ],
      "text/plain": [
       "   exp_group  user_id  likes  views       ctr  hash_group\n",
       "0          1   109963      3     15  0.200000          10\n",
       "1          1    26117     32    141  0.226950          19\n",
       "2          1   138232     18     73  0.246575          31\n",
       "3          1    26295     33    122  0.270492          14\n",
       "4          1    18392      7     32  0.218750           1"
      ]
     },
     "execution_count": 26,
     "metadata": {},
     "output_type": "execute_result"
    }
   ],
   "source": [
    "df.head()"
   ]
  },
  {
   "cell_type": "code",
   "execution_count": 27,
   "id": "83dcbb3d-5eb2-4cd4-aa9e-adcad4bf34b7",
   "metadata": {},
   "outputs": [
    {
     "data": {
      "text/html": [
       "<div>\n",
       "<style scoped>\n",
       "    .dataframe tbody tr th:only-of-type {\n",
       "        vertical-align: middle;\n",
       "    }\n",
       "\n",
       "    .dataframe tbody tr th {\n",
       "        vertical-align: top;\n",
       "    }\n",
       "\n",
       "    .dataframe thead th {\n",
       "        text-align: right;\n",
       "    }\n",
       "</style>\n",
       "<table border=\"1\" class=\"dataframe\">\n",
       "  <thead>\n",
       "    <tr style=\"text-align: right;\">\n",
       "      <th></th>\n",
       "      <th>hash_group</th>\n",
       "      <th>exp_group</th>\n",
       "      <th>likes</th>\n",
       "      <th>views</th>\n",
       "      <th>b_ctr</th>\n",
       "    </tr>\n",
       "  </thead>\n",
       "  <tbody>\n",
       "    <tr>\n",
       "      <th>0</th>\n",
       "      <td>0</td>\n",
       "      <td>1</td>\n",
       "      <td>2993</td>\n",
       "      <td>13872</td>\n",
       "      <td>0.215758</td>\n",
       "    </tr>\n",
       "    <tr>\n",
       "      <th>1</th>\n",
       "      <td>0</td>\n",
       "      <td>2</td>\n",
       "      <td>2399</td>\n",
       "      <td>11979</td>\n",
       "      <td>0.200267</td>\n",
       "    </tr>\n",
       "    <tr>\n",
       "      <th>2</th>\n",
       "      <td>1</td>\n",
       "      <td>1</td>\n",
       "      <td>2873</td>\n",
       "      <td>13602</td>\n",
       "      <td>0.211219</td>\n",
       "    </tr>\n",
       "    <tr>\n",
       "      <th>3</th>\n",
       "      <td>1</td>\n",
       "      <td>2</td>\n",
       "      <td>2183</td>\n",
       "      <td>12372</td>\n",
       "      <td>0.176447</td>\n",
       "    </tr>\n",
       "    <tr>\n",
       "      <th>4</th>\n",
       "      <td>2</td>\n",
       "      <td>1</td>\n",
       "      <td>3055</td>\n",
       "      <td>14802</td>\n",
       "      <td>0.206391</td>\n",
       "    </tr>\n",
       "  </tbody>\n",
       "</table>\n",
       "</div>"
      ],
      "text/plain": [
       "   hash_group  exp_group  likes  views     b_ctr\n",
       "0           0          1   2993  13872  0.215758\n",
       "1           0          2   2399  11979  0.200267\n",
       "2           1          1   2873  13602  0.211219\n",
       "3           1          2   2183  12372  0.176447\n",
       "4           2          1   3055  14802  0.206391"
      ]
     },
     "execution_count": 27,
     "metadata": {},
     "output_type": "execute_result"
    }
   ],
   "source": [
    "#сгруппируем пользователей по корзинам\n",
    "df5 = df.groupby(['hash_group','exp_group'], as_index=False).agg({'likes' : 'sum', 'views' : 'sum'})\n",
    "df5['b_ctr'] =  df5['likes']/df5['views']\n",
    "df5.head()"
   ]
  },
  {
   "cell_type": "code",
   "execution_count": 28,
   "id": "61b6cafb-00c0-47f8-a1e5-ce403435dad0",
   "metadata": {},
   "outputs": [
    {
     "data": {
      "text/plain": [
       "<AxesSubplot:xlabel='b_ctr', ylabel='Count'>"
      ]
     },
     "execution_count": 28,
     "metadata": {},
     "output_type": "execute_result"
    },
    {
     "data": {
      "image/png": "[encoded data removed]",
      "text/plain": [
       "<Figure size 842.4x595.44 with 1 Axes>"
      ]
     },
     "metadata": {},
     "output_type": "display_data"
    }
   ],
   "source": [
    "#посмотрим на гистограмму распределения бакетного ctr\n",
    "sns.histplot(df5.b_ctr)"
   ]
  },
  {
   "cell_type": "code",
   "execution_count": 29,
   "id": "3227f999-21e5-469d-891b-f49931a098a1",
   "metadata": {},
   "outputs": [
    {
     "data": {
      "text/plain": [
       "Ttest_indResult(statistic=5.741526456221474, pvalue=1.937624902064435e-07)"
      ]
     },
     "execution_count": 29,
     "metadata": {},
     "output_type": "execute_result"
    }
   ],
   "source": [
    "#распределение приблизительно напоминает нормальное \n",
    "#(соответственно, можно предположить, что и разница ctr будет походить на нормальное). \n",
    "#Применим t-тест. \n",
    "stats.ttest_ind(df5[df5.exp_group == 1].b_ctr,\n",
    "df5[df5.exp_group == 2].b_ctr,\n",
    "equal_var = False)"
   ]
  },
  {
   "cell_type": "markdown",
   "id": "3b06f76e-a65e-42a2-b5c1-53ced3ccbb2e",
   "metadata": {},
   "source": [
    "t-тест также фиксирует статистически значимую разницу между контрольной и тестовой группами"
   ]
  }
 ],
 "metadata": {
  "kernelspec": {
   "display_name": "Python 3 (ipykernel)",
   "language": "python",
   "name": "python3"
  },
  "language_info": {
   "codemirror_mode": {
    "name": "ipython",
    "version": 3
   },
   "file_extension": ".py",
   "mimetype": "text/x-python",
   "name": "python",
   "nbconvert_exporter": "python",
   "pygments_lexer": "ipython3",
   "version": "3.8.10"
  }
 },
 "nbformat": 4,
 "nbformat_minor": 5
}
