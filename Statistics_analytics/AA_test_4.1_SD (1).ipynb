{
 "cells": [
  {
   "cell_type": "markdown",
   "id": "3330433f-c8fe-45cf-a721-db24a4285dcb",
   "metadata": {},
   "source": [
    "**Задание:** *у нас есть данные АА-теста с '2022-11-25' по '2022-12-01'. Вам нужно сделать симуляцию, как будто мы провели 10000 АА-тестов. На каждой итерации вам нужно сформировать подвыборки без повторения в 500 юзеров из 2 и 3 экспериментальной группы. Провести сравнение этих подвыборок t-testом.*\n",
    "\n",
    "*1. Построить гистограмму распределения получившихся 10000 p-values.*\n",
    "\n",
    "*2. Посчитать, какой процент p values оказался меньше либо равен 0.05*\n",
    "\n",
    "*3. Написать вывод по проведенному АА-тесту, корректно ли работает наша система сплитования.*\n",
    "\n",
    "*4. Пришлите ссылку на merge request c проведенным анализом.*"
   ]
  },
  {
   "cell_type": "code",
   "execution_count": 1,
   "id": "710deb64-d080-46ff-ac55-277d88a54a41",
   "metadata": {},
   "outputs": [],
   "source": [
    "import pandas as pd\n",
    "import pandahouse as ph\n",
    "import numpy as np"
   ]
  },
  {
   "cell_type": "code",
   "execution_count": 2,
   "id": "79737e6f-8d24-4509-bc78-c4904cd58f22",
   "metadata": {},
   "outputs": [],
   "source": [
    "from tqdm import tqdm\n",
    "import scipy.stats as stats"
   ]
  },
  {
   "cell_type": "code",
   "execution_count": 3,
   "id": "da124d56-f07b-42cb-8463-9c22a59ddd83",
   "metadata": {},
   "outputs": [],
   "source": [
    "import matplotlib.pyplot as plt\n",
    "plt.style.use('dark_background')"
   ]
  },
  {
   "cell_type": "code",
   "execution_count": 4,
   "id": "2e87016b-1460-407a-8597-5a660a49a00b",
   "metadata": {},
   "outputs": [],
   "source": [
    "connection = {'host': 'https://clickhouse.lab.karpov.courses',\n",
    "                      'database':'simulator_20221220',\n",
    "                      'user':'student', \n",
    "                      'password':'dpo_python_2020'\n",
    "                     }"
   ]
  },
  {
   "cell_type": "code",
   "execution_count": 5,
   "id": "d0120e22-7e9d-4118-b7f8-8de43014f477",
   "metadata": {},
   "outputs": [
    {
     "data": {
      "text/html": [
       "<div>\n",
       "<style scoped>\n",
       "    .dataframe tbody tr th:only-of-type {\n",
       "        vertical-align: middle;\n",
       "    }\n",
       "\n",
       "    .dataframe tbody tr th {\n",
       "        vertical-align: top;\n",
       "    }\n",
       "\n",
       "    .dataframe thead th {\n",
       "        text-align: right;\n",
       "    }\n",
       "</style>\n",
       "<table border=\"1\" class=\"dataframe\">\n",
       "  <thead>\n",
       "    <tr style=\"text-align: right;\">\n",
       "      <th></th>\n",
       "      <th>exp_group</th>\n",
       "      <th>user_id</th>\n",
       "      <th>likes</th>\n",
       "      <th>views</th>\n",
       "      <th>ctr</th>\n",
       "    </tr>\n",
       "  </thead>\n",
       "  <tbody>\n",
       "    <tr>\n",
       "      <th>0</th>\n",
       "      <td>3</td>\n",
       "      <td>115383</td>\n",
       "      <td>11</td>\n",
       "      <td>36</td>\n",
       "      <td>0.305556</td>\n",
       "    </tr>\n",
       "    <tr>\n",
       "      <th>1</th>\n",
       "      <td>3</td>\n",
       "      <td>123580</td>\n",
       "      <td>15</td>\n",
       "      <td>92</td>\n",
       "      <td>0.163043</td>\n",
       "    </tr>\n",
       "    <tr>\n",
       "      <th>2</th>\n",
       "      <td>2</td>\n",
       "      <td>131473</td>\n",
       "      <td>26</td>\n",
       "      <td>148</td>\n",
       "      <td>0.175676</td>\n",
       "    </tr>\n",
       "    <tr>\n",
       "      <th>3</th>\n",
       "      <td>2</td>\n",
       "      <td>23985</td>\n",
       "      <td>12</td>\n",
       "      <td>66</td>\n",
       "      <td>0.181818</td>\n",
       "    </tr>\n",
       "    <tr>\n",
       "      <th>4</th>\n",
       "      <td>2</td>\n",
       "      <td>24523</td>\n",
       "      <td>17</td>\n",
       "      <td>120</td>\n",
       "      <td>0.141667</td>\n",
       "    </tr>\n",
       "  </tbody>\n",
       "</table>\n",
       "</div>"
      ],
      "text/plain": [
       "   exp_group  user_id  likes  views       ctr\n",
       "0          3   115383     11     36  0.305556\n",
       "1          3   123580     15     92  0.163043\n",
       "2          2   131473     26    148  0.175676\n",
       "3          2    23985     12     66  0.181818\n",
       "4          2    24523     17    120  0.141667"
      ]
     },
     "execution_count": 5,
     "metadata": {},
     "output_type": "execute_result"
    }
   ],
   "source": [
    "#загружаем данные за 25 ноября - 1 декабря по 2 и 3-ей экспериментальных групп\n",
    "q = \"\"\"\n",
    "SELECT exp_group,\n",
    "user_id,\n",
    "sum(action = 'like') as likes,\n",
    "sum(action = 'view') as views,\n",
    "likes/views as ctr\n",
    "FROM {db}.feed_actions\n",
    "WHERE toDate(time) between '2022-11-25' and '2022-12-01'\n",
    "and exp_group in (2,3)\n",
    "GROUP BY exp_group, user_id\n",
    "\"\"\"\n",
    "\n",
    "df = ph.read_clickhouse(q, connection=connection)\n",
    "df.head()"
   ]
  },
  {
   "cell_type": "code",
   "execution_count": 6,
   "id": "c3bdac88-2ead-4b19-b419-dcfcaab2579c",
   "metadata": {},
   "outputs": [],
   "source": [
    "'''отберем отдельно 2 и 3-ю группы'''\n",
    "df_1 = df[df['exp_group'] == 3].ctr\n",
    "df_2 = df[df['exp_group'] == 2].ctr"
   ]
  },
  {
   "cell_type": "code",
   "execution_count": 7,
   "id": "a65b8fff-0c1f-4776-9610-111e9bff8914",
   "metadata": {},
   "outputs": [],
   "source": [
    "'''напишем функцию, которая 10к раз создаст выборки по 500 экз из \n",
    "каждой группы, проведет t-тест для каждой пары выборок и на выходе \n",
    "вернет массив из полученных p-value по тестам'''\n",
    "def AA_test(df_1, df_2) -> list:\n",
    "    result = []\n",
    "    for _ in tqdm(range(10000)):\n",
    "        group_1 = df_1.sample(500, replace = False)\n",
    "        group_2 = df_2.sample(500, replace = False)\n",
    "        _, p = stats.ttest_ind(group_1, group_2, equal_var=False)\n",
    "        result.append(p)\n",
    "    return result    "
   ]
  },
  {
   "cell_type": "code",
   "execution_count": 8,
   "id": "1caf687a-b8af-4137-849a-fdd0d3b8f375",
   "metadata": {},
   "outputs": [
    {
     "name": "stderr",
     "output_type": "stream",
     "text": [
      "100%|██████████| 10000/10000 [00:15<00:00, 631.85it/s]\n"
     ]
    }
   ],
   "source": [
    "''' зададим зерно для воспроизводимости и активируем вышеприведенную \n",
    "функцию, используя в качестве аргументов ctr по 2 и 3ей группам'''\n",
    "np.random.seed(3)\n",
    "result = AA_test(df_1, df_2)"
   ]
  },
  {
   "cell_type": "code",
   "execution_count": 9,
   "id": "579bc422-b25f-4487-a484-c3e05c3262bb",
   "metadata": {},
   "outputs": [
    {
     "data": {
      "text/plain": [
       "<AxesSubplot:>"
      ]
     },
     "execution_count": 9,
     "metadata": {},
     "output_type": "execute_result"
    },
    {
     "data": {
      "image/png": "[encoded data removed]",
      "text/plain": [
       "<Figure size 432x288 with 1 Axes>"
      ]
     },
     "metadata": {},
     "output_type": "display_data"
    }
   ],
   "source": [
    "''' построим гистограмму, как просят по условию'''\n",
    "t = pd.Series(result)\n",
    "t.hist()"
   ]
  },
  {
   "cell_type": "code",
   "execution_count": 10,
   "id": "b721fc38-557f-45e5-8c8a-6c5a83e88618",
   "metadata": {},
   "outputs": [
    {
     "data": {
      "text/plain": [
       "0.0454"
      ]
     },
     "execution_count": 10,
     "metadata": {},
     "output_type": "execute_result"
    }
   ],
   "source": [
    "'''Определим какой процент p-value меньше 0.05'''\n",
    "(t<0.05).mean()"
   ]
  },
  {
   "cell_type": "markdown",
   "id": "1504c54e-adb5-4d2f-af8f-9e5acc85090b",
   "metadata": {},
   "source": [
    "**Вывод: с учетом того, что распределение p-value близко к равномерному (как видно из гистограммы выше), \n",
    "а также с учетом того, что в нашей симуляции процент значений c p-value<0.05 равно около 5%,\n",
    "следовательно, система сплитования работает корректно.**"
   ]
  }
 ],
 "metadata": {
  "kernelspec": {
   "display_name": "Python 3 (ipykernel)",
   "language": "python",
   "name": "python3"
  },
  "language_info": {
   "codemirror_mode": {
    "name": "ipython",
    "version": 3
   },
   "file_extension": ".py",
   "mimetype": "text/x-python",
   "name": "python",
   "nbconvert_exporter": "python",
   "pygments_lexer": "ipython3",
   "version": "3.8.10"
  }
 },
 "nbformat": 4,
 "nbformat_minor": 5
}
