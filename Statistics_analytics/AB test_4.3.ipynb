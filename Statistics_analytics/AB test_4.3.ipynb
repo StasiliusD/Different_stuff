{
 "cells": [
  {
   "cell_type": "markdown",
   "id": "c4bd5796-8b47-4a46-9ecb-c955c978652e",
   "metadata": {},
   "source": [
    "Считаем общий CTR в контрольной группе  𝐶𝑇𝑅𝑐𝑜𝑛𝑡𝑟𝑜𝑙=𝑠𝑢𝑚(𝑙𝑖𝑘𝑒𝑠)/𝑠𝑢𝑚(𝑣𝑖𝑒𝑤𝑠) \n",
    "Посчитаем в обеих группах поюзерную метрику  𝑙𝑖𝑛𝑒𝑎𝑟𝑖𝑧𝑒𝑑_𝑙𝑖𝑘𝑒𝑠=𝑙𝑖𝑘𝑒𝑠−𝐶𝑇𝑅𝑐𝑜𝑛𝑡𝑟𝑜𝑙∗𝑣𝑖𝑒𝑤𝑠 \n",
    "После чего сравним  t-тестом отличия в группах по метрике 𝑙𝑖𝑛𝑒𝑎𝑟𝑖𝑧𝑒𝑑_𝑙𝑖𝑘𝑒𝑠  \n",
    "Метод простой, гарантируется, что при приличном размере выборки (как у нас — подойдет) можно бесплатно увеличить чувствительность вашей метрики (или, по крайней мере, не сделать хуже). Как по мне, это ОЧЕНЬ круто.\n",
    "\n",
    "Задача\n",
    "\n",
    "Проанализируйте тест между группами 0 и 3 по метрике линеаризованных лайков. Видно ли отличие? Стало ли 𝑝−𝑣𝑎𝑙𝑢𝑒 меньше?\n",
    "Проанализируйте тест между группами 1 и 2 по метрике линеаризованных лайков. Видно ли отличие? Стало ли 𝑝−𝑣𝑎𝑙𝑢𝑒 меньше?"
   ]
  },
  {
   "cell_type": "code",
   "execution_count": 1,
   "id": "6b912e9d-3866-4428-adf7-0a53c75d0ab8",
   "metadata": {},
   "outputs": [],
   "source": [
    "import pandas as pd\n",
    "import numpy as np\n",
    "import pandahouse as ph\n",
    "import seaborn as sns\n",
    "import scipy.stats as stats\n",
    "import matplotlib.pyplot as plt\n",
    "plt.style.use('dark_background')"
   ]
  },
  {
   "cell_type": "code",
   "execution_count": 2,
   "id": "1c68c7b7-e1c2-4384-b1ae-1ee48aa9d07e",
   "metadata": {},
   "outputs": [],
   "source": [
    "import hashlib"
   ]
  },
  {
   "cell_type": "code",
   "execution_count": 3,
   "id": "2b0b2632-5dbe-49b2-9436-cc2a561d2830",
   "metadata": {},
   "outputs": [],
   "source": [
    "connection = {'host': 'https://clickhouse.lab.karpov.courses',\n",
    "                      'database':'simulator_20221220',\n",
    "                      'user':'student', \n",
    "                      'password':'dpo_python_2020'\n",
    "                     }"
   ]
  },
  {
   "cell_type": "code",
   "execution_count": 4,
   "id": "f81ea6dd-d963-4050-b8ba-07521e4604d3",
   "metadata": {},
   "outputs": [
    {
     "data": {
      "text/html": [
       "<div>\n",
       "<style scoped>\n",
       "    .dataframe tbody tr th:only-of-type {\n",
       "        vertical-align: middle;\n",
       "    }\n",
       "\n",
       "    .dataframe tbody tr th {\n",
       "        vertical-align: top;\n",
       "    }\n",
       "\n",
       "    .dataframe thead th {\n",
       "        text-align: right;\n",
       "    }\n",
       "</style>\n",
       "<table border=\"1\" class=\"dataframe\">\n",
       "  <thead>\n",
       "    <tr style=\"text-align: right;\">\n",
       "      <th></th>\n",
       "      <th>exp_group</th>\n",
       "      <th>user_id</th>\n",
       "      <th>likes</th>\n",
       "      <th>views</th>\n",
       "      <th>ctr</th>\n",
       "    </tr>\n",
       "  </thead>\n",
       "  <tbody>\n",
       "    <tr>\n",
       "      <th>0</th>\n",
       "      <td>3</td>\n",
       "      <td>115383</td>\n",
       "      <td>9</td>\n",
       "      <td>30</td>\n",
       "      <td>0.300000</td>\n",
       "    </tr>\n",
       "    <tr>\n",
       "      <th>1</th>\n",
       "      <td>1</td>\n",
       "      <td>18392</td>\n",
       "      <td>7</td>\n",
       "      <td>32</td>\n",
       "      <td>0.218750</td>\n",
       "    </tr>\n",
       "    <tr>\n",
       "      <th>2</th>\n",
       "      <td>3</td>\n",
       "      <td>123580</td>\n",
       "      <td>13</td>\n",
       "      <td>48</td>\n",
       "      <td>0.270833</td>\n",
       "    </tr>\n",
       "    <tr>\n",
       "      <th>3</th>\n",
       "      <td>2</td>\n",
       "      <td>131473</td>\n",
       "      <td>14</td>\n",
       "      <td>134</td>\n",
       "      <td>0.104478</td>\n",
       "    </tr>\n",
       "    <tr>\n",
       "      <th>4</th>\n",
       "      <td>2</td>\n",
       "      <td>32420</td>\n",
       "      <td>26</td>\n",
       "      <td>128</td>\n",
       "      <td>0.203125</td>\n",
       "    </tr>\n",
       "  </tbody>\n",
       "</table>\n",
       "</div>"
      ],
      "text/plain": [
       "   exp_group  user_id  likes  views       ctr\n",
       "0          3   115383      9     30  0.300000\n",
       "1          1    18392      7     32  0.218750\n",
       "2          3   123580     13     48  0.270833\n",
       "3          2   131473     14    134  0.104478\n",
       "4          2    32420     26    128  0.203125"
      ]
     },
     "execution_count": 4,
     "metadata": {},
     "output_type": "execute_result"
    }
   ],
   "source": [
    "#загружаем данные за 2 - 8 декабря для 0 - 3-й экспериментальных групп\n",
    "q = \"\"\"\n",
    "SELECT exp_group,\n",
    "user_id,\n",
    "sum(action = 'like') as likes,\n",
    "sum(action = 'view') as views,\n",
    "likes/views as ctr\n",
    "FROM {db}.feed_actions\n",
    "WHERE toDate(time) between '2022-12-02' and '2022-12-08'\n",
    "and exp_group in (0,1,2,3)\n",
    "GROUP BY exp_group, user_id\n",
    "\"\"\"\n",
    "\n",
    "df = ph.read_clickhouse(q, connection=connection)\n",
    "df.head()"
   ]
  },
  {
   "cell_type": "code",
   "execution_count": 5,
   "id": "8ada8b17-324f-40d0-b515-c4e0e2e285fe",
   "metadata": {},
   "outputs": [],
   "source": [
    "#рассчитаем вначале p-value гипотез о разноси ctr 0 и 3-ей группы, а также 1 и 2-й. \n",
    "#Воспользуемся бакетным преобразованием.\n",
    "def ab_split(id, salt='exp_mess_1', n_groups=50):\n",
    "    test_id = str(id) + '-' + str(salt)\n",
    "    test_id_digest = hashlib.md5(test_id.encode('ascii')).hexdigest()\n",
    "    test_id_final_int = int(test_id_digest, 16)\n",
    "    return test_id_final_int % n_groups"
   ]
  },
  {
   "cell_type": "code",
   "execution_count": 6,
   "id": "a6ef85b3-a985-4a76-a3d4-fce8d11818ad",
   "metadata": {},
   "outputs": [],
   "source": [
    "df['hash_group'] = df.user_id.apply(ab_split)"
   ]
  },
  {
   "cell_type": "code",
   "execution_count": 7,
   "id": "2dd8241e-0c7e-4089-b481-04c71239a332",
   "metadata": {},
   "outputs": [
    {
     "data": {
      "text/html": [
       "<div>\n",
       "<style scoped>\n",
       "    .dataframe tbody tr th:only-of-type {\n",
       "        vertical-align: middle;\n",
       "    }\n",
       "\n",
       "    .dataframe tbody tr th {\n",
       "        vertical-align: top;\n",
       "    }\n",
       "\n",
       "    .dataframe thead th {\n",
       "        text-align: right;\n",
       "    }\n",
       "</style>\n",
       "<table border=\"1\" class=\"dataframe\">\n",
       "  <thead>\n",
       "    <tr style=\"text-align: right;\">\n",
       "      <th></th>\n",
       "      <th>exp_group</th>\n",
       "      <th>user_id</th>\n",
       "      <th>likes</th>\n",
       "      <th>views</th>\n",
       "      <th>ctr</th>\n",
       "      <th>hash_group</th>\n",
       "    </tr>\n",
       "  </thead>\n",
       "  <tbody>\n",
       "    <tr>\n",
       "      <th>0</th>\n",
       "      <td>3</td>\n",
       "      <td>115383</td>\n",
       "      <td>9</td>\n",
       "      <td>30</td>\n",
       "      <td>0.300000</td>\n",
       "      <td>11</td>\n",
       "    </tr>\n",
       "    <tr>\n",
       "      <th>1</th>\n",
       "      <td>1</td>\n",
       "      <td>18392</td>\n",
       "      <td>7</td>\n",
       "      <td>32</td>\n",
       "      <td>0.218750</td>\n",
       "      <td>1</td>\n",
       "    </tr>\n",
       "    <tr>\n",
       "      <th>2</th>\n",
       "      <td>3</td>\n",
       "      <td>123580</td>\n",
       "      <td>13</td>\n",
       "      <td>48</td>\n",
       "      <td>0.270833</td>\n",
       "      <td>22</td>\n",
       "    </tr>\n",
       "    <tr>\n",
       "      <th>3</th>\n",
       "      <td>2</td>\n",
       "      <td>131473</td>\n",
       "      <td>14</td>\n",
       "      <td>134</td>\n",
       "      <td>0.104478</td>\n",
       "      <td>38</td>\n",
       "    </tr>\n",
       "    <tr>\n",
       "      <th>4</th>\n",
       "      <td>2</td>\n",
       "      <td>32420</td>\n",
       "      <td>26</td>\n",
       "      <td>128</td>\n",
       "      <td>0.203125</td>\n",
       "      <td>0</td>\n",
       "    </tr>\n",
       "  </tbody>\n",
       "</table>\n",
       "</div>"
      ],
      "text/plain": [
       "   exp_group  user_id  likes  views       ctr  hash_group\n",
       "0          3   115383      9     30  0.300000          11\n",
       "1          1    18392      7     32  0.218750           1\n",
       "2          3   123580     13     48  0.270833          22\n",
       "3          2   131473     14    134  0.104478          38\n",
       "4          2    32420     26    128  0.203125           0"
      ]
     },
     "execution_count": 7,
     "metadata": {},
     "output_type": "execute_result"
    }
   ],
   "source": [
    "df.head()"
   ]
  },
  {
   "cell_type": "code",
   "execution_count": 8,
   "id": "de737119-5eb2-4030-bfba-b67987b27eaa",
   "metadata": {},
   "outputs": [
    {
     "data": {
      "text/html": [
       "<div>\n",
       "<style scoped>\n",
       "    .dataframe tbody tr th:only-of-type {\n",
       "        vertical-align: middle;\n",
       "    }\n",
       "\n",
       "    .dataframe tbody tr th {\n",
       "        vertical-align: top;\n",
       "    }\n",
       "\n",
       "    .dataframe thead th {\n",
       "        text-align: right;\n",
       "    }\n",
       "</style>\n",
       "<table border=\"1\" class=\"dataframe\">\n",
       "  <thead>\n",
       "    <tr style=\"text-align: right;\">\n",
       "      <th></th>\n",
       "      <th>hash_group</th>\n",
       "      <th>exp_group</th>\n",
       "      <th>likes</th>\n",
       "      <th>views</th>\n",
       "      <th>b_ctr</th>\n",
       "    </tr>\n",
       "  </thead>\n",
       "  <tbody>\n",
       "    <tr>\n",
       "      <th>0</th>\n",
       "      <td>0</td>\n",
       "      <td>0</td>\n",
       "      <td>2708</td>\n",
       "      <td>13183</td>\n",
       "      <td>0.205416</td>\n",
       "    </tr>\n",
       "    <tr>\n",
       "      <th>1</th>\n",
       "      <td>0</td>\n",
       "      <td>1</td>\n",
       "      <td>2993</td>\n",
       "      <td>13872</td>\n",
       "      <td>0.215758</td>\n",
       "    </tr>\n",
       "    <tr>\n",
       "      <th>2</th>\n",
       "      <td>0</td>\n",
       "      <td>2</td>\n",
       "      <td>2399</td>\n",
       "      <td>11979</td>\n",
       "      <td>0.200267</td>\n",
       "    </tr>\n",
       "    <tr>\n",
       "      <th>3</th>\n",
       "      <td>0</td>\n",
       "      <td>3</td>\n",
       "      <td>2902</td>\n",
       "      <td>13440</td>\n",
       "      <td>0.215923</td>\n",
       "    </tr>\n",
       "    <tr>\n",
       "      <th>4</th>\n",
       "      <td>1</td>\n",
       "      <td>0</td>\n",
       "      <td>2926</td>\n",
       "      <td>14309</td>\n",
       "      <td>0.204487</td>\n",
       "    </tr>\n",
       "  </tbody>\n",
       "</table>\n",
       "</div>"
      ],
      "text/plain": [
       "   hash_group  exp_group  likes  views     b_ctr\n",
       "0           0          0   2708  13183  0.205416\n",
       "1           0          1   2993  13872  0.215758\n",
       "2           0          2   2399  11979  0.200267\n",
       "3           0          3   2902  13440  0.215923\n",
       "4           1          0   2926  14309  0.204487"
      ]
     },
     "execution_count": 8,
     "metadata": {},
     "output_type": "execute_result"
    }
   ],
   "source": [
    "#сгруппируем пользователей по корзинам\n",
    "df5 = df.groupby(['hash_group','exp_group'], as_index=False).agg({'likes' : 'sum', 'views' : 'sum'})\n",
    "df5['b_ctr'] =  df5['likes']/df5['views']\n",
    "df5.head()"
   ]
  },
  {
   "cell_type": "code",
   "execution_count": 9,
   "id": "2479233a-80ec-4b78-88dd-dea527b5b99e",
   "metadata": {},
   "outputs": [
    {
     "data": {
      "text/plain": [
       "<AxesSubplot:xlabel='b_ctr', ylabel='Count'>"
      ]
     },
     "execution_count": 9,
     "metadata": {},
     "output_type": "execute_result"
    },
    {
     "data": {
      "image/png": "[encoded data removed]",
      "text/plain": [
       "<Figure size 432x288 with 1 Axes>"
      ]
     },
     "metadata": {},
     "output_type": "display_data"
    }
   ],
   "source": [
    "sns.histplot(df5.b_ctr)"
   ]
  },
  {
   "cell_type": "code",
   "execution_count": 10,
   "id": "92be24b1-3861-4d66-a15f-b9b2fcd0ea03",
   "metadata": {},
   "outputs": [
    {
     "data": {
      "text/plain": [
       "1.8005651055483947e-16"
      ]
     },
     "execution_count": 10,
     "metadata": {},
     "output_type": "execute_result"
    }
   ],
   "source": [
    "#Распределение метрики не очень похоже на нормальное. Воспользуемся тестом Манна-Уитни\n",
    "#посчитаем p-value для разницы ctr 0й и 3й групп\n",
    "_, pval_03 = stats.mannwhitneyu(df5[df5.exp_group == 0].b_ctr,\n",
    "df5[df5.exp_group == 3].b_ctr,\n",
    "alternative = 'two-sided')\n",
    "pval_03"
   ]
  },
  {
   "cell_type": "code",
   "execution_count": 11,
   "id": "83bc326a-e798-4592-9ae0-9198707b7352",
   "metadata": {},
   "outputs": [
    {
     "data": {
      "text/plain": [
       "3.0771207101702053e-07"
      ]
     },
     "execution_count": 11,
     "metadata": {},
     "output_type": "execute_result"
    }
   ],
   "source": [
    "#посчитаем p-value для разницы ctr 1й и 2й групп\n",
    "_, pval_12 = stats.mannwhitneyu(df5[df5.exp_group == 1].b_ctr,\n",
    "df5[df5.exp_group == 2].b_ctr,\n",
    "alternative = 'two-sided')\n",
    "pval_12"
   ]
  },
  {
   "cell_type": "code",
   "execution_count": 12,
   "id": "6037aafc-eba0-43c5-81f2-7c7fcca669f1",
   "metadata": {},
   "outputs": [],
   "source": [
    "#Рассчитаем метрику linearized likes\n",
    "#выделим отдельно датафреймы с 0 и 3, а также 1 и 2й группами\n",
    "df_03 = df[(df['exp_group']==0) | (df['exp_group']==3)].copy()\n",
    "df_12 = df[(df['exp_group']==1) | (df['exp_group']==2)].copy()"
   ]
  },
  {
   "cell_type": "code",
   "execution_count": 13,
   "id": "9e61bb68-cb7a-4975-ad47-97e79f4baaf6",
   "metadata": {},
   "outputs": [
    {
     "data": {
      "text/plain": [
       "(0.20823612262916305, 0.20802680490126244)"
      ]
     },
     "execution_count": 13,
     "metadata": {},
     "output_type": "execute_result"
    }
   ],
   "source": [
    "#Рассчитаем групповой ctr контрольных групп\n",
    "df_03_ctr_contr = df_03[df_03['exp_group']==0].likes.sum()/df_03[df_03['exp_group']==0].views.sum()\n",
    "df_12_ctr_contr = df_12[df_12['exp_group']==1].likes.sum()/df_12[df_12['exp_group']==1].views.sum()\n",
    "df_03_ctr_contr, df_12_ctr_contr"
   ]
  },
  {
   "cell_type": "code",
   "execution_count": 14,
   "id": "d50e3c4c-c9ff-4f3e-af12-b8d80b87f0ca",
   "metadata": {},
   "outputs": [],
   "source": [
    "#Рассчитаем линеаризованный ctr, используя формулу из условия\n",
    "df_03['l_likes'] = df_03['likes'] - df_03_ctr_contr* df_03['views']\n",
    "df_12['l_likes'] = df_12['likes'] - df_12_ctr_contr* df_12['views']"
   ]
  },
  {
   "cell_type": "code",
   "execution_count": 15,
   "id": "9b2bdf51-04c7-49b5-bf7b-10c06b3e17ff",
   "metadata": {},
   "outputs": [
    {
     "data": {
      "text/plain": [
       "5.4914249479690016e-52"
      ]
     },
     "execution_count": 15,
     "metadata": {},
     "output_type": "execute_result"
    }
   ],
   "source": [
    "#Рассчитаем p_value по новой метрике t-тестом как указано в условии для 0 и 3 групп\n",
    "_, pval_03_lin = stats.ttest_ind(df_03[df_03.exp_group == 0].l_likes,\n",
    "df_03[df_03.exp_group == 3].l_likes,\n",
    "equal_var = False)\n",
    "pval_03_lin"
   ]
  },
  {
   "cell_type": "code",
   "execution_count": 16,
   "id": "a010888b-4673-4db5-a398-1c079f7baf83",
   "metadata": {},
   "outputs": [
    {
     "data": {
      "text/plain": [
       "9.439432187037644e-10"
      ]
     },
     "execution_count": 16,
     "metadata": {},
     "output_type": "execute_result"
    }
   ],
   "source": [
    "#Рассчитаем p_value для 1 и 2 групп\n",
    "_, pval_12_lin = stats.ttest_ind(df_12[df_12.exp_group == 1].l_likes,\n",
    "df_12[df_12.exp_group == 2].l_likes,\n",
    "equal_var = False)\n",
    "pval_12_lin"
   ]
  },
  {
   "cell_type": "code",
   "execution_count": 17,
   "id": "9e365198-d56f-4307-99c1-c171c4523142",
   "metadata": {},
   "outputs": [
    {
     "data": {
      "text/html": [
       "<div>\n",
       "<style scoped>\n",
       "    .dataframe tbody tr th:only-of-type {\n",
       "        vertical-align: middle;\n",
       "    }\n",
       "\n",
       "    .dataframe tbody tr th {\n",
       "        vertical-align: top;\n",
       "    }\n",
       "\n",
       "    .dataframe thead th {\n",
       "        text-align: right;\n",
       "    }\n",
       "</style>\n",
       "<table border=\"1\" class=\"dataframe\">\n",
       "  <thead>\n",
       "    <tr style=\"text-align: right;\">\n",
       "      <th></th>\n",
       "      <th>groups</th>\n",
       "      <th>pval_ctr_metric</th>\n",
       "      <th>pval_l_likes_metric</th>\n",
       "    </tr>\n",
       "  </thead>\n",
       "  <tbody>\n",
       "    <tr>\n",
       "      <th>0</th>\n",
       "      <td>0-3</td>\n",
       "      <td>1.8005651055483947e-16</td>\n",
       "      <td>5.4914249479690016e-52</td>\n",
       "    </tr>\n",
       "    <tr>\n",
       "      <th>1</th>\n",
       "      <td>1-2</td>\n",
       "      <td>3.0771207101702053e-07</td>\n",
       "      <td>9.439432187037644e-10</td>\n",
       "    </tr>\n",
       "  </tbody>\n",
       "</table>\n",
       "</div>"
      ],
      "text/plain": [
       "  groups         pval_ctr_metric     pval_l_likes_metric\n",
       "0    0-3  1.8005651055483947e-16  5.4914249479690016e-52\n",
       "1    1-2  3.0771207101702053e-07   9.439432187037644e-10"
      ]
     },
     "execution_count": 17,
     "metadata": {},
     "output_type": "execute_result"
    }
   ],
   "source": [
    "#Построим таблицу с pvalue по метрикам\n",
    "pd.DataFrame(np.array([['0-3', pval_03, pval_03_lin], \n",
    "                       ['1-2', pval_12, pval_12_lin]]), \n",
    "             columns=['groups', 'pval_ctr_metric', 'pval_l_likes_metric'])"
   ]
  },
  {
   "cell_type": "markdown",
   "id": "95357e58-66c1-449f-983f-10888ffa7fe6",
   "metadata": {},
   "source": [
    "**Вывод: Итоговые p-value при сравнении метрики ctr (для групп 0 и 3, а также 1 и 2) больше на несколько порядков, чем при использовании метрики линеаризованных лайков, что говорит о большей чувствительности метрики линеаризованных лайков.**"
   ]
  }
 ],
 "metadata": {
  "kernelspec": {
   "display_name": "Python 3 (ipykernel)",
   "language": "python",
   "name": "python3"
  },
  "language_info": {
   "codemirror_mode": {
    "name": "ipython",
    "version": 3
   },
   "file_extension": ".py",
   "mimetype": "text/x-python",
   "name": "python",
   "nbconvert_exporter": "python",
   "pygments_lexer": "ipython3",
   "version": "3.8.10"
  }
 },
 "nbformat": 4,
 "nbformat_minor": 5
}
