{
 "cells": [
  {
   "cell_type": "markdown",
   "metadata": {},
   "source": [
    "Данные\n",
    "\n",
    "Игра содержит особое событие – ивент, для прохождения которого пользователи могут тратить деньги. Группа дизайнеров решила поменять вид окошка покупки ивентовых продуктов. Чтобы оценить результат нововведения, провели АБ тест, разделив пользователей на две группы: контрольную и тестовую (с окошком нового типа).\n",
    "\n",
    "Задача\n",
    "Исследовать какая из АБ групп лучше себя показала. Результаты предоставить в понятной для широкой аудитории форме, сопроводив по необходимости графиками/дашбордами/числами. Колонки\n",
    "\n",
    "AbGroup – имя АБ группы: Control/Test\n",
    "user_id – id пользователя\n",
    "time_stamp – день события\n",
    "install_date – день установки приложения пользователем\n",
    "event_name – техническое название события (InAppPurchase - в случае покупки за деньги, ResourceSpend в случае покупки за игровую валюту)\n",
    "platform – платформа google / itunes\n",
    "network_name – пользователь установил игру по переходу с рекламы (Paid) или нет (Organic)\n",
    "country_name – страна пользователя\n",
    "InGameTime – сколько всего пользователь провел в игре секунд\n",
    "LastCompletedLevel – номер последнего пройденного уровня\n",
    "avg_energy_amount – сколько в среднем энергии было у пользователя за день\n",
    "revenue_on_event – ревеню, потраченное на покупку ивентовых продуктов\n",
    "revenue_on_other_activities – ревеню, потраченное на остальные продукты, включая золото\n",
    "gold_on_event – золото, потраченное на ивентный прогресс\n",
    "gold_on_other_activities – золото, потраченное на другие продукты"
   ]
  },
  {
   "cell_type": "markdown",
   "metadata": {},
   "source": [
    "*Грузим данные и библиотеки*"
   ]
  },
  {
   "cell_type": "code",
   "execution_count": 1,
   "metadata": {},
   "outputs": [],
   "source": [
    "import pandas as pd\n",
    "import numpy as np\n",
    "from tqdm import tqdm\n",
    "from scipy.stats import norm\n",
    "import matplotlib.pyplot as plt\n",
    "\n",
    "from tqdm.auto import tqdm\n",
    "\n",
    "plt.style.use('ggplot')"
   ]
  },
  {
   "cell_type": "code",
   "execution_count": 2,
   "metadata": {},
   "outputs": [],
   "source": [
    "from datetime import datetime, timedelta"
   ]
  },
  {
   "cell_type": "code",
   "execution_count": 3,
   "metadata": {},
   "outputs": [
    {
     "data": {
      "text/html": [
       "<div>\n",
       "<style scoped>\n",
       "    .dataframe tbody tr th:only-of-type {\n",
       "        vertical-align: middle;\n",
       "    }\n",
       "\n",
       "    .dataframe tbody tr th {\n",
       "        vertical-align: top;\n",
       "    }\n",
       "\n",
       "    .dataframe thead th {\n",
       "        text-align: right;\n",
       "    }\n",
       "</style>\n",
       "<table border=\"1\" class=\"dataframe\">\n",
       "  <thead>\n",
       "    <tr style=\"text-align: right;\">\n",
       "      <th></th>\n",
       "      <th>AbGroup</th>\n",
       "      <th>user_id</th>\n",
       "      <th>time_stamp</th>\n",
       "      <th>install_date</th>\n",
       "      <th>event_name</th>\n",
       "      <th>platform</th>\n",
       "      <th>network_name</th>\n",
       "      <th>country_name</th>\n",
       "      <th>InGameTime</th>\n",
       "      <th>LastCompletedLevel</th>\n",
       "      <th>avg_energy_amount</th>\n",
       "      <th>revenue_on_event</th>\n",
       "      <th>revenue_on_other_activities</th>\n",
       "      <th>gold_on_event</th>\n",
       "      <th>gold_on_other_activities</th>\n",
       "    </tr>\n",
       "  </thead>\n",
       "  <tbody>\n",
       "    <tr>\n",
       "      <th>0</th>\n",
       "      <td>Control</td>\n",
       "      <td>d60ebcaecff2dc1d360a8a41271e6fd8a902c107</td>\n",
       "      <td>2020-02-10</td>\n",
       "      <td>2019-11-10</td>\n",
       "      <td>ResourceSpend</td>\n",
       "      <td>itunes</td>\n",
       "      <td>Organic</td>\n",
       "      <td>United Kingdom of Great Britain and Northern I...</td>\n",
       "      <td>276180</td>\n",
       "      <td>345</td>\n",
       "      <td>54.0</td>\n",
       "      <td>0.0</td>\n",
       "      <td>0.0</td>\n",
       "      <td>NaN</td>\n",
       "      <td>NaN</td>\n",
       "    </tr>\n",
       "    <tr>\n",
       "      <th>1</th>\n",
       "      <td>Test</td>\n",
       "      <td>f6e385b0ab43d5aea9cfcc408aa84029a4ea5fdb</td>\n",
       "      <td>2020-03-04</td>\n",
       "      <td>2019-11-05</td>\n",
       "      <td>ResourceSpend</td>\n",
       "      <td>itunes</td>\n",
       "      <td>Paid</td>\n",
       "      <td>United States of America</td>\n",
       "      <td>166095</td>\n",
       "      <td>199</td>\n",
       "      <td>50.0</td>\n",
       "      <td>0.0</td>\n",
       "      <td>0.0</td>\n",
       "      <td>NaN</td>\n",
       "      <td>NaN</td>\n",
       "    </tr>\n",
       "    <tr>\n",
       "      <th>2</th>\n",
       "      <td>Control</td>\n",
       "      <td>a4c80c8524e2c11cc238553d7b02da01ce2aad66</td>\n",
       "      <td>2020-02-26</td>\n",
       "      <td>2020-01-02</td>\n",
       "      <td>ResourceSpend</td>\n",
       "      <td>itunes</td>\n",
       "      <td>Paid</td>\n",
       "      <td>Canada</td>\n",
       "      <td>240986</td>\n",
       "      <td>84</td>\n",
       "      <td>39.0</td>\n",
       "      <td>0.0</td>\n",
       "      <td>0.0</td>\n",
       "      <td>NaN</td>\n",
       "      <td>NaN</td>\n",
       "    </tr>\n",
       "    <tr>\n",
       "      <th>3</th>\n",
       "      <td>Control</td>\n",
       "      <td>7ea2e4599ae33760c307e254839317bd5b17a63c</td>\n",
       "      <td>2020-02-21</td>\n",
       "      <td>2020-01-13</td>\n",
       "      <td>ResourceSpend</td>\n",
       "      <td>itunes</td>\n",
       "      <td>Organic</td>\n",
       "      <td>France</td>\n",
       "      <td>989822</td>\n",
       "      <td>1176</td>\n",
       "      <td>21.0</td>\n",
       "      <td>0.0</td>\n",
       "      <td>0.0</td>\n",
       "      <td>NaN</td>\n",
       "      <td>NaN</td>\n",
       "    </tr>\n",
       "    <tr>\n",
       "      <th>4</th>\n",
       "      <td>Control</td>\n",
       "      <td>6495168982929360dc6d84bf0766d8963a7ddc41</td>\n",
       "      <td>2020-02-18</td>\n",
       "      <td>2020-02-05</td>\n",
       "      <td>ResourceSpend</td>\n",
       "      <td>itunes</td>\n",
       "      <td>Paid</td>\n",
       "      <td>Spain</td>\n",
       "      <td>52106</td>\n",
       "      <td>66</td>\n",
       "      <td>43.0</td>\n",
       "      <td>0.0</td>\n",
       "      <td>0.0</td>\n",
       "      <td>500.0</td>\n",
       "      <td>NaN</td>\n",
       "    </tr>\n",
       "    <tr>\n",
       "      <th>5</th>\n",
       "      <td>Control</td>\n",
       "      <td>203a74059afce17b1ae5e19cab1147faf8d20010</td>\n",
       "      <td>2020-02-21</td>\n",
       "      <td>2019-01-22</td>\n",
       "      <td>ResourceSpend</td>\n",
       "      <td>itunes</td>\n",
       "      <td>Paid</td>\n",
       "      <td>France</td>\n",
       "      <td>361720</td>\n",
       "      <td>1193</td>\n",
       "      <td>30.0</td>\n",
       "      <td>0.0</td>\n",
       "      <td>0.0</td>\n",
       "      <td>NaN</td>\n",
       "      <td>NaN</td>\n",
       "    </tr>\n",
       "    <tr>\n",
       "      <th>6</th>\n",
       "      <td>Control</td>\n",
       "      <td>faba7453a9c06c9e1bd039057cf4b72a36ee55a8</td>\n",
       "      <td>2020-02-28</td>\n",
       "      <td>2019-09-09</td>\n",
       "      <td>ResourceSpend</td>\n",
       "      <td>itunes</td>\n",
       "      <td>Paid</td>\n",
       "      <td>Germany</td>\n",
       "      <td>744718</td>\n",
       "      <td>893</td>\n",
       "      <td>29.0</td>\n",
       "      <td>0.0</td>\n",
       "      <td>0.0</td>\n",
       "      <td>NaN</td>\n",
       "      <td>NaN</td>\n",
       "    </tr>\n",
       "  </tbody>\n",
       "</table>\n",
       "</div>"
      ],
      "text/plain": [
       "   AbGroup                                   user_id  time_stamp install_date  \\\n",
       "0  Control  d60ebcaecff2dc1d360a8a41271e6fd8a902c107  2020-02-10   2019-11-10   \n",
       "1     Test  f6e385b0ab43d5aea9cfcc408aa84029a4ea5fdb  2020-03-04   2019-11-05   \n",
       "2  Control  a4c80c8524e2c11cc238553d7b02da01ce2aad66  2020-02-26   2020-01-02   \n",
       "3  Control  7ea2e4599ae33760c307e254839317bd5b17a63c  2020-02-21   2020-01-13   \n",
       "4  Control  6495168982929360dc6d84bf0766d8963a7ddc41  2020-02-18   2020-02-05   \n",
       "5  Control  203a74059afce17b1ae5e19cab1147faf8d20010  2020-02-21   2019-01-22   \n",
       "6  Control  faba7453a9c06c9e1bd039057cf4b72a36ee55a8  2020-02-28   2019-09-09   \n",
       "\n",
       "      event_name platform network_name  \\\n",
       "0  ResourceSpend   itunes      Organic   \n",
       "1  ResourceSpend   itunes         Paid   \n",
       "2  ResourceSpend   itunes         Paid   \n",
       "3  ResourceSpend   itunes      Organic   \n",
       "4  ResourceSpend   itunes         Paid   \n",
       "5  ResourceSpend   itunes         Paid   \n",
       "6  ResourceSpend   itunes         Paid   \n",
       "\n",
       "                                        country_name  InGameTime  \\\n",
       "0  United Kingdom of Great Britain and Northern I...      276180   \n",
       "1                           United States of America      166095   \n",
       "2                                             Canada      240986   \n",
       "3                                             France      989822   \n",
       "4                                              Spain       52106   \n",
       "5                                             France      361720   \n",
       "6                                            Germany      744718   \n",
       "\n",
       "   LastCompletedLevel  avg_energy_amount  revenue_on_event  \\\n",
       "0                 345               54.0               0.0   \n",
       "1                 199               50.0               0.0   \n",
       "2                  84               39.0               0.0   \n",
       "3                1176               21.0               0.0   \n",
       "4                  66               43.0               0.0   \n",
       "5                1193               30.0               0.0   \n",
       "6                 893               29.0               0.0   \n",
       "\n",
       "   revenue_on_other_activities  gold_on_event  gold_on_other_activities  \n",
       "0                          0.0            NaN                       NaN  \n",
       "1                          0.0            NaN                       NaN  \n",
       "2                          0.0            NaN                       NaN  \n",
       "3                          0.0            NaN                       NaN  \n",
       "4                          0.0          500.0                       NaN  \n",
       "5                          0.0            NaN                       NaN  \n",
       "6                          0.0            NaN                       NaN  "
      ]
     },
     "execution_count": 3,
     "metadata": {},
     "output_type": "execute_result"
    }
   ],
   "source": [
    "df = pd.read_csv('C:/Jupyter/test_task_product_analyst_2021_20210427.csv')\n",
    "df.head(7)"
   ]
  },
  {
   "cell_type": "code",
   "execution_count": 4,
   "metadata": {},
   "outputs": [
    {
     "data": {
      "text/plain": [
       "(696840, 15)"
      ]
     },
     "execution_count": 4,
     "metadata": {},
     "output_type": "execute_result"
    }
   ],
   "source": [
    "df.shape"
   ]
  },
  {
   "cell_type": "code",
   "execution_count": 62,
   "metadata": {},
   "outputs": [],
   "source": [
    "df_ab = df.AbGroup.value_counts()\n",
    "n_control = df_ab[0]\n",
    "n_test = df_ab[1]"
   ]
  },
  {
   "cell_type": "code",
   "execution_count": 63,
   "metadata": {},
   "outputs": [
    {
     "data": {
      "text/plain": [
       "(558070, 138770)"
      ]
     },
     "execution_count": 63,
     "metadata": {},
     "output_type": "execute_result"
    }
   ],
   "source": [
    "n_control, n_test"
   ]
  },
  {
   "cell_type": "code",
   "execution_count": 6,
   "metadata": {},
   "outputs": [
    {
     "data": {
      "text/plain": [
       "Index(['AbGroup', 'user_id', 'time_stamp', 'install_date', 'event_name',\n",
       "       'platform', 'network_name', 'country_name', 'InGameTime',\n",
       "       'LastCompletedLevel', 'avg_energy_amount', 'revenue_on_event',\n",
       "       'revenue_on_other_activities', 'gold_on_event',\n",
       "       'gold_on_other_activities'],\n",
       "      dtype='object')"
      ]
     },
     "execution_count": 6,
     "metadata": {},
     "output_type": "execute_result"
    }
   ],
   "source": [
    "df.columns"
   ]
  },
  {
   "cell_type": "code",
   "execution_count": 7,
   "metadata": {},
   "outputs": [
    {
     "name": "stdout",
     "output_type": "stream",
     "text": [
      "ResourceSpend    696840\n",
      "Name: event_name, dtype: int64\n",
      "itunes    696840\n",
      "Name: platform, dtype: int64\n",
      "Paid       439996\n",
      "Organic    256844\n",
      "Name: network_name, dtype: int64\n",
      "United Kingdom of Great Britain and Northern Ireland    186128\n",
      "Germany                                                 170723\n",
      "France                                                  158221\n",
      "Canada                                                   85545\n",
      "Spain                                                    78396\n",
      "                                                         ...  \n",
      "Guinea                                                       1\n",
      "Iceland                                                      1\n",
      "Gibraltar                                                    1\n",
      "Malawi                                                       1\n",
      "Cyprus                                                       1\n",
      "Name: country_name, Length: 115, dtype: int64\n"
     ]
    }
   ],
   "source": [
    "for i in df[['event_name','platform','network_name','country_name']]:\n",
    "    print(df[i].value_counts())"
   ]
  },
  {
   "cell_type": "code",
   "execution_count": 8,
   "metadata": {},
   "outputs": [
    {
     "data": {
      "text/plain": [
       "AbGroup                         object\n",
       "user_id                         object\n",
       "time_stamp                      object\n",
       "install_date                    object\n",
       "event_name                      object\n",
       "platform                        object\n",
       "network_name                    object\n",
       "country_name                    object\n",
       "InGameTime                       int64\n",
       "LastCompletedLevel               int64\n",
       "avg_energy_amount              float64\n",
       "revenue_on_event               float64\n",
       "revenue_on_other_activities    float64\n",
       "gold_on_event                  float64\n",
       "gold_on_other_activities       float64\n",
       "dtype: object"
      ]
     },
     "execution_count": 8,
     "metadata": {},
     "output_type": "execute_result"
    }
   ],
   "source": [
    "df.dtypes"
   ]
  },
  {
   "cell_type": "markdown",
   "metadata": {},
   "source": [
    "*Переводим временные данные в формат datetime*"
   ]
  },
  {
   "cell_type": "code",
   "execution_count": 9,
   "metadata": {},
   "outputs": [
    {
     "data": {
      "text/plain": [
       "AbGroup                                object\n",
       "user_id                                object\n",
       "time_stamp                     datetime64[ns]\n",
       "install_date                   datetime64[ns]\n",
       "event_name                             object\n",
       "platform                               object\n",
       "network_name                           object\n",
       "country_name                           object\n",
       "InGameTime                              int64\n",
       "LastCompletedLevel                      int64\n",
       "avg_energy_amount                     float64\n",
       "revenue_on_event                      float64\n",
       "revenue_on_other_activities           float64\n",
       "gold_on_event                         float64\n",
       "gold_on_other_activities              float64\n",
       "dtype: object"
      ]
     },
     "execution_count": 9,
     "metadata": {},
     "output_type": "execute_result"
    }
   ],
   "source": [
    "for i in df[['time_stamp','install_date']]:\n",
    "    df[i] = pd.to_datetime(df[i])\n",
    "df.dtypes    "
   ]
  },
  {
   "cell_type": "code",
   "execution_count": 10,
   "metadata": {},
   "outputs": [
    {
     "data": {
      "text/html": [
       "<div>\n",
       "<style scoped>\n",
       "    .dataframe tbody tr th:only-of-type {\n",
       "        vertical-align: middle;\n",
       "    }\n",
       "\n",
       "    .dataframe tbody tr th {\n",
       "        vertical-align: top;\n",
       "    }\n",
       "\n",
       "    .dataframe thead th {\n",
       "        text-align: right;\n",
       "    }\n",
       "</style>\n",
       "<table border=\"1\" class=\"dataframe\">\n",
       "  <thead>\n",
       "    <tr style=\"text-align: right;\">\n",
       "      <th></th>\n",
       "      <th>AbGroup</th>\n",
       "      <th>user_id</th>\n",
       "      <th>time_stamp</th>\n",
       "      <th>install_date</th>\n",
       "      <th>event_name</th>\n",
       "      <th>platform</th>\n",
       "      <th>network_name</th>\n",
       "      <th>country_name</th>\n",
       "      <th>InGameTime</th>\n",
       "      <th>LastCompletedLevel</th>\n",
       "      <th>avg_energy_amount</th>\n",
       "      <th>revenue_on_event</th>\n",
       "      <th>revenue_on_other_activities</th>\n",
       "      <th>gold_on_event</th>\n",
       "      <th>gold_on_other_activities</th>\n",
       "    </tr>\n",
       "  </thead>\n",
       "  <tbody>\n",
       "    <tr>\n",
       "      <th>0</th>\n",
       "      <td>Control</td>\n",
       "      <td>d60ebcaecff2dc1d360a8a41271e6fd8a902c107</td>\n",
       "      <td>2020-02-10</td>\n",
       "      <td>2019-11-10</td>\n",
       "      <td>ResourceSpend</td>\n",
       "      <td>itunes</td>\n",
       "      <td>Organic</td>\n",
       "      <td>United Kingdom of Great Britain and Northern I...</td>\n",
       "      <td>276180</td>\n",
       "      <td>345</td>\n",
       "      <td>54.0</td>\n",
       "      <td>0.0</td>\n",
       "      <td>0.0</td>\n",
       "      <td>NaN</td>\n",
       "      <td>NaN</td>\n",
       "    </tr>\n",
       "    <tr>\n",
       "      <th>1</th>\n",
       "      <td>Test</td>\n",
       "      <td>f6e385b0ab43d5aea9cfcc408aa84029a4ea5fdb</td>\n",
       "      <td>2020-03-04</td>\n",
       "      <td>2019-11-05</td>\n",
       "      <td>ResourceSpend</td>\n",
       "      <td>itunes</td>\n",
       "      <td>Paid</td>\n",
       "      <td>United States of America</td>\n",
       "      <td>166095</td>\n",
       "      <td>199</td>\n",
       "      <td>50.0</td>\n",
       "      <td>0.0</td>\n",
       "      <td>0.0</td>\n",
       "      <td>NaN</td>\n",
       "      <td>NaN</td>\n",
       "    </tr>\n",
       "    <tr>\n",
       "      <th>2</th>\n",
       "      <td>Control</td>\n",
       "      <td>a4c80c8524e2c11cc238553d7b02da01ce2aad66</td>\n",
       "      <td>2020-02-26</td>\n",
       "      <td>2020-01-02</td>\n",
       "      <td>ResourceSpend</td>\n",
       "      <td>itunes</td>\n",
       "      <td>Paid</td>\n",
       "      <td>Canada</td>\n",
       "      <td>240986</td>\n",
       "      <td>84</td>\n",
       "      <td>39.0</td>\n",
       "      <td>0.0</td>\n",
       "      <td>0.0</td>\n",
       "      <td>NaN</td>\n",
       "      <td>NaN</td>\n",
       "    </tr>\n",
       "    <tr>\n",
       "      <th>3</th>\n",
       "      <td>Control</td>\n",
       "      <td>7ea2e4599ae33760c307e254839317bd5b17a63c</td>\n",
       "      <td>2020-02-21</td>\n",
       "      <td>2020-01-13</td>\n",
       "      <td>ResourceSpend</td>\n",
       "      <td>itunes</td>\n",
       "      <td>Organic</td>\n",
       "      <td>France</td>\n",
       "      <td>989822</td>\n",
       "      <td>1176</td>\n",
       "      <td>21.0</td>\n",
       "      <td>0.0</td>\n",
       "      <td>0.0</td>\n",
       "      <td>NaN</td>\n",
       "      <td>NaN</td>\n",
       "    </tr>\n",
       "    <tr>\n",
       "      <th>4</th>\n",
       "      <td>Control</td>\n",
       "      <td>6495168982929360dc6d84bf0766d8963a7ddc41</td>\n",
       "      <td>2020-02-18</td>\n",
       "      <td>2020-02-05</td>\n",
       "      <td>ResourceSpend</td>\n",
       "      <td>itunes</td>\n",
       "      <td>Paid</td>\n",
       "      <td>Spain</td>\n",
       "      <td>52106</td>\n",
       "      <td>66</td>\n",
       "      <td>43.0</td>\n",
       "      <td>0.0</td>\n",
       "      <td>0.0</td>\n",
       "      <td>500.0</td>\n",
       "      <td>NaN</td>\n",
       "    </tr>\n",
       "  </tbody>\n",
       "</table>\n",
       "</div>"
      ],
      "text/plain": [
       "   AbGroup                                   user_id time_stamp install_date  \\\n",
       "0  Control  d60ebcaecff2dc1d360a8a41271e6fd8a902c107 2020-02-10   2019-11-10   \n",
       "1     Test  f6e385b0ab43d5aea9cfcc408aa84029a4ea5fdb 2020-03-04   2019-11-05   \n",
       "2  Control  a4c80c8524e2c11cc238553d7b02da01ce2aad66 2020-02-26   2020-01-02   \n",
       "3  Control  7ea2e4599ae33760c307e254839317bd5b17a63c 2020-02-21   2020-01-13   \n",
       "4  Control  6495168982929360dc6d84bf0766d8963a7ddc41 2020-02-18   2020-02-05   \n",
       "\n",
       "      event_name platform network_name  \\\n",
       "0  ResourceSpend   itunes      Organic   \n",
       "1  ResourceSpend   itunes         Paid   \n",
       "2  ResourceSpend   itunes         Paid   \n",
       "3  ResourceSpend   itunes      Organic   \n",
       "4  ResourceSpend   itunes         Paid   \n",
       "\n",
       "                                        country_name  InGameTime  \\\n",
       "0  United Kingdom of Great Britain and Northern I...      276180   \n",
       "1                           United States of America      166095   \n",
       "2                                             Canada      240986   \n",
       "3                                             France      989822   \n",
       "4                                              Spain       52106   \n",
       "\n",
       "   LastCompletedLevel  avg_energy_amount  revenue_on_event  \\\n",
       "0                 345               54.0               0.0   \n",
       "1                 199               50.0               0.0   \n",
       "2                  84               39.0               0.0   \n",
       "3                1176               21.0               0.0   \n",
       "4                  66               43.0               0.0   \n",
       "\n",
       "   revenue_on_other_activities  gold_on_event  gold_on_other_activities  \n",
       "0                          0.0            NaN                       NaN  \n",
       "1                          0.0            NaN                       NaN  \n",
       "2                          0.0            NaN                       NaN  \n",
       "3                          0.0            NaN                       NaN  \n",
       "4                          0.0          500.0                       NaN  "
      ]
     },
     "execution_count": 10,
     "metadata": {},
     "output_type": "execute_result"
    }
   ],
   "source": [
    "df.head()"
   ]
  },
  {
   "cell_type": "code",
   "execution_count": 11,
   "metadata": {},
   "outputs": [
    {
     "data": {
      "text/plain": [
       "AbGroup                             0\n",
       "user_id                             0\n",
       "time_stamp                          0\n",
       "install_date                        0\n",
       "event_name                          0\n",
       "platform                            0\n",
       "network_name                        0\n",
       "country_name                        0\n",
       "InGameTime                          0\n",
       "LastCompletedLevel                  0\n",
       "avg_energy_amount                   0\n",
       "revenue_on_event                    0\n",
       "revenue_on_other_activities         0\n",
       "gold_on_event                  651428\n",
       "gold_on_other_activities       528647\n",
       "dtype: int64"
      ]
     },
     "execution_count": 11,
     "metadata": {},
     "output_type": "execute_result"
    }
   ],
   "source": [
    "df.isnull().sum()"
   ]
  },
  {
   "cell_type": "markdown",
   "metadata": {},
   "source": [
    "*определим период тестирования*"
   ]
  },
  {
   "cell_type": "code",
   "execution_count": 12,
   "metadata": {},
   "outputs": [
    {
     "data": {
      "text/plain": [
       "(Timestamp('2020-02-06 00:00:00'), Timestamp('2020-03-04 00:00:00'))"
      ]
     },
     "execution_count": 12,
     "metadata": {},
     "output_type": "execute_result"
    }
   ],
   "source": [
    "min(df.time_stamp), max(df.time_stamp)"
   ]
  },
  {
   "cell_type": "code",
   "execution_count": 13,
   "metadata": {},
   "outputs": [
    {
     "data": {
      "text/plain": [
       "<AxesSubplot:>"
      ]
     },
     "execution_count": 13,
     "metadata": {},
     "output_type": "execute_result"
    },
    {
     "data": {
      "image/png": "[encoded data removed]",
      "text/plain": [
       "<Figure size 432x288 with 1 Axes>"
      ]
     },
     "metadata": {},
     "output_type": "display_data"
    }
   ],
   "source": [
    "df.revenue_on_event.hist()"
   ]
  },
  {
   "cell_type": "code",
   "execution_count": 14,
   "metadata": {},
   "outputs": [
    {
     "data": {
      "text/plain": [
       "(0.0, 0.0)"
      ]
     },
     "execution_count": 14,
     "metadata": {},
     "output_type": "execute_result"
    }
   ],
   "source": [
    "df[df['AbGroup']=='Control'].revenue_on_event.mean(),df[df['AbGroup']=='Test'].revenue_on_event.mean()"
   ]
  },
  {
   "cell_type": "code",
   "execution_count": 15,
   "metadata": {},
   "outputs": [
    {
     "data": {
      "text/plain": [
       "(0.0, 0.0)"
      ]
     },
     "execution_count": 15,
     "metadata": {},
     "output_type": "execute_result"
    }
   ],
   "source": [
    "df[df['AbGroup']=='Control'].revenue_on_other_activities.mean(), df[df['AbGroup']=='Test'].revenue_on_other_activities.mean()"
   ]
  },
  {
   "cell_type": "code",
   "execution_count": 16,
   "metadata": {},
   "outputs": [
    {
     "data": {
      "text/plain": [
       "((0, 15), (0, 15))"
      ]
     },
     "execution_count": 16,
     "metadata": {},
     "output_type": "execute_result"
    }
   ],
   "source": [
    "df[df['revenue_on_event']>0].shape, df[df['revenue_on_other_activities']>0].shape"
   ]
  },
  {
   "cell_type": "code",
   "execution_count": 17,
   "metadata": {},
   "outputs": [
    {
     "data": {
      "text/plain": [
       "<AxesSubplot:>"
      ]
     },
     "execution_count": 17,
     "metadata": {},
     "output_type": "execute_result"
    },
    {
     "data": {
      "image/png": "[encoded data removed]",
      "text/plain": [
       "<Figure size 432x288 with 1 Axes>"
      ]
     },
     "metadata": {},
     "output_type": "display_data"
    }
   ],
   "source": [
    "df.gold_on_event.hist()"
   ]
  },
  {
   "cell_type": "code",
   "execution_count": 18,
   "metadata": {},
   "outputs": [
    {
     "data": {
      "text/plain": [
       "(1965.2116583798038, 2104.6065046065046)"
      ]
     },
     "execution_count": 18,
     "metadata": {},
     "output_type": "execute_result"
    }
   ],
   "source": [
    "df[df['AbGroup']=='Control'].gold_on_event.mean(),df[df['AbGroup']=='Test'].gold_on_event.mean()"
   ]
  },
  {
   "cell_type": "code",
   "execution_count": 19,
   "metadata": {},
   "outputs": [
    {
     "data": {
      "text/plain": [
       "0.06516847482922909"
      ]
     },
     "execution_count": 19,
     "metadata": {},
     "output_type": "execute_result"
    }
   ],
   "source": [
    "(df.gold_on_event > 0).mean() "
   ]
  },
  {
   "cell_type": "code",
   "execution_count": 20,
   "metadata": {},
   "outputs": [
    {
     "data": {
      "text/html": [
       "<div>\n",
       "<style scoped>\n",
       "    .dataframe tbody tr th:only-of-type {\n",
       "        vertical-align: middle;\n",
       "    }\n",
       "\n",
       "    .dataframe tbody tr th {\n",
       "        vertical-align: top;\n",
       "    }\n",
       "\n",
       "    .dataframe thead th {\n",
       "        text-align: right;\n",
       "    }\n",
       "</style>\n",
       "<table border=\"1\" class=\"dataframe\">\n",
       "  <thead>\n",
       "    <tr style=\"text-align: right;\">\n",
       "      <th></th>\n",
       "      <th>AbGroup</th>\n",
       "      <th>user_id</th>\n",
       "      <th>time_stamp</th>\n",
       "      <th>install_date</th>\n",
       "      <th>event_name</th>\n",
       "      <th>platform</th>\n",
       "      <th>network_name</th>\n",
       "      <th>country_name</th>\n",
       "      <th>InGameTime</th>\n",
       "      <th>LastCompletedLevel</th>\n",
       "      <th>avg_energy_amount</th>\n",
       "      <th>revenue_on_event</th>\n",
       "      <th>revenue_on_other_activities</th>\n",
       "      <th>gold_on_event</th>\n",
       "      <th>gold_on_other_activities</th>\n",
       "    </tr>\n",
       "  </thead>\n",
       "  <tbody>\n",
       "    <tr>\n",
       "      <th>0</th>\n",
       "      <td>Control</td>\n",
       "      <td>d60ebcaecff2dc1d360a8a41271e6fd8a902c107</td>\n",
       "      <td>2020-02-10</td>\n",
       "      <td>2019-11-10</td>\n",
       "      <td>ResourceSpend</td>\n",
       "      <td>itunes</td>\n",
       "      <td>Organic</td>\n",
       "      <td>United Kingdom of Great Britain and Northern I...</td>\n",
       "      <td>276180</td>\n",
       "      <td>345</td>\n",
       "      <td>54.0</td>\n",
       "      <td>0.0</td>\n",
       "      <td>0.0</td>\n",
       "      <td>0.0</td>\n",
       "      <td>0.0</td>\n",
       "    </tr>\n",
       "    <tr>\n",
       "      <th>1</th>\n",
       "      <td>Test</td>\n",
       "      <td>f6e385b0ab43d5aea9cfcc408aa84029a4ea5fdb</td>\n",
       "      <td>2020-03-04</td>\n",
       "      <td>2019-11-05</td>\n",
       "      <td>ResourceSpend</td>\n",
       "      <td>itunes</td>\n",
       "      <td>Paid</td>\n",
       "      <td>United States of America</td>\n",
       "      <td>166095</td>\n",
       "      <td>199</td>\n",
       "      <td>50.0</td>\n",
       "      <td>0.0</td>\n",
       "      <td>0.0</td>\n",
       "      <td>0.0</td>\n",
       "      <td>0.0</td>\n",
       "    </tr>\n",
       "    <tr>\n",
       "      <th>2</th>\n",
       "      <td>Control</td>\n",
       "      <td>a4c80c8524e2c11cc238553d7b02da01ce2aad66</td>\n",
       "      <td>2020-02-26</td>\n",
       "      <td>2020-01-02</td>\n",
       "      <td>ResourceSpend</td>\n",
       "      <td>itunes</td>\n",
       "      <td>Paid</td>\n",
       "      <td>Canada</td>\n",
       "      <td>240986</td>\n",
       "      <td>84</td>\n",
       "      <td>39.0</td>\n",
       "      <td>0.0</td>\n",
       "      <td>0.0</td>\n",
       "      <td>0.0</td>\n",
       "      <td>0.0</td>\n",
       "    </tr>\n",
       "    <tr>\n",
       "      <th>3</th>\n",
       "      <td>Control</td>\n",
       "      <td>7ea2e4599ae33760c307e254839317bd5b17a63c</td>\n",
       "      <td>2020-02-21</td>\n",
       "      <td>2020-01-13</td>\n",
       "      <td>ResourceSpend</td>\n",
       "      <td>itunes</td>\n",
       "      <td>Organic</td>\n",
       "      <td>France</td>\n",
       "      <td>989822</td>\n",
       "      <td>1176</td>\n",
       "      <td>21.0</td>\n",
       "      <td>0.0</td>\n",
       "      <td>0.0</td>\n",
       "      <td>0.0</td>\n",
       "      <td>0.0</td>\n",
       "    </tr>\n",
       "    <tr>\n",
       "      <th>4</th>\n",
       "      <td>Control</td>\n",
       "      <td>6495168982929360dc6d84bf0766d8963a7ddc41</td>\n",
       "      <td>2020-02-18</td>\n",
       "      <td>2020-02-05</td>\n",
       "      <td>ResourceSpend</td>\n",
       "      <td>itunes</td>\n",
       "      <td>Paid</td>\n",
       "      <td>Spain</td>\n",
       "      <td>52106</td>\n",
       "      <td>66</td>\n",
       "      <td>43.0</td>\n",
       "      <td>0.0</td>\n",
       "      <td>0.0</td>\n",
       "      <td>500.0</td>\n",
       "      <td>0.0</td>\n",
       "    </tr>\n",
       "  </tbody>\n",
       "</table>\n",
       "</div>"
      ],
      "text/plain": [
       "   AbGroup                                   user_id time_stamp install_date  \\\n",
       "0  Control  d60ebcaecff2dc1d360a8a41271e6fd8a902c107 2020-02-10   2019-11-10   \n",
       "1     Test  f6e385b0ab43d5aea9cfcc408aa84029a4ea5fdb 2020-03-04   2019-11-05   \n",
       "2  Control  a4c80c8524e2c11cc238553d7b02da01ce2aad66 2020-02-26   2020-01-02   \n",
       "3  Control  7ea2e4599ae33760c307e254839317bd5b17a63c 2020-02-21   2020-01-13   \n",
       "4  Control  6495168982929360dc6d84bf0766d8963a7ddc41 2020-02-18   2020-02-05   \n",
       "\n",
       "      event_name platform network_name  \\\n",
       "0  ResourceSpend   itunes      Organic   \n",
       "1  ResourceSpend   itunes         Paid   \n",
       "2  ResourceSpend   itunes         Paid   \n",
       "3  ResourceSpend   itunes      Organic   \n",
       "4  ResourceSpend   itunes         Paid   \n",
       "\n",
       "                                        country_name  InGameTime  \\\n",
       "0  United Kingdom of Great Britain and Northern I...      276180   \n",
       "1                           United States of America      166095   \n",
       "2                                             Canada      240986   \n",
       "3                                             France      989822   \n",
       "4                                              Spain       52106   \n",
       "\n",
       "   LastCompletedLevel  avg_energy_amount  revenue_on_event  \\\n",
       "0                 345               54.0               0.0   \n",
       "1                 199               50.0               0.0   \n",
       "2                  84               39.0               0.0   \n",
       "3                1176               21.0               0.0   \n",
       "4                  66               43.0               0.0   \n",
       "\n",
       "   revenue_on_other_activities  gold_on_event  gold_on_other_activities  \n",
       "0                          0.0            0.0                       0.0  \n",
       "1                          0.0            0.0                       0.0  \n",
       "2                          0.0            0.0                       0.0  \n",
       "3                          0.0            0.0                       0.0  \n",
       "4                          0.0          500.0                       0.0  "
      ]
     },
     "execution_count": 20,
     "metadata": {},
     "output_type": "execute_result"
    }
   ],
   "source": [
    "df_1 = df.fillna(0)\n",
    "df_1.head()"
   ]
  },
  {
   "cell_type": "code",
   "execution_count": 26,
   "metadata": {},
   "outputs": [],
   "source": [
    "df_2 = df.groupby(['AbGroup','user_id']).agg({'gold_on_event' : ['sum', 'mean','median']})"
   ]
  },
  {
   "cell_type": "code",
   "execution_count": 27,
   "metadata": {},
   "outputs": [
    {
     "data": {
      "text/html": [
       "<div>\n",
       "<style scoped>\n",
       "    .dataframe tbody tr th:only-of-type {\n",
       "        vertical-align: middle;\n",
       "    }\n",
       "\n",
       "    .dataframe tbody tr th {\n",
       "        vertical-align: top;\n",
       "    }\n",
       "\n",
       "    .dataframe thead tr th {\n",
       "        text-align: left;\n",
       "    }\n",
       "\n",
       "    .dataframe thead tr:last-of-type th {\n",
       "        text-align: right;\n",
       "    }\n",
       "</style>\n",
       "<table border=\"1\" class=\"dataframe\">\n",
       "  <thead>\n",
       "    <tr>\n",
       "      <th></th>\n",
       "      <th></th>\n",
       "      <th colspan=\"3\" halign=\"left\">gold_on_event</th>\n",
       "    </tr>\n",
       "    <tr>\n",
       "      <th></th>\n",
       "      <th></th>\n",
       "      <th>sum</th>\n",
       "      <th>mean</th>\n",
       "      <th>median</th>\n",
       "    </tr>\n",
       "    <tr>\n",
       "      <th>AbGroup</th>\n",
       "      <th>user_id</th>\n",
       "      <th></th>\n",
       "      <th></th>\n",
       "      <th></th>\n",
       "    </tr>\n",
       "  </thead>\n",
       "  <tbody>\n",
       "    <tr>\n",
       "      <th rowspan=\"5\" valign=\"top\">Control</th>\n",
       "      <th>00000d6d79ec151d74c5b0c0705d9d9fe252fe83</th>\n",
       "      <td>0.0</td>\n",
       "      <td>NaN</td>\n",
       "      <td>NaN</td>\n",
       "    </tr>\n",
       "    <tr>\n",
       "      <th>000133682d2dcd90c1a9c8ca5e34a294f31af64f</th>\n",
       "      <td>2500.0</td>\n",
       "      <td>1250.0</td>\n",
       "      <td>1250.0</td>\n",
       "    </tr>\n",
       "    <tr>\n",
       "      <th>0001f13b0535b174bc7e36a1846c31c7a091c4b0</th>\n",
       "      <td>0.0</td>\n",
       "      <td>NaN</td>\n",
       "      <td>NaN</td>\n",
       "    </tr>\n",
       "    <tr>\n",
       "      <th>00030f76fdb923292f29dfd06dd5a4ac6e5aaa7e</th>\n",
       "      <td>0.0</td>\n",
       "      <td>NaN</td>\n",
       "      <td>NaN</td>\n",
       "    </tr>\n",
       "    <tr>\n",
       "      <th>00034f46e0922c7174676c439258e78aea4d6218</th>\n",
       "      <td>0.0</td>\n",
       "      <td>NaN</td>\n",
       "      <td>NaN</td>\n",
       "    </tr>\n",
       "  </tbody>\n",
       "</table>\n",
       "</div>"
      ],
      "text/plain": [
       "                                                 gold_on_event                \n",
       "                                                           sum    mean  median\n",
       "AbGroup user_id                                                               \n",
       "Control 00000d6d79ec151d74c5b0c0705d9d9fe252fe83           0.0     NaN     NaN\n",
       "        000133682d2dcd90c1a9c8ca5e34a294f31af64f        2500.0  1250.0  1250.0\n",
       "        0001f13b0535b174bc7e36a1846c31c7a091c4b0           0.0     NaN     NaN\n",
       "        00030f76fdb923292f29dfd06dd5a4ac6e5aaa7e           0.0     NaN     NaN\n",
       "        00034f46e0922c7174676c439258e78aea4d6218           0.0     NaN     NaN"
      ]
     },
     "execution_count": 27,
     "metadata": {},
     "output_type": "execute_result"
    }
   ],
   "source": [
    "df_2.head()"
   ]
  },
  {
   "cell_type": "code",
   "execution_count": 83,
   "metadata": {},
   "outputs": [
    {
     "data": {
      "text/html": [
       "<div>\n",
       "<style scoped>\n",
       "    .dataframe tbody tr th:only-of-type {\n",
       "        vertical-align: middle;\n",
       "    }\n",
       "\n",
       "    .dataframe tbody tr th {\n",
       "        vertical-align: top;\n",
       "    }\n",
       "\n",
       "    .dataframe thead tr th {\n",
       "        text-align: left;\n",
       "    }\n",
       "</style>\n",
       "<table border=\"1\" class=\"dataframe\">\n",
       "  <thead>\n",
       "    <tr>\n",
       "      <th></th>\n",
       "      <th>AbGroup</th>\n",
       "      <th colspan=\"2\" halign=\"left\">gold_on_event</th>\n",
       "    </tr>\n",
       "    <tr>\n",
       "      <th></th>\n",
       "      <th></th>\n",
       "      <th>mean</th>\n",
       "      <th>median</th>\n",
       "    </tr>\n",
       "  </thead>\n",
       "  <tbody>\n",
       "    <tr>\n",
       "      <th>0</th>\n",
       "      <td>Control</td>\n",
       "      <td>128.191087</td>\n",
       "      <td>0.0</td>\n",
       "    </tr>\n",
       "    <tr>\n",
       "      <th>1</th>\n",
       "      <td>Test</td>\n",
       "      <td>136.631837</td>\n",
       "      <td>0.0</td>\n",
       "    </tr>\n",
       "  </tbody>\n",
       "</table>\n",
       "</div>"
      ],
      "text/plain": [
       "   AbGroup gold_on_event       \n",
       "                    mean median\n",
       "0  Control    128.191087    0.0\n",
       "1     Test    136.631837    0.0"
      ]
     },
     "execution_count": 83,
     "metadata": {},
     "output_type": "execute_result"
    }
   ],
   "source": [
    "df_1.groupby('AbGroup', as_index=False).agg({'gold_on_event' : ['mean','median']})"
   ]
  },
  {
   "cell_type": "markdown",
   "metadata": {},
   "source": [
    "*H0 - средние контрольной и тестовой групп равные. H1 - не равны\n",
    "С учетом огромного количества 0-й будем смотреть средние (медианы будут равны 0 с учетом конверсии)*"
   ]
  },
  {
   "cell_type": "code",
   "execution_count": 38,
   "metadata": {},
   "outputs": [],
   "source": [
    "import scipy.stats"
   ]
  },
  {
   "cell_type": "code",
   "execution_count": 89,
   "metadata": {},
   "outputs": [],
   "source": [
    "control_s = df_1[df_1['AbGroup']=='Control'].gold_on_event\n",
    "test_s = df_1[df_1['AbGroup']=='Test'].gold_on_event"
   ]
  },
  {
   "cell_type": "code",
   "execution_count": 90,
   "metadata": {},
   "outputs": [],
   "source": [
    "def get_bootstrap(\n",
    "    data_column_1, # числовые значения первой выборки\n",
    "    data_column_2, # числовые значения второй выборки\n",
    "    boot_it = 1000, # количество бутстрэп-подвыборок\n",
    "    statistic = np.mean, # интересующая нас статистика\n",
    "    bootstrap_conf_level = 0.95 # уровень значимости\n",
    "):\n",
    "    boot_data = []\n",
    "    for i in tqdm(range(boot_it)): # извлекаем подвыборки\n",
    "        samples_1 = data_column_1.sample(\n",
    "            len(data_column_1), \n",
    "            replace = True # параметр возвращения\n",
    "        ).values\n",
    "        \n",
    "        samples_2 = data_column_2.sample(\n",
    "            len(data_column_1), \n",
    "            replace = True\n",
    "        ).values\n",
    "        \n",
    "        boot_data.append(statistic(samples_1)-statistic(samples_2)) # mean() - применяем статистику\n",
    "        \n",
    "    pd_boot_data = pd.DataFrame(boot_data)\n",
    "        \n",
    "    left_quant = (1 - bootstrap_conf_level)/2\n",
    "    right_quant = 1 - (1 - bootstrap_conf_level) / 2\n",
    "    quants = pd_boot_data.quantile([left_quant, right_quant])\n",
    "        \n",
    "    p_1 = scipy.stats.norm.cdf(\n",
    "        x = 0, \n",
    "        loc = np.mean(boot_data), \n",
    "        scale = np.std(boot_data)\n",
    "    )\n",
    "    p_2 = scipy.stats.norm.cdf(\n",
    "        x = 0, \n",
    "        loc = -np.mean(boot_data), \n",
    "        scale = np.std(boot_data)\n",
    "    )\n",
    "    p_value = min(p_1, p_2) * 2\n",
    "        \n",
    "    # Визуализация\n",
    "    _, _, bars = plt.hist(pd_boot_data[0], bins = 50)\n",
    "    for bar in bars:\n",
    "        if bar.get_x() <= quants.iloc[0][0] or bar.get_x() >= quants.iloc[1][0]:\n",
    "            bar.set_facecolor('red')\n",
    "        else: \n",
    "            bar.set_facecolor('grey')\n",
    "            bar.set_edgecolor('black')\n",
    "    \n",
    "    plt.style.use('ggplot')\n",
    "    plt.vlines(quants,ymin=0,ymax=50,linestyle='--')\n",
    "    plt.xlabel('boot_data')\n",
    "    plt.ylabel('frequency')\n",
    "    plt.title(\"Histogram of boot_data\")\n",
    "    plt.show()\n",
    "       \n",
    "    return {\"boot_data\": boot_data, \n",
    "            \"quants\": quants, \n",
    "            \"p_value\": p_value}"
   ]
  },
  {
   "cell_type": "code",
   "execution_count": 93,
   "metadata": {},
   "outputs": [
    {
     "data": {
      "application/vnd.jupyter.widget-view+json": {
       "model_id": "f7c2dc1f0d72448591393f821383e96b",
       "version_major": 2,
       "version_minor": 0
      },
      "text/plain": [
       "HBox(children=(HTML(value=''), FloatProgress(value=0.0, max=1000.0), HTML(value='')))"
      ]
     },
     "metadata": {},
     "output_type": "display_data"
    },
    {
     "name": "stdout",
     "output_type": "stream",
     "text": [
      "\n"
     ]
    },
    {
     "data": {
      "image/png": "[encoded data removed]",
      "text/plain": [
       "<Figure size 432x288 with 1 Axes>"
      ]
     },
     "metadata": {},
     "output_type": "display_data"
    }
   ],
   "source": [
    "booted_data = get_bootstrap(control_s, test_s, bootstrap_conf_level = 0.99) # в результате хранится разница двух распределений, ДИ и pvalue"
   ]
  },
  {
   "cell_type": "code",
   "execution_count": 94,
   "metadata": {},
   "outputs": [
    {
     "data": {
      "text/plain": [
       "0.00014625875243783504"
      ]
     },
     "execution_count": 94,
     "metadata": {},
     "output_type": "execute_result"
    }
   ],
   "source": [
    "booted_data[\"p_value\"] # альфа"
   ]
  },
  {
   "cell_type": "markdown",
   "metadata": {},
   "source": [
    "*Т.к. 0 не находится в границах доверительного интервала, считаем изменение статистически значимым!!\n",
    "Итоговый прирост трат золотых в среднем - 14 - 4 с учетом доверительного интервала 99%*"
   ]
  }
 ],
 "metadata": {
  "kernelspec": {
   "display_name": "Python 3",
   "language": "python",
   "name": "python3"
  },
  "language_info": {
   "codemirror_mode": {
    "name": "ipython",
    "version": 3
   },
   "file_extension": ".py",
   "mimetype": "text/x-python",
   "name": "python",
   "nbconvert_exporter": "python",
   "pygments_lexer": "ipython3",
   "version": "3.8.5"
  }
 },
 "nbformat": 4,
 "nbformat_minor": 4
}
