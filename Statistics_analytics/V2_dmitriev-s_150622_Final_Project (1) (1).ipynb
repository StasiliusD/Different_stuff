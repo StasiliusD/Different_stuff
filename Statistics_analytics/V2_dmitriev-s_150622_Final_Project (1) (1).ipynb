{
 "cells": [
  {
   "cell_type": "markdown",
   "metadata": {},
   "source": [
    "**ЗАДАЧА 1. A/B тест**"
   ]
  },
  {
   "cell_type": "markdown",
   "metadata": {},
   "source": [
    "Одной из основных задач аналитика в нашей команде является корректное проведение экспериментов. Для этого мы применяем метод A/B–тестирования. В ходе тестирования одной гипотезы целевой группе была предложена новая механика оплаты услуг на сайте, у контрольной группы оставалась базовая механика. В качестве задания Вам необходимо проанализировать итоги эксперимента и сделать вывод, стоит ли запускать новую механику оплаты на всех пользователей.\n",
    "\n",
    "Перечень обязательных вопросов (может быть больше):\n",
    "-На какие метрики Вы смотрите в ходе анализа и почему?\n",
    "-Имеются ли различия в показателях и с чем они могут быть связаны?\n",
    "-Являются ли эти различия статистически значимыми?\n",
    "-Стоит ли запускать новую механику на всех пользователей?"
   ]
  },
  {
   "cell_type": "code",
   "execution_count": 1,
   "metadata": {},
   "outputs": [],
   "source": [
    "# импортируем библиотеки, смотрим данные\n",
    "import pandas as pd\n",
    "import numpy as np\n",
    "import seaborn as sns\n",
    "import matplotlib.pyplot as plt\n",
    "import requests\n",
    "from urllib.parse import urlencode\n",
    "\n",
    "plt.style.use('dark_background')\n",
    "from IPython.display import display_html "
   ]
  },
  {
   "cell_type": "code",
   "execution_count": 2,
   "metadata": {},
   "outputs": [
    {
     "data": {
      "text/html": [
       "<div>\n",
       "<style scoped>\n",
       "    .dataframe tbody tr th:only-of-type {\n",
       "        vertical-align: middle;\n",
       "    }\n",
       "\n",
       "    .dataframe tbody tr th {\n",
       "        vertical-align: top;\n",
       "    }\n",
       "\n",
       "    .dataframe thead th {\n",
       "        text-align: right;\n",
       "    }\n",
       "</style>\n",
       "<table border=\"1\" class=\"dataframe\">\n",
       "  <thead>\n",
       "    <tr style=\"text-align: right;\">\n",
       "      <th></th>\n",
       "      <th>id</th>\n",
       "      <th>grp</th>\n",
       "    </tr>\n",
       "  </thead>\n",
       "  <tbody>\n",
       "    <tr>\n",
       "      <th>0</th>\n",
       "      <td>1489</td>\n",
       "      <td>B</td>\n",
       "    </tr>\n",
       "    <tr>\n",
       "      <th>1</th>\n",
       "      <td>1627</td>\n",
       "      <td>A</td>\n",
       "    </tr>\n",
       "    <tr>\n",
       "      <th>2</th>\n",
       "      <td>1768</td>\n",
       "      <td>B</td>\n",
       "    </tr>\n",
       "    <tr>\n",
       "      <th>3</th>\n",
       "      <td>1783</td>\n",
       "      <td>B</td>\n",
       "    </tr>\n",
       "  </tbody>\n",
       "</table>\n",
       "</div>"
      ],
      "text/plain": [
       "     id grp\n",
       "0  1489   B\n",
       "1  1627   A\n",
       "2  1768   B\n",
       "3  1783   B"
      ]
     },
     "execution_count": 2,
     "metadata": {},
     "output_type": "execute_result"
    }
   ],
   "source": [
    "# файл с информацией о принадлежности пользователя к контрольной или экспериментальной группе \n",
    "# (А – контроль, B – целевая группа)\n",
    "base_url = 'https://cloud-api.yandex.net/v1/disk/public/resources/download?'\n",
    "public_key = 'https://disk.yandex.ru/d/58Us0DWOzuWAjg'\n",
    "\n",
    "final_url = base_url + urlencode(dict(public_key= public_key))\n",
    "response = requests.get(final_url)\n",
    "download_url = response.json()['href']\n",
    "groups = pd.read_csv(download_url, sep= ';')\n",
    "groups.head(4)"
   ]
  },
  {
   "cell_type": "code",
   "execution_count": 3,
   "metadata": {},
   "outputs": [
    {
     "data": {
      "text/plain": [
       "id     0\n",
       "grp    0\n",
       "dtype: int64"
      ]
     },
     "execution_count": 3,
     "metadata": {},
     "output_type": "execute_result"
    }
   ],
   "source": [
    "# проверим ДФ на пустые значения\n",
    "groups.isnull().sum()"
   ]
  },
  {
   "cell_type": "code",
   "execution_count": 4,
   "metadata": {},
   "outputs": [
    {
     "data": {
      "text/plain": [
       "(74484, 2)"
      ]
     },
     "execution_count": 4,
     "metadata": {},
     "output_type": "execute_result"
    }
   ],
   "source": [
    "groups.shape"
   ]
  },
  {
   "cell_type": "code",
   "execution_count": 5,
   "metadata": {},
   "outputs": [
    {
     "data": {
      "text/plain": [
       "id     74484\n",
       "grp        2\n",
       "dtype: int64"
      ]
     },
     "execution_count": 5,
     "metadata": {},
     "output_type": "execute_result"
    }
   ],
   "source": [
    "groups.nunique()\n",
    "# Повторов нет"
   ]
  },
  {
   "cell_type": "code",
   "execution_count": 6,
   "metadata": {},
   "outputs": [
    {
     "data": {
      "text/html": [
       "<div>\n",
       "<style scoped>\n",
       "    .dataframe tbody tr th:only-of-type {\n",
       "        vertical-align: middle;\n",
       "    }\n",
       "\n",
       "    .dataframe tbody tr th {\n",
       "        vertical-align: top;\n",
       "    }\n",
       "\n",
       "    .dataframe thead th {\n",
       "        text-align: right;\n",
       "    }\n",
       "</style>\n",
       "<table border=\"1\" class=\"dataframe\">\n",
       "  <thead>\n",
       "    <tr style=\"text-align: right;\">\n",
       "      <th></th>\n",
       "      <th>id</th>\n",
       "      <th>grp</th>\n",
       "    </tr>\n",
       "  </thead>\n",
       "  <tbody>\n",
       "    <tr>\n",
       "      <th>0</th>\n",
       "      <td>5694584</td>\n",
       "      <td>B</td>\n",
       "    </tr>\n",
       "    <tr>\n",
       "      <th>1</th>\n",
       "      <td>5694830</td>\n",
       "      <td>B</td>\n",
       "    </tr>\n",
       "    <tr>\n",
       "      <th>2</th>\n",
       "      <td>5695057</td>\n",
       "      <td>B</td>\n",
       "    </tr>\n",
       "    <tr>\n",
       "      <th>3</th>\n",
       "      <td>5698872</td>\n",
       "      <td>B</td>\n",
       "    </tr>\n",
       "  </tbody>\n",
       "</table>\n",
       "</div>"
      ],
      "text/plain": [
       "        id grp\n",
       "0  5694584   B\n",
       "1  5694830   B\n",
       "2  5695057   B\n",
       "3  5698872   B"
      ]
     },
     "execution_count": 6,
     "metadata": {},
     "output_type": "execute_result"
    }
   ],
   "source": [
    "# дополнительный файл с пользователями, который вам прислали спустя 2 дня после передачи данных\n",
    "base_url = 'https://cloud-api.yandex.net/v1/disk/public/resources/download?'\n",
    "public_key = 'https://disk.yandex.ru/d/3aARY-P9pfaksg'\n",
    "\n",
    "final_url = base_url + urlencode(dict(public_key= public_key))\n",
    "response = requests.get(final_url)\n",
    "download_url = response.json()['href']\n",
    "groups_add = pd.read_csv(download_url, sep= ',')\n",
    "groups_add.head(4)"
   ]
  },
  {
   "cell_type": "code",
   "execution_count": 7,
   "metadata": {},
   "outputs": [
    {
     "data": {
      "text/plain": [
       "id     0\n",
       "grp    0\n",
       "dtype: int64"
      ]
     },
     "execution_count": 7,
     "metadata": {},
     "output_type": "execute_result"
    }
   ],
   "source": [
    "groups_add.isnull().sum()"
   ]
  },
  {
   "cell_type": "code",
   "execution_count": 8,
   "metadata": {},
   "outputs": [
    {
     "data": {
      "text/plain": [
       "(92, 2)"
      ]
     },
     "execution_count": 8,
     "metadata": {},
     "output_type": "execute_result"
    }
   ],
   "source": [
    "groups_add.shape"
   ]
  },
  {
   "cell_type": "code",
   "execution_count": 9,
   "metadata": {},
   "outputs": [
    {
     "data": {
      "text/plain": [
       "id     92\n",
       "grp     2\n",
       "dtype: int64"
      ]
     },
     "execution_count": 9,
     "metadata": {},
     "output_type": "execute_result"
    }
   ],
   "source": [
    "groups_add.nunique()"
   ]
  },
  {
   "cell_type": "code",
   "execution_count": 10,
   "metadata": {},
   "outputs": [
    {
     "data": {
      "text/html": [
       "<div>\n",
       "<style scoped>\n",
       "    .dataframe tbody tr th:only-of-type {\n",
       "        vertical-align: middle;\n",
       "    }\n",
       "\n",
       "    .dataframe tbody tr th {\n",
       "        vertical-align: top;\n",
       "    }\n",
       "\n",
       "    .dataframe thead th {\n",
       "        text-align: right;\n",
       "    }\n",
       "</style>\n",
       "<table border=\"1\" class=\"dataframe\">\n",
       "  <thead>\n",
       "    <tr style=\"text-align: right;\">\n",
       "      <th></th>\n",
       "      <th>id</th>\n",
       "      <th>grp</th>\n",
       "    </tr>\n",
       "  </thead>\n",
       "  <tbody>\n",
       "    <tr>\n",
       "      <th>0</th>\n",
       "      <td>1489</td>\n",
       "      <td>B</td>\n",
       "    </tr>\n",
       "    <tr>\n",
       "      <th>1</th>\n",
       "      <td>1627</td>\n",
       "      <td>A</td>\n",
       "    </tr>\n",
       "    <tr>\n",
       "      <th>2</th>\n",
       "      <td>1768</td>\n",
       "      <td>B</td>\n",
       "    </tr>\n",
       "    <tr>\n",
       "      <th>3</th>\n",
       "      <td>1783</td>\n",
       "      <td>B</td>\n",
       "    </tr>\n",
       "    <tr>\n",
       "      <th>4</th>\n",
       "      <td>1794</td>\n",
       "      <td>A</td>\n",
       "    </tr>\n",
       "  </tbody>\n",
       "</table>\n",
       "</div>"
      ],
      "text/plain": [
       "     id grp\n",
       "0  1489   B\n",
       "1  1627   A\n",
       "2  1768   B\n",
       "3  1783   B\n",
       "4  1794   A"
      ]
     },
     "execution_count": 10,
     "metadata": {},
     "output_type": "execute_result"
    }
   ],
   "source": [
    "# Объединим ДФы group и groups_add, чтобы получить данные обо всех пользователях\n",
    "all_groups = pd.concat([groups, groups_add])\n",
    "all_groups.head()"
   ]
  },
  {
   "cell_type": "code",
   "execution_count": 11,
   "metadata": {},
   "outputs": [
    {
     "data": {
      "text/plain": [
       "(74576, 2)"
      ]
     },
     "execution_count": 11,
     "metadata": {},
     "output_type": "execute_result"
    }
   ],
   "source": [
    "all_groups.shape\n",
    "# 74576 = 74484 + 92 - потерянных при объединении данных нет"
   ]
  },
  {
   "cell_type": "code",
   "execution_count": 12,
   "metadata": {},
   "outputs": [
    {
     "data": {
      "text/plain": [
       "B    0.80298\n",
       "A    0.19702\n",
       "Name: grp, dtype: float64"
      ]
     },
     "execution_count": 12,
     "metadata": {},
     "output_type": "execute_result"
    }
   ],
   "source": [
    "# Посмотрим на долю контрольной и тестовой групп\n",
    "all_groups.grp.value_counts(normalize=True)"
   ]
  },
  {
   "cell_type": "markdown",
   "metadata": {},
   "source": [
    "По итогу получен достаточно неожиданный результат. Доля целевой группы больше контрольной и составляет 80%. Не очень понятно, почему новый продукт аппробировали на 80% пользователей. \n",
    "В данной ситуации оптимальные доли контрольной и тестовой выборок были бы 50%/50%. В этом случае мощность теста была бы максимальная (по сравнению с другими соотношениями размеров выборок контрольной и тестовой групп), кроме того, мы бы не рисковали применить плохое новвоведение на дополнительных 30% пользователей."
   ]
  },
  {
   "cell_type": "code",
   "execution_count": 13,
   "metadata": {},
   "outputs": [
    {
     "data": {
      "text/html": [
       "<div>\n",
       "<style scoped>\n",
       "    .dataframe tbody tr th:only-of-type {\n",
       "        vertical-align: middle;\n",
       "    }\n",
       "\n",
       "    .dataframe tbody tr th {\n",
       "        vertical-align: top;\n",
       "    }\n",
       "\n",
       "    .dataframe thead th {\n",
       "        text-align: right;\n",
       "    }\n",
       "</style>\n",
       "<table border=\"1\" class=\"dataframe\">\n",
       "  <thead>\n",
       "    <tr style=\"text-align: right;\">\n",
       "      <th></th>\n",
       "      <th>student_id</th>\n",
       "    </tr>\n",
       "  </thead>\n",
       "  <tbody>\n",
       "    <tr>\n",
       "      <th>0</th>\n",
       "      <td>581585</td>\n",
       "    </tr>\n",
       "    <tr>\n",
       "      <th>1</th>\n",
       "      <td>5723133</td>\n",
       "    </tr>\n",
       "    <tr>\n",
       "      <th>2</th>\n",
       "      <td>3276743</td>\n",
       "    </tr>\n",
       "    <tr>\n",
       "      <th>3</th>\n",
       "      <td>4238589</td>\n",
       "    </tr>\n",
       "  </tbody>\n",
       "</table>\n",
       "</div>"
      ],
      "text/plain": [
       "   student_id\n",
       "0      581585\n",
       "1     5723133\n",
       "2     3276743\n",
       "3     4238589"
      ]
     },
     "execution_count": 13,
     "metadata": {},
     "output_type": "execute_result"
    }
   ],
   "source": [
    "# файл с информацией о пользователях, которые зашли на платформу в дни проведения эксперимента. \n",
    "base_url = 'https://cloud-api.yandex.net/v1/disk/public/resources/download?'\n",
    "public_key = 'https://disk.yandex.ru/d/prbgU-rZpiXVYg'\n",
    "\n",
    "final_url = base_url + urlencode(dict(public_key= public_key))\n",
    "response = requests.get(final_url)\n",
    "download_url = response.json()['href']\n",
    "active_studs = pd.read_csv(download_url, sep= ',')\n",
    "active_studs.head(4)"
   ]
  },
  {
   "cell_type": "code",
   "execution_count": 14,
   "metadata": {},
   "outputs": [
    {
     "data": {
      "text/plain": [
       "student_id    0\n",
       "dtype: int64"
      ]
     },
     "execution_count": 14,
     "metadata": {},
     "output_type": "execute_result"
    }
   ],
   "source": [
    "active_studs.isnull().sum()"
   ]
  },
  {
   "cell_type": "code",
   "execution_count": 15,
   "metadata": {},
   "outputs": [
    {
     "data": {
      "text/plain": [
       "(8341, 1)"
      ]
     },
     "execution_count": 15,
     "metadata": {},
     "output_type": "execute_result"
    }
   ],
   "source": [
    "active_studs.shape"
   ]
  },
  {
   "cell_type": "code",
   "execution_count": 16,
   "metadata": {},
   "outputs": [
    {
     "data": {
      "text/plain": [
       "student_id    8341\n",
       "dtype: int64"
      ]
     },
     "execution_count": 16,
     "metadata": {},
     "output_type": "execute_result"
    }
   ],
   "source": [
    "active_studs.nunique()"
   ]
  },
  {
   "cell_type": "markdown",
   "metadata": {},
   "source": [
    "По условию задачи А/B тест проводится с целью оценки новой механики оплаты на сайте. Для дальнейшего статистического анализа нас интересуют только те данные, которые были получены в ходе эксперимента. Т.е. нас интересуют только те пользователи, которые заходили на платформу в день проведения эксперимента. "
   ]
  },
  {
   "cell_type": "code",
   "execution_count": 17,
   "metadata": {},
   "outputs": [
    {
     "data": {
      "text/html": [
       "<div>\n",
       "<style scoped>\n",
       "    .dataframe tbody tr th:only-of-type {\n",
       "        vertical-align: middle;\n",
       "    }\n",
       "\n",
       "    .dataframe tbody tr th {\n",
       "        vertical-align: top;\n",
       "    }\n",
       "\n",
       "    .dataframe thead th {\n",
       "        text-align: right;\n",
       "    }\n",
       "</style>\n",
       "<table border=\"1\" class=\"dataframe\">\n",
       "  <thead>\n",
       "    <tr style=\"text-align: right;\">\n",
       "      <th></th>\n",
       "      <th>id</th>\n",
       "    </tr>\n",
       "  </thead>\n",
       "  <tbody>\n",
       "    <tr>\n",
       "      <th>0</th>\n",
       "      <td>581585</td>\n",
       "    </tr>\n",
       "  </tbody>\n",
       "</table>\n",
       "</div>"
      ],
      "text/plain": [
       "       id\n",
       "0  581585"
      ]
     },
     "execution_count": 17,
     "metadata": {},
     "output_type": "execute_result"
    }
   ],
   "source": [
    "# Переименуем колонку для удобства дальнейшего объединия\n",
    "active_studs = active_studs.rename(columns= {'student_id': 'id'})\n",
    "active_studs.head(1)"
   ]
  },
  {
   "cell_type": "code",
   "execution_count": 18,
   "metadata": {},
   "outputs": [
    {
     "data": {
      "text/html": [
       "<div>\n",
       "<style scoped>\n",
       "    .dataframe tbody tr th:only-of-type {\n",
       "        vertical-align: middle;\n",
       "    }\n",
       "\n",
       "    .dataframe tbody tr th {\n",
       "        vertical-align: top;\n",
       "    }\n",
       "\n",
       "    .dataframe thead th {\n",
       "        text-align: right;\n",
       "    }\n",
       "</style>\n",
       "<table border=\"1\" class=\"dataframe\">\n",
       "  <thead>\n",
       "    <tr style=\"text-align: right;\">\n",
       "      <th></th>\n",
       "      <th>id</th>\n",
       "      <th>grp</th>\n",
       "    </tr>\n",
       "  </thead>\n",
       "  <tbody>\n",
       "    <tr>\n",
       "      <th>0</th>\n",
       "      <td>581585</td>\n",
       "      <td>A</td>\n",
       "    </tr>\n",
       "    <tr>\n",
       "      <th>1</th>\n",
       "      <td>5723133</td>\n",
       "      <td>A</td>\n",
       "    </tr>\n",
       "    <tr>\n",
       "      <th>2</th>\n",
       "      <td>3276743</td>\n",
       "      <td>B</td>\n",
       "    </tr>\n",
       "    <tr>\n",
       "      <th>3</th>\n",
       "      <td>4238589</td>\n",
       "      <td>A</td>\n",
       "    </tr>\n",
       "    <tr>\n",
       "      <th>4</th>\n",
       "      <td>4475369</td>\n",
       "      <td>B</td>\n",
       "    </tr>\n",
       "    <tr>\n",
       "      <th>...</th>\n",
       "      <td>...</td>\n",
       "      <td>...</td>\n",
       "    </tr>\n",
       "    <tr>\n",
       "      <th>8336</th>\n",
       "      <td>1794344</td>\n",
       "      <td>B</td>\n",
       "    </tr>\n",
       "    <tr>\n",
       "      <th>8337</th>\n",
       "      <td>296883</td>\n",
       "      <td>B</td>\n",
       "    </tr>\n",
       "    <tr>\n",
       "      <th>8338</th>\n",
       "      <td>3598448</td>\n",
       "      <td>B</td>\n",
       "    </tr>\n",
       "    <tr>\n",
       "      <th>8339</th>\n",
       "      <td>3610547</td>\n",
       "      <td>B</td>\n",
       "    </tr>\n",
       "    <tr>\n",
       "      <th>8340</th>\n",
       "      <td>205705</td>\n",
       "      <td>B</td>\n",
       "    </tr>\n",
       "  </tbody>\n",
       "</table>\n",
       "<p>8341 rows × 2 columns</p>\n",
       "</div>"
      ],
      "text/plain": [
       "           id grp\n",
       "0      581585   A\n",
       "1     5723133   A\n",
       "2     3276743   B\n",
       "3     4238589   A\n",
       "4     4475369   B\n",
       "...       ...  ..\n",
       "8336  1794344   B\n",
       "8337   296883   B\n",
       "8338  3598448   B\n",
       "8339  3610547   B\n",
       "8340   205705   B\n",
       "\n",
       "[8341 rows x 2 columns]"
      ]
     },
     "execution_count": 18,
     "metadata": {},
     "output_type": "execute_result"
    }
   ],
   "source": [
    "# Объединяем данные, оставляя пользователей, которые заходили на платформу в день эксперимента\n",
    "exp_groups = active_studs.merge(all_groups, how='left')\n",
    "exp_groups"
   ]
  },
  {
   "cell_type": "code",
   "execution_count": 19,
   "metadata": {},
   "outputs": [
    {
     "data": {
      "text/plain": [
       "B    0.81561\n",
       "A    0.18439\n",
       "Name: grp, dtype: float64"
      ]
     },
     "execution_count": 19,
     "metadata": {},
     "output_type": "execute_result"
    }
   ],
   "source": [
    "exp_groups.grp.value_counts(normalize=True)"
   ]
  },
  {
   "cell_type": "code",
   "execution_count": 20,
   "metadata": {},
   "outputs": [
    {
     "data": {
      "text/html": [
       "<div>\n",
       "<style scoped>\n",
       "    .dataframe tbody tr th:only-of-type {\n",
       "        vertical-align: middle;\n",
       "    }\n",
       "\n",
       "    .dataframe tbody tr th {\n",
       "        vertical-align: top;\n",
       "    }\n",
       "\n",
       "    .dataframe thead th {\n",
       "        text-align: right;\n",
       "    }\n",
       "</style>\n",
       "<table border=\"1\" class=\"dataframe\">\n",
       "  <thead>\n",
       "    <tr style=\"text-align: right;\">\n",
       "      <th></th>\n",
       "      <th>student_id</th>\n",
       "      <th>rev</th>\n",
       "    </tr>\n",
       "  </thead>\n",
       "  <tbody>\n",
       "    <tr>\n",
       "      <th>0</th>\n",
       "      <td>1627</td>\n",
       "      <td>990.0</td>\n",
       "    </tr>\n",
       "    <tr>\n",
       "      <th>1</th>\n",
       "      <td>3185</td>\n",
       "      <td>690.0</td>\n",
       "    </tr>\n",
       "    <tr>\n",
       "      <th>2</th>\n",
       "      <td>25973</td>\n",
       "      <td>690.0</td>\n",
       "    </tr>\n",
       "    <tr>\n",
       "      <th>3</th>\n",
       "      <td>26280</td>\n",
       "      <td>690.0</td>\n",
       "    </tr>\n",
       "  </tbody>\n",
       "</table>\n",
       "</div>"
      ],
      "text/plain": [
       "   student_id    rev\n",
       "0        1627  990.0\n",
       "1        3185  690.0\n",
       "2       25973  690.0\n",
       "3       26280  690.0"
      ]
     },
     "execution_count": 20,
     "metadata": {},
     "output_type": "execute_result"
    }
   ],
   "source": [
    "# файл с информацией об оплатах пользователей в дни проведения эксперимента\n",
    "base_url = 'https://cloud-api.yandex.net/v1/disk/public/resources/download?'\n",
    "public_key = 'https://disk.yandex.ru/d/84hTmELphW2sqQ'\n",
    "\n",
    "final_url = base_url + urlencode(dict(public_key= public_key))\n",
    "response = requests.get(final_url)\n",
    "download_url = response.json()['href']\n",
    "checks = pd.read_csv(download_url, sep= ';')\n",
    "checks.head(4)"
   ]
  },
  {
   "cell_type": "code",
   "execution_count": 21,
   "metadata": {},
   "outputs": [
    {
     "data": {
      "text/plain": [
       "student_id    0\n",
       "rev           0\n",
       "dtype: int64"
      ]
     },
     "execution_count": 21,
     "metadata": {},
     "output_type": "execute_result"
    }
   ],
   "source": [
    "checks.isnull().sum()"
   ]
  },
  {
   "cell_type": "code",
   "execution_count": 22,
   "metadata": {},
   "outputs": [
    {
     "data": {
      "text/plain": [
       "(541, 2)"
      ]
     },
     "execution_count": 22,
     "metadata": {},
     "output_type": "execute_result"
    }
   ],
   "source": [
    "checks.shape"
   ]
  },
  {
   "cell_type": "code",
   "execution_count": 23,
   "metadata": {},
   "outputs": [
    {
     "data": {
      "text/plain": [
       "541"
      ]
     },
     "execution_count": 23,
     "metadata": {},
     "output_type": "execute_result"
    }
   ],
   "source": [
    "checks.student_id.nunique()"
   ]
  },
  {
   "cell_type": "code",
   "execution_count": 24,
   "metadata": {},
   "outputs": [
    {
     "data": {
      "text/html": [
       "<div>\n",
       "<style scoped>\n",
       "    .dataframe tbody tr th:only-of-type {\n",
       "        vertical-align: middle;\n",
       "    }\n",
       "\n",
       "    .dataframe tbody tr th {\n",
       "        vertical-align: top;\n",
       "    }\n",
       "\n",
       "    .dataframe thead th {\n",
       "        text-align: right;\n",
       "    }\n",
       "</style>\n",
       "<table border=\"1\" class=\"dataframe\">\n",
       "  <thead>\n",
       "    <tr style=\"text-align: right;\">\n",
       "      <th></th>\n",
       "      <th>id</th>\n",
       "      <th>rev</th>\n",
       "    </tr>\n",
       "  </thead>\n",
       "  <tbody>\n",
       "    <tr>\n",
       "      <th>0</th>\n",
       "      <td>1627</td>\n",
       "      <td>990.0</td>\n",
       "    </tr>\n",
       "    <tr>\n",
       "      <th>1</th>\n",
       "      <td>3185</td>\n",
       "      <td>690.0</td>\n",
       "    </tr>\n",
       "    <tr>\n",
       "      <th>2</th>\n",
       "      <td>25973</td>\n",
       "      <td>690.0</td>\n",
       "    </tr>\n",
       "  </tbody>\n",
       "</table>\n",
       "</div>"
      ],
      "text/plain": [
       "      id    rev\n",
       "0   1627  990.0\n",
       "1   3185  690.0\n",
       "2  25973  690.0"
      ]
     },
     "execution_count": 24,
     "metadata": {},
     "output_type": "execute_result"
    }
   ],
   "source": [
    "# Повторяющихся пользователей нет, можно объединять с ДФ exp-groups\n",
    "checks = checks.rename(columns= {'student_id': 'id'})\n",
    "checks.head(3)"
   ]
  },
  {
   "cell_type": "code",
   "execution_count": 25,
   "metadata": {},
   "outputs": [
    {
     "data": {
      "text/html": [
       "<div>\n",
       "<style scoped>\n",
       "    .dataframe tbody tr th:only-of-type {\n",
       "        vertical-align: middle;\n",
       "    }\n",
       "\n",
       "    .dataframe tbody tr th {\n",
       "        vertical-align: top;\n",
       "    }\n",
       "\n",
       "    .dataframe thead th {\n",
       "        text-align: right;\n",
       "    }\n",
       "</style>\n",
       "<table border=\"1\" class=\"dataframe\">\n",
       "  <thead>\n",
       "    <tr style=\"text-align: right;\">\n",
       "      <th></th>\n",
       "      <th>id</th>\n",
       "      <th>grp</th>\n",
       "      <th>rev</th>\n",
       "    </tr>\n",
       "  </thead>\n",
       "  <tbody>\n",
       "    <tr>\n",
       "      <th>0</th>\n",
       "      <td>581585</td>\n",
       "      <td>A</td>\n",
       "      <td>NaN</td>\n",
       "    </tr>\n",
       "    <tr>\n",
       "      <th>1</th>\n",
       "      <td>5723133</td>\n",
       "      <td>A</td>\n",
       "      <td>NaN</td>\n",
       "    </tr>\n",
       "    <tr>\n",
       "      <th>2</th>\n",
       "      <td>3276743</td>\n",
       "      <td>B</td>\n",
       "      <td>NaN</td>\n",
       "    </tr>\n",
       "    <tr>\n",
       "      <th>3</th>\n",
       "      <td>4238589</td>\n",
       "      <td>A</td>\n",
       "      <td>NaN</td>\n",
       "    </tr>\n",
       "    <tr>\n",
       "      <th>4</th>\n",
       "      <td>4475369</td>\n",
       "      <td>B</td>\n",
       "      <td>NaN</td>\n",
       "    </tr>\n",
       "    <tr>\n",
       "      <th>...</th>\n",
       "      <td>...</td>\n",
       "      <td>...</td>\n",
       "      <td>...</td>\n",
       "    </tr>\n",
       "    <tr>\n",
       "      <th>8336</th>\n",
       "      <td>1794344</td>\n",
       "      <td>B</td>\n",
       "      <td>NaN</td>\n",
       "    </tr>\n",
       "    <tr>\n",
       "      <th>8337</th>\n",
       "      <td>296883</td>\n",
       "      <td>B</td>\n",
       "      <td>NaN</td>\n",
       "    </tr>\n",
       "    <tr>\n",
       "      <th>8338</th>\n",
       "      <td>3598448</td>\n",
       "      <td>B</td>\n",
       "      <td>NaN</td>\n",
       "    </tr>\n",
       "    <tr>\n",
       "      <th>8339</th>\n",
       "      <td>3610547</td>\n",
       "      <td>B</td>\n",
       "      <td>290.0</td>\n",
       "    </tr>\n",
       "    <tr>\n",
       "      <th>8340</th>\n",
       "      <td>205705</td>\n",
       "      <td>B</td>\n",
       "      <td>NaN</td>\n",
       "    </tr>\n",
       "  </tbody>\n",
       "</table>\n",
       "<p>8341 rows × 3 columns</p>\n",
       "</div>"
      ],
      "text/plain": [
       "           id grp    rev\n",
       "0      581585   A    NaN\n",
       "1     5723133   A    NaN\n",
       "2     3276743   B    NaN\n",
       "3     4238589   A    NaN\n",
       "4     4475369   B    NaN\n",
       "...       ...  ..    ...\n",
       "8336  1794344   B    NaN\n",
       "8337   296883   B    NaN\n",
       "8338  3598448   B    NaN\n",
       "8339  3610547   B  290.0\n",
       "8340   205705   B    NaN\n",
       "\n",
       "[8341 rows x 3 columns]"
      ]
     },
     "execution_count": 25,
     "metadata": {},
     "output_type": "execute_result"
    }
   ],
   "source": [
    "df = exp_groups.merge(checks, how='left', on= 'id')\n",
    "df"
   ]
  },
  {
   "cell_type": "code",
   "execution_count": 26,
   "metadata": {},
   "outputs": [
    {
     "data": {
      "text/html": [
       "<div>\n",
       "<style scoped>\n",
       "    .dataframe tbody tr th:only-of-type {\n",
       "        vertical-align: middle;\n",
       "    }\n",
       "\n",
       "    .dataframe tbody tr th {\n",
       "        vertical-align: top;\n",
       "    }\n",
       "\n",
       "    .dataframe thead th {\n",
       "        text-align: right;\n",
       "    }\n",
       "</style>\n",
       "<table border=\"1\" class=\"dataframe\">\n",
       "  <thead>\n",
       "    <tr style=\"text-align: right;\">\n",
       "      <th></th>\n",
       "      <th>id</th>\n",
       "      <th>grp</th>\n",
       "      <th>rev</th>\n",
       "    </tr>\n",
       "  </thead>\n",
       "  <tbody>\n",
       "    <tr>\n",
       "      <th>0</th>\n",
       "      <td>581585</td>\n",
       "      <td>A</td>\n",
       "      <td>0.0</td>\n",
       "    </tr>\n",
       "    <tr>\n",
       "      <th>1</th>\n",
       "      <td>5723133</td>\n",
       "      <td>A</td>\n",
       "      <td>0.0</td>\n",
       "    </tr>\n",
       "    <tr>\n",
       "      <th>2</th>\n",
       "      <td>3276743</td>\n",
       "      <td>B</td>\n",
       "      <td>0.0</td>\n",
       "    </tr>\n",
       "    <tr>\n",
       "      <th>3</th>\n",
       "      <td>4238589</td>\n",
       "      <td>A</td>\n",
       "      <td>0.0</td>\n",
       "    </tr>\n",
       "    <tr>\n",
       "      <th>4</th>\n",
       "      <td>4475369</td>\n",
       "      <td>B</td>\n",
       "      <td>0.0</td>\n",
       "    </tr>\n",
       "  </tbody>\n",
       "</table>\n",
       "</div>"
      ],
      "text/plain": [
       "        id grp  rev\n",
       "0   581585   A  0.0\n",
       "1  5723133   A  0.0\n",
       "2  3276743   B  0.0\n",
       "3  4238589   A  0.0\n",
       "4  4475369   B  0.0"
      ]
     },
     "execution_count": 26,
     "metadata": {},
     "output_type": "execute_result"
    }
   ],
   "source": [
    "# Предположительно, в дальнейшем потребуется рассчитывать средние значения по показателю revenue, \n",
    "# соответственно, следует заменить пустые значения на 0\n",
    "df = df.fillna(0)\n",
    "df.head(5)"
   ]
  },
  {
   "cell_type": "markdown",
   "metadata": {},
   "source": [
    "\n",
    "Основной показатель, который нас интересует это общая выручка компании. Соответственно, в рамках оценки новой механики оплаты представляется целесообразным проанализировать следующие целевые метрики, которые непосредственно влияют на общую выручку: \n",
    "\n",
    "- конверсия в покупку (предположительно, основные изменения возможны в данном показателе, т.к. цель введения новой механики оплаты - облегчить переход пользователя к покупке, что, как ожидается, приведет к росту конверсии), \n",
    "- ARPU (средний доход на пользователя),\n",
    "- ARPPU (средний доход на платящего пользователя).\n",
    "\n",
    "Ввиду малого количества информации о пользователях (присутствует только доход на каждого пользователя), опережающие и Guardrail метрики в дальнейшем анализе отсутствуют. Также затруднительно будет применить методы уменьшения дисперсии, такие как стратификация и CUPED.\n",
    "\n",
    "С учетом вышеуказанного анализ будет проводится по следующему алгоритму:\n",
    "1) оценка изменения метрик;\n",
    "2) анализ статистической значимости изменений;\n",
    "3) выводы по эксперименту и целесообразности применения новой механики оплаты."
   ]
  },
  {
   "cell_type": "code",
   "execution_count": 27,
   "metadata": {},
   "outputs": [
    {
     "data": {
      "text/plain": [
       "((1538, 3), (6803, 3))"
      ]
     },
     "execution_count": 27,
     "metadata": {},
     "output_type": "execute_result"
    }
   ],
   "source": [
    "# отберем тестовую и контрольную выборки\n",
    "df_control = df[df['grp']=='A']\n",
    "df_test = df[df['grp']=='B']\n",
    "df_control.shape, df_test.shape"
   ]
  },
  {
   "cell_type": "code",
   "execution_count": 28,
   "metadata": {},
   "outputs": [
    {
     "data": {
      "text/plain": [
       "(0.05071521456436931, 0.046156107599588415)"
      ]
     },
     "execution_count": 28,
     "metadata": {},
     "output_type": "execute_result"
    }
   ],
   "source": [
    "# рассчитаем конверсию для тестовой и контрольной выборок\n",
    "df_control_conv = len(df_control[df_control['rev'] != 0])/len(df_control)\n",
    "df_test_conv = len(df_test[df_test['rev'] != 0])/len(df_test)\n",
    "df_control_conv, df_test_conv"
   ]
  },
  {
   "cell_type": "markdown",
   "metadata": {},
   "source": [
    "Как мы видим, в тестовой группе конверсия снизилась"
   ]
  },
  {
   "cell_type": "code",
   "execution_count": 29,
   "metadata": {},
   "outputs": [
    {
     "data": {
      "text/plain": [
       "(47.34720416124838, 58.05879810377775)"
      ]
     },
     "execution_count": 29,
     "metadata": {},
     "output_type": "execute_result"
    }
   ],
   "source": [
    "# Рассчитаем ARPU для тестовой и контрольной выборок\n",
    "df_control_ARPU = df_control.rev.sum()/ df_control.id.nunique()\n",
    "df_test_ARPU = df_test.rev.sum()/ df_test.id.nunique()\n",
    "df_control_ARPU, df_test_ARPU"
   ]
  },
  {
   "cell_type": "markdown",
   "metadata": {},
   "source": [
    "С учетом снижения конверсии получен достаточно неожиданный результат - средний доход на пользователя вырос.\n",
    "Попробуем проверить, есть ли аномалии в данных"
   ]
  },
  {
   "cell_type": "code",
   "execution_count": 30,
   "metadata": {},
   "outputs": [
    {
     "data": {
      "image/png": "[encoded data removed]",
      "text/plain": [
       "<Figure size 720x595.44 with 2 Axes>"
      ]
     },
     "metadata": {},
     "output_type": "display_data"
    }
   ],
   "source": [
    "# вначале посмотрим на распределение данных, ввиду большого количества пользователей, \n",
    "# которые ничего не купили, оставим только пользователей с покупкой > 0\n",
    "sns.set(rc={'figure.figsize': (10,8.27)})\n",
    "fig, ax =plt.subplots(1,2)\n",
    "sns.histplot(df_control[df_control['rev'] != 0].rev, ax=ax[0]).set_title('Control')\n",
    "sns.histplot(df_test[df_test['rev'] != 0].rev, ax=ax[1]).set_title('Test')\n",
    "fig.show()"
   ]
  },
  {
   "cell_type": "markdown",
   "metadata": {},
   "source": [
    "Как мы видим, распределения достаточно похожи, однако, в тестовой выборке появилось аномальное количество пользователей с покупкой равной примерно 2000. Попробуем понять причину данной аномалии"
   ]
  },
  {
   "cell_type": "code",
   "execution_count": 31,
   "metadata": {},
   "outputs": [
    {
     "data": {
      "text/html": [
       "<style  type=\"text/css\" >\n",
       "</style><table id=\"T_2b96e6a4_5532_11ed_bdbb_96000040dfb6\" style='display:inline'><caption>Control</caption><thead>    <tr>        <th class=\"blank level0\" ></th>        <th class=\"col_heading level0 col0\" >rev</th>    </tr></thead><tbody>\n",
       "                <tr>\n",
       "                        <th id=\"T_2b96e6a4_5532_11ed_bdbb_96000040dfb6level0_row0\" class=\"row_heading level0 row0\" >290.0</th>\n",
       "                        <td id=\"T_2b96e6a4_5532_11ed_bdbb_96000040dfb6row0_col0\" class=\"data row0 col0\" >25</td>\n",
       "            </tr>\n",
       "            <tr>\n",
       "                        <th id=\"T_2b96e6a4_5532_11ed_bdbb_96000040dfb6level0_row1\" class=\"row_heading level0 row1\" >580.0</th>\n",
       "                        <td id=\"T_2b96e6a4_5532_11ed_bdbb_96000040dfb6row1_col0\" class=\"data row1 col0\" >6</td>\n",
       "            </tr>\n",
       "            <tr>\n",
       "                        <th id=\"T_2b96e6a4_5532_11ed_bdbb_96000040dfb6level0_row2\" class=\"row_heading level0 row2\" >990.0</th>\n",
       "                        <td id=\"T_2b96e6a4_5532_11ed_bdbb_96000040dfb6row2_col0\" class=\"data row2 col0\" >5</td>\n",
       "            </tr>\n",
       "            <tr>\n",
       "                        <th id=\"T_2b96e6a4_5532_11ed_bdbb_96000040dfb6level0_row3\" class=\"row_heading level0 row3\" >590.0</th>\n",
       "                        <td id=\"T_2b96e6a4_5532_11ed_bdbb_96000040dfb6row3_col0\" class=\"data row3 col0\" >5</td>\n",
       "            </tr>\n",
       "            <tr>\n",
       "                        <th id=\"T_2b96e6a4_5532_11ed_bdbb_96000040dfb6level0_row4\" class=\"row_heading level0 row4\" >199.0</th>\n",
       "                        <td id=\"T_2b96e6a4_5532_11ed_bdbb_96000040dfb6row4_col0\" class=\"data row4 col0\" >5</td>\n",
       "            </tr>\n",
       "            <tr>\n",
       "                        <th id=\"T_2b96e6a4_5532_11ed_bdbb_96000040dfb6level0_row5\" class=\"row_heading level0 row5\" >690.0</th>\n",
       "                        <td id=\"T_2b96e6a4_5532_11ed_bdbb_96000040dfb6row5_col0\" class=\"data row5 col0\" >4</td>\n",
       "            </tr>\n",
       "            <tr>\n",
       "                        <th id=\"T_2b96e6a4_5532_11ed_bdbb_96000040dfb6level0_row6\" class=\"row_heading level0 row6\" >1530.0</th>\n",
       "                        <td id=\"T_2b96e6a4_5532_11ed_bdbb_96000040dfb6row6_col0\" class=\"data row6 col0\" >3</td>\n",
       "            </tr>\n",
       "            <tr>\n",
       "                        <th id=\"T_2b96e6a4_5532_11ed_bdbb_96000040dfb6level0_row7\" class=\"row_heading level0 row7\" >3660.0</th>\n",
       "                        <td id=\"T_2b96e6a4_5532_11ed_bdbb_96000040dfb6row7_col0\" class=\"data row7 col0\" >3</td>\n",
       "            </tr>\n",
       "            <tr>\n",
       "                        <th id=\"T_2b96e6a4_5532_11ed_bdbb_96000040dfb6level0_row8\" class=\"row_heading level0 row8\" >840.0</th>\n",
       "                        <td id=\"T_2b96e6a4_5532_11ed_bdbb_96000040dfb6row8_col0\" class=\"data row8 col0\" >3</td>\n",
       "            </tr>\n",
       "            <tr>\n",
       "                        <th id=\"T_2b96e6a4_5532_11ed_bdbb_96000040dfb6level0_row9\" class=\"row_heading level0 row9\" >1140.0</th>\n",
       "                        <td id=\"T_2b96e6a4_5532_11ed_bdbb_96000040dfb6row9_col0\" class=\"data row9 col0\" >2</td>\n",
       "            </tr>\n",
       "            <tr>\n",
       "                        <th id=\"T_2b96e6a4_5532_11ed_bdbb_96000040dfb6level0_row10\" class=\"row_heading level0 row10\" >489.0</th>\n",
       "                        <td id=\"T_2b96e6a4_5532_11ed_bdbb_96000040dfb6row10_col0\" class=\"data row10 col0\" >2</td>\n",
       "            </tr>\n",
       "            <tr>\n",
       "                        <th id=\"T_2b96e6a4_5532_11ed_bdbb_96000040dfb6level0_row11\" class=\"row_heading level0 row11\" >1160.0</th>\n",
       "                        <td id=\"T_2b96e6a4_5532_11ed_bdbb_96000040dfb6row11_col0\" class=\"data row11 col0\" >2</td>\n",
       "            </tr>\n",
       "            <tr>\n",
       "                        <th id=\"T_2b96e6a4_5532_11ed_bdbb_96000040dfb6level0_row12\" class=\"row_heading level0 row12\" >2820.0</th>\n",
       "                        <td id=\"T_2b96e6a4_5532_11ed_bdbb_96000040dfb6row12_col0\" class=\"data row12 col0\" >2</td>\n",
       "            </tr>\n",
       "            <tr>\n",
       "                        <th id=\"T_2b96e6a4_5532_11ed_bdbb_96000040dfb6level0_row13\" class=\"row_heading level0 row13\" >2910.0</th>\n",
       "                        <td id=\"T_2b96e6a4_5532_11ed_bdbb_96000040dfb6row13_col0\" class=\"data row13 col0\" >2</td>\n",
       "            </tr>\n",
       "            <tr>\n",
       "                        <th id=\"T_2b96e6a4_5532_11ed_bdbb_96000040dfb6level0_row14\" class=\"row_heading level0 row14\" >2890.0</th>\n",
       "                        <td id=\"T_2b96e6a4_5532_11ed_bdbb_96000040dfb6row14_col0\" class=\"data row14 col0\" >1</td>\n",
       "            </tr>\n",
       "            <tr>\n",
       "                        <th id=\"T_2b96e6a4_5532_11ed_bdbb_96000040dfb6level0_row15\" class=\"row_heading level0 row15\" >1180.0</th>\n",
       "                        <td id=\"T_2b96e6a4_5532_11ed_bdbb_96000040dfb6row15_col0\" class=\"data row15 col0\" >1</td>\n",
       "            </tr>\n",
       "            <tr>\n",
       "                        <th id=\"T_2b96e6a4_5532_11ed_bdbb_96000040dfb6level0_row16\" class=\"row_heading level0 row16\" >2900.0</th>\n",
       "                        <td id=\"T_2b96e6a4_5532_11ed_bdbb_96000040dfb6row16_col0\" class=\"data row16 col0\" >1</td>\n",
       "            </tr>\n",
       "            <tr>\n",
       "                        <th id=\"T_2b96e6a4_5532_11ed_bdbb_96000040dfb6level0_row17\" class=\"row_heading level0 row17\" >1830.0</th>\n",
       "                        <td id=\"T_2b96e6a4_5532_11ed_bdbb_96000040dfb6row17_col0\" class=\"data row17 col0\" >1</td>\n",
       "            </tr>\n",
       "            <tr>\n",
       "                        <th id=\"T_2b96e6a4_5532_11ed_bdbb_96000040dfb6level0_row18\" class=\"row_heading level0 row18\" >2220.0</th>\n",
       "                        <td id=\"T_2b96e6a4_5532_11ed_bdbb_96000040dfb6row18_col0\" class=\"data row18 col0\" >1</td>\n",
       "            </tr>\n",
       "            <tr>\n",
       "                        <th id=\"T_2b96e6a4_5532_11ed_bdbb_96000040dfb6level0_row19\" class=\"row_heading level0 row19\" >870.0</th>\n",
       "                        <td id=\"T_2b96e6a4_5532_11ed_bdbb_96000040dfb6row19_col0\" class=\"data row19 col0\" >1</td>\n",
       "            </tr>\n",
       "            <tr>\n",
       "                        <th id=\"T_2b96e6a4_5532_11ed_bdbb_96000040dfb6level0_row20\" class=\"row_heading level0 row20\" >398.0</th>\n",
       "                        <td id=\"T_2b96e6a4_5532_11ed_bdbb_96000040dfb6row20_col0\" class=\"data row20 col0\" >1</td>\n",
       "            </tr>\n",
       "            <tr>\n",
       "                        <th id=\"T_2b96e6a4_5532_11ed_bdbb_96000040dfb6level0_row21\" class=\"row_heading level0 row21\" >1980.0</th>\n",
       "                        <td id=\"T_2b96e6a4_5532_11ed_bdbb_96000040dfb6row21_col0\" class=\"data row21 col0\" >1</td>\n",
       "            </tr>\n",
       "            <tr>\n",
       "                        <th id=\"T_2b96e6a4_5532_11ed_bdbb_96000040dfb6level0_row22\" class=\"row_heading level0 row22\" >1039.0</th>\n",
       "                        <td id=\"T_2b96e6a4_5532_11ed_bdbb_96000040dfb6row22_col0\" class=\"data row22 col0\" >1</td>\n",
       "            </tr>\n",
       "    </tbody></table><style  type=\"text/css\" >\n",
       "</style><table id=\"T_2b96e6a5_5532_11ed_bdbb_96000040dfb6\" style='display:inline'><caption>Test</caption><thead>    <tr>        <th class=\"blank level0\" ></th>        <th class=\"col_heading level0 col0\" >rev</th>    </tr></thead><tbody>\n",
       "                <tr>\n",
       "                        <th id=\"T_2b96e6a5_5532_11ed_bdbb_96000040dfb6level0_row0\" class=\"row_heading level0 row0\" >1900.0</th>\n",
       "                        <td id=\"T_2b96e6a5_5532_11ed_bdbb_96000040dfb6row0_col0\" class=\"data row0 col0\" >93</td>\n",
       "            </tr>\n",
       "            <tr>\n",
       "                        <th id=\"T_2b96e6a5_5532_11ed_bdbb_96000040dfb6level0_row1\" class=\"row_heading level0 row1\" >290.0</th>\n",
       "                        <td id=\"T_2b96e6a5_5532_11ed_bdbb_96000040dfb6row1_col0\" class=\"data row1 col0\" >45</td>\n",
       "            </tr>\n",
       "            <tr>\n",
       "                        <th id=\"T_2b96e6a5_5532_11ed_bdbb_96000040dfb6level0_row2\" class=\"row_heading level0 row2\" >1900.0001</th>\n",
       "                        <td id=\"T_2b96e6a5_5532_11ed_bdbb_96000040dfb6row2_col0\" class=\"data row2 col0\" >35</td>\n",
       "            </tr>\n",
       "            <tr>\n",
       "                        <th id=\"T_2b96e6a5_5532_11ed_bdbb_96000040dfb6level0_row3\" class=\"row_heading level0 row3\" >199.0</th>\n",
       "                        <td id=\"T_2b96e6a5_5532_11ed_bdbb_96000040dfb6row3_col0\" class=\"data row3 col0\" >27</td>\n",
       "            </tr>\n",
       "            <tr>\n",
       "                        <th id=\"T_2b96e6a5_5532_11ed_bdbb_96000040dfb6level0_row4\" class=\"row_heading level0 row4\" >840.0</th>\n",
       "                        <td id=\"T_2b96e6a5_5532_11ed_bdbb_96000040dfb6row4_col0\" class=\"data row4 col0\" >21</td>\n",
       "            </tr>\n",
       "            <tr>\n",
       "                        <th id=\"T_2b96e6a5_5532_11ed_bdbb_96000040dfb6level0_row5\" class=\"row_heading level0 row5\" >990.0</th>\n",
       "                        <td id=\"T_2b96e6a5_5532_11ed_bdbb_96000040dfb6row5_col0\" class=\"data row5 col0\" >17</td>\n",
       "            </tr>\n",
       "            <tr>\n",
       "                        <th id=\"T_2b96e6a5_5532_11ed_bdbb_96000040dfb6level0_row6\" class=\"row_heading level0 row6\" >690.0</th>\n",
       "                        <td id=\"T_2b96e6a5_5532_11ed_bdbb_96000040dfb6row6_col0\" class=\"data row6 col0\" >13</td>\n",
       "            </tr>\n",
       "            <tr>\n",
       "                        <th id=\"T_2b96e6a5_5532_11ed_bdbb_96000040dfb6level0_row7\" class=\"row_heading level0 row7\" >1140.0</th>\n",
       "                        <td id=\"T_2b96e6a5_5532_11ed_bdbb_96000040dfb6row7_col0\" class=\"data row7 col0\" >9</td>\n",
       "            </tr>\n",
       "            <tr>\n",
       "                        <th id=\"T_2b96e6a5_5532_11ed_bdbb_96000040dfb6level0_row8\" class=\"row_heading level0 row8\" >590.0</th>\n",
       "                        <td id=\"T_2b96e6a5_5532_11ed_bdbb_96000040dfb6row8_col0\" class=\"data row8 col0\" >6</td>\n",
       "            </tr>\n",
       "            <tr>\n",
       "                        <th id=\"T_2b96e6a5_5532_11ed_bdbb_96000040dfb6level0_row9\" class=\"row_heading level0 row9\" >398.0</th>\n",
       "                        <td id=\"T_2b96e6a5_5532_11ed_bdbb_96000040dfb6row9_col0\" class=\"data row9 col0\" >6</td>\n",
       "            </tr>\n",
       "            <tr>\n",
       "                        <th id=\"T_2b96e6a5_5532_11ed_bdbb_96000040dfb6level0_row10\" class=\"row_heading level0 row10\" >870.0</th>\n",
       "                        <td id=\"T_2b96e6a5_5532_11ed_bdbb_96000040dfb6row10_col0\" class=\"data row10 col0\" >5</td>\n",
       "            </tr>\n",
       "            <tr>\n",
       "                        <th id=\"T_2b96e6a5_5532_11ed_bdbb_96000040dfb6level0_row11\" class=\"row_heading level0 row11\" >580.0</th>\n",
       "                        <td id=\"T_2b96e6a5_5532_11ed_bdbb_96000040dfb6row11_col0\" class=\"data row11 col0\" >5</td>\n",
       "            </tr>\n",
       "            <tr>\n",
       "                        <th id=\"T_2b96e6a5_5532_11ed_bdbb_96000040dfb6level0_row12\" class=\"row_heading level0 row12\" >1530.0</th>\n",
       "                        <td id=\"T_2b96e6a5_5532_11ed_bdbb_96000040dfb6row12_col0\" class=\"data row12 col0\" >5</td>\n",
       "            </tr>\n",
       "            <tr>\n",
       "                        <th id=\"T_2b96e6a5_5532_11ed_bdbb_96000040dfb6level0_row13\" class=\"row_heading level0 row13\" >2890.0</th>\n",
       "                        <td id=\"T_2b96e6a5_5532_11ed_bdbb_96000040dfb6row13_col0\" class=\"data row13 col0\" >3</td>\n",
       "            </tr>\n",
       "            <tr>\n",
       "                        <th id=\"T_2b96e6a5_5532_11ed_bdbb_96000040dfb6level0_row14\" class=\"row_heading level0 row14\" >2099.0</th>\n",
       "                        <td id=\"T_2b96e6a5_5532_11ed_bdbb_96000040dfb6row14_col0\" class=\"data row14 col0\" >3</td>\n",
       "            </tr>\n",
       "            <tr>\n",
       "                        <th id=\"T_2b96e6a5_5532_11ed_bdbb_96000040dfb6level0_row15\" class=\"row_heading level0 row15\" >1980.0</th>\n",
       "                        <td id=\"T_2b96e6a5_5532_11ed_bdbb_96000040dfb6row15_col0\" class=\"data row15 col0\" >2</td>\n",
       "            </tr>\n",
       "            <tr>\n",
       "                        <th id=\"T_2b96e6a5_5532_11ed_bdbb_96000040dfb6level0_row16\" class=\"row_heading level0 row16\" >3660.0</th>\n",
       "                        <td id=\"T_2b96e6a5_5532_11ed_bdbb_96000040dfb6row16_col0\" class=\"data row16 col0\" >2</td>\n",
       "            </tr>\n",
       "            <tr>\n",
       "                        <th id=\"T_2b96e6a5_5532_11ed_bdbb_96000040dfb6level0_row17\" class=\"row_heading level0 row17\" >2910.0</th>\n",
       "                        <td id=\"T_2b96e6a5_5532_11ed_bdbb_96000040dfb6row17_col0\" class=\"data row17 col0\" >2</td>\n",
       "            </tr>\n",
       "            <tr>\n",
       "                        <th id=\"T_2b96e6a5_5532_11ed_bdbb_96000040dfb6level0_row18\" class=\"row_heading level0 row18\" >796.0</th>\n",
       "                        <td id=\"T_2b96e6a5_5532_11ed_bdbb_96000040dfb6row18_col0\" class=\"data row18 col0\" >1</td>\n",
       "            </tr>\n",
       "            <tr>\n",
       "                        <th id=\"T_2b96e6a5_5532_11ed_bdbb_96000040dfb6level0_row19\" class=\"row_heading level0 row19\" >1388.0</th>\n",
       "                        <td id=\"T_2b96e6a5_5532_11ed_bdbb_96000040dfb6row19_col0\" class=\"data row19 col0\" >1</td>\n",
       "            </tr>\n",
       "            <tr>\n",
       "                        <th id=\"T_2b96e6a5_5532_11ed_bdbb_96000040dfb6level0_row20\" class=\"row_heading level0 row20\" >489.0</th>\n",
       "                        <td id=\"T_2b96e6a5_5532_11ed_bdbb_96000040dfb6row20_col0\" class=\"data row20 col0\" >1</td>\n",
       "            </tr>\n",
       "            <tr>\n",
       "                        <th id=\"T_2b96e6a5_5532_11ed_bdbb_96000040dfb6level0_row21\" class=\"row_heading level0 row21\" >1160.0</th>\n",
       "                        <td id=\"T_2b96e6a5_5532_11ed_bdbb_96000040dfb6row21_col0\" class=\"data row21 col0\" >1</td>\n",
       "            </tr>\n",
       "            <tr>\n",
       "                        <th id=\"T_2b96e6a5_5532_11ed_bdbb_96000040dfb6level0_row22\" class=\"row_heading level0 row22\" >2190.0</th>\n",
       "                        <td id=\"T_2b96e6a5_5532_11ed_bdbb_96000040dfb6row22_col0\" class=\"data row22 col0\" >1</td>\n",
       "            </tr>\n",
       "            <tr>\n",
       "                        <th id=\"T_2b96e6a5_5532_11ed_bdbb_96000040dfb6level0_row23\" class=\"row_heading level0 row23\" >3040.0</th>\n",
       "                        <td id=\"T_2b96e6a5_5532_11ed_bdbb_96000040dfb6row23_col0\" class=\"data row23 col0\" >1</td>\n",
       "            </tr>\n",
       "            <tr>\n",
       "                        <th id=\"T_2b96e6a5_5532_11ed_bdbb_96000040dfb6level0_row24\" class=\"row_heading level0 row24\" >1968.0</th>\n",
       "                        <td id=\"T_2b96e6a5_5532_11ed_bdbb_96000040dfb6row24_col0\" class=\"data row24 col0\" >1</td>\n",
       "            </tr>\n",
       "            <tr>\n",
       "                        <th id=\"T_2b96e6a5_5532_11ed_bdbb_96000040dfb6level0_row25\" class=\"row_heading level0 row25\" >880.0</th>\n",
       "                        <td id=\"T_2b96e6a5_5532_11ed_bdbb_96000040dfb6row25_col0\" class=\"data row25 col0\" >1</td>\n",
       "            </tr>\n",
       "            <tr>\n",
       "                        <th id=\"T_2b96e6a5_5532_11ed_bdbb_96000040dfb6level0_row26\" class=\"row_heading level0 row26\" >1729.0</th>\n",
       "                        <td id=\"T_2b96e6a5_5532_11ed_bdbb_96000040dfb6row26_col0\" class=\"data row26 col0\" >1</td>\n",
       "            </tr>\n",
       "            <tr>\n",
       "                        <th id=\"T_2b96e6a5_5532_11ed_bdbb_96000040dfb6level0_row27\" class=\"row_heading level0 row27\" >2220.0</th>\n",
       "                        <td id=\"T_2b96e6a5_5532_11ed_bdbb_96000040dfb6row27_col0\" class=\"data row27 col0\" >1</td>\n",
       "            </tr>\n",
       "            <tr>\n",
       "                        <th id=\"T_2b96e6a5_5532_11ed_bdbb_96000040dfb6level0_row28\" class=\"row_heading level0 row28\" >1339.0</th>\n",
       "                        <td id=\"T_2b96e6a5_5532_11ed_bdbb_96000040dfb6row28_col0\" class=\"data row28 col0\" >1</td>\n",
       "            </tr>\n",
       "            <tr>\n",
       "                        <th id=\"T_2b96e6a5_5532_11ed_bdbb_96000040dfb6level0_row29\" class=\"row_heading level0 row29\" >4650.0</th>\n",
       "                        <td id=\"T_2b96e6a5_5532_11ed_bdbb_96000040dfb6row29_col0\" class=\"data row29 col0\" >1</td>\n",
       "            </tr>\n",
       "            <tr>\n",
       "                        <th id=\"T_2b96e6a5_5532_11ed_bdbb_96000040dfb6level0_row30\" class=\"row_heading level0 row30\" >1050.0</th>\n",
       "                        <td id=\"T_2b96e6a5_5532_11ed_bdbb_96000040dfb6row30_col0\" class=\"data row30 col0\" >1</td>\n",
       "            </tr>\n",
       "            <tr>\n",
       "                        <th id=\"T_2b96e6a5_5532_11ed_bdbb_96000040dfb6level0_row31\" class=\"row_heading level0 row31\" >597.0</th>\n",
       "                        <td id=\"T_2b96e6a5_5532_11ed_bdbb_96000040dfb6row31_col0\" class=\"data row31 col0\" >1</td>\n",
       "            </tr>\n",
       "            <tr>\n",
       "                        <th id=\"T_2b96e6a5_5532_11ed_bdbb_96000040dfb6level0_row32\" class=\"row_heading level0 row32\" >3260.0</th>\n",
       "                        <td id=\"T_2b96e6a5_5532_11ed_bdbb_96000040dfb6row32_col0\" class=\"data row32 col0\" >1</td>\n",
       "            </tr>\n",
       "    </tbody></table>"
      ]
     },
     "metadata": {},
     "output_type": "display_data"
    }
   ],
   "source": [
    "table_contr = pd.DataFrame(df_control[df_control['rev'] != 0].rev.value_counts())\n",
    "table_test = pd.DataFrame(df_test[df_test['rev'] != 0].rev.value_counts())\n",
    "\n",
    "df1_styler = table_contr.style.set_table_attributes(\"style='display:inline'\").set_caption('Control')\n",
    "df2_styler = table_test.style.set_table_attributes(\"style='display:inline'\").set_caption('Test')\n",
    "\n",
    "display_html(df1_styler._repr_html_()+df2_styler._repr_html_(), raw=True)"
   ]
  },
  {
   "cell_type": "markdown",
   "metadata": {},
   "source": [
    "Как видно из таблиц, самая популярная величина покупки в тестовой группе составляет 1900 (128 пользователей), вторая по популярности 290 (45 пользователей). При этом в контрольной группе нет ни одного значения близкого к 1900. С большой долей вероятности можно судить, что в рамках эксперимента произошла какая-то ошибка. Сложно представить, что введение нового механизма оплаты привело бы к появлению новой когорты пользователей с определенной величиной покупки. Скорее всего при проведения эксперимента тестовой группе был показан новый товар стоимостью 1900 (в контрольной группе данного товара не было) либо тестовой группе была предложена новая акция.\n",
    "\n",
    "**Таким образом, с большой долей вероятности делаем вывод, что эксперимент был проведен с ошибкой.**\n",
    "\n",
    "Если есть возможность, эксперимент следует повторить. Однако, представим, что такая возможность отсутствует.\n",
    "\n",
    "Попробуем нивелировать данное упущение. Если обнулить величину покупки у пользователей в тестовой группе, сумма покупки которых равна 1900, то изменение будет слишком велико (в тестовой группе обнулиться более половины пользователей). Попробуем присвоить данным пользователям среднюю величину покупки покупателей (т.е. среднюю величину у тех, кто купил что-то, а не среднюю величину от всех пользователей). Так, по крайней мере, конверсия в тестовой группе в результате наших преобразований не изменится. Отметим также, что ввиду вынужденных преобразований конверсия, которая не претерпела изменения, становится самой важной метрикой при подведении выводов в дальнейшем."
   ]
  },
  {
   "cell_type": "code",
   "execution_count": 32,
   "metadata": {},
   "outputs": [],
   "source": [
    "# ввиду того, что в дальнейшем планируется присваивать значения пандасовским сериям,\n",
    "# отключим предупреждения для облегчения чтения кода\n",
    "pd.options.mode.chained_assignment = None  # default='warn'"
   ]
  },
  {
   "cell_type": "code",
   "execution_count": 33,
   "metadata": {},
   "outputs": [
    {
     "data": {
      "text/plain": [
       "1257.8789920382164"
      ]
     },
     "execution_count": 33,
     "metadata": {},
     "output_type": "execute_result"
    }
   ],
   "source": [
    "mean_test_corr = np.mean(df_test[df_test['rev']!=0].rev) #при подсчете среднего будем учитывать \n",
    "# всех покупателей, включая покупателей с суммой покупки 1900 (следует учесть, что данные пользователи \n",
    "# были готовы потратить данную сумму). \n",
    "mean_test_corr #находим среднее значение покупки у покупателей"
   ]
  },
  {
   "cell_type": "code",
   "execution_count": 34,
   "metadata": {},
   "outputs": [
    {
     "data": {
      "text/html": [
       "<div>\n",
       "<style scoped>\n",
       "    .dataframe tbody tr th:only-of-type {\n",
       "        vertical-align: middle;\n",
       "    }\n",
       "\n",
       "    .dataframe tbody tr th {\n",
       "        vertical-align: top;\n",
       "    }\n",
       "\n",
       "    .dataframe thead th {\n",
       "        text-align: right;\n",
       "    }\n",
       "</style>\n",
       "<table border=\"1\" class=\"dataframe\">\n",
       "  <thead>\n",
       "    <tr style=\"text-align: right;\">\n",
       "      <th></th>\n",
       "      <th>id</th>\n",
       "      <th>grp</th>\n",
       "      <th>rev</th>\n",
       "    </tr>\n",
       "  </thead>\n",
       "  <tbody>\n",
       "    <tr>\n",
       "      <th>67</th>\n",
       "      <td>3354191</td>\n",
       "      <td>B</td>\n",
       "      <td>1257.878992</td>\n",
       "    </tr>\n",
       "  </tbody>\n",
       "</table>\n",
       "</div>"
      ],
      "text/plain": [
       "         id grp          rev\n",
       "67  3354191   B  1257.878992"
      ]
     },
     "execution_count": 34,
     "metadata": {},
     "output_type": "execute_result"
    }
   ],
   "source": [
    "df_test_1900 = df_test[(df_test['rev'] == 1900) | (df_test['rev'] == 1900.0001)]\n",
    "df_test_1900.rev = mean_test_corr\n",
    "df_test_1900.head(1) # присвоим пользователям с значениям покупки 1900 среднее значение покупки\n",
    "# у покупателей в тестовой группе"
   ]
  },
  {
   "cell_type": "code",
   "execution_count": 35,
   "metadata": {},
   "outputs": [
    {
     "data": {
      "text/plain": [
       "(6803, 3)"
      ]
     },
     "execution_count": 35,
     "metadata": {},
     "output_type": "execute_result"
    }
   ],
   "source": [
    "df_test_corr = df_test.query('rev != 1900 and rev != 1900.0001')\n",
    "df_test_new = pd.concat([df_test_corr, df_test_1900])\n",
    "df_test_new.shape # проверяем, что не потеряли данных при преобразовании"
   ]
  },
  {
   "cell_type": "code",
   "execution_count": 36,
   "metadata": {},
   "outputs": [
    {
     "data": {
      "text/html": [
       "<div>\n",
       "<style scoped>\n",
       "    .dataframe tbody tr th:only-of-type {\n",
       "        vertical-align: middle;\n",
       "    }\n",
       "\n",
       "    .dataframe tbody tr th {\n",
       "        vertical-align: top;\n",
       "    }\n",
       "\n",
       "    .dataframe thead th {\n",
       "        text-align: right;\n",
       "    }\n",
       "</style>\n",
       "<table border=\"1\" class=\"dataframe\">\n",
       "  <thead>\n",
       "    <tr style=\"text-align: right;\">\n",
       "      <th></th>\n",
       "      <th>grp</th>\n",
       "      <th>CR</th>\n",
       "      <th>ARPU</th>\n",
       "      <th>ARPPU</th>\n",
       "    </tr>\n",
       "  </thead>\n",
       "  <tbody>\n",
       "    <tr>\n",
       "      <th>0</th>\n",
       "      <td>Control</td>\n",
       "      <td>0.051</td>\n",
       "      <td>47.3</td>\n",
       "      <td>933.6</td>\n",
       "    </tr>\n",
       "    <tr>\n",
       "      <th>1</th>\n",
       "      <td>Test</td>\n",
       "      <td>0.046</td>\n",
       "      <td>46.0</td>\n",
       "      <td>996.1</td>\n",
       "    </tr>\n",
       "  </tbody>\n",
       "</table>\n",
       "</div>"
      ],
      "text/plain": [
       "       grp     CR  ARPU  ARPPU\n",
       "0  Control  0.051  47.3  933.6\n",
       "1     Test  0.046  46.0  996.1"
      ]
     },
     "execution_count": 36,
     "metadata": {},
     "output_type": "execute_result"
    }
   ],
   "source": [
    "# пересчитаем конверсию и ARPU\n",
    "df_control_conv = len(df_control[df_control['rev'] != 0])/len(df_control)\n",
    "df_test_conv_corr = len(df_test_new[df_test_new['rev'] != 0])/len(df_test_new)\n",
    "\n",
    "df_control_ARPU = df_control.rev.sum()/ df_control.id.nunique()\n",
    "df_test_ARPU_corr = df_test_new.rev.sum()/ df_test_new.id.nunique()\n",
    "\n",
    "# рассчитаем также ARPPU\n",
    "df_control_ARPPU = df_control.rev.sum()/ len(df_control[df_control['rev'] != 0])\n",
    "df_test_ARPPU_corr = df_test_new.rev.sum()/ len(df_test_new[df_test_new['rev'] != 0])\n",
    "\n",
    "df_metrics = pd.DataFrame(np.array([['Control',round(df_control_conv,3), \n",
    "                                     round(df_control_ARPU,1),\n",
    "                                     round(df_control_ARPPU,1)], \n",
    "                                     ['Test',round(df_test_conv_corr,3),\n",
    "                                     round(df_test_ARPU_corr,1),\n",
    "                                     round(df_test_ARPPU_corr,1)]]),\n",
    "                          columns=['grp', 'CR', 'ARPU', 'ARPPU'])\n",
    "df_metrics"
   ]
  },
  {
   "cell_type": "markdown",
   "metadata": {},
   "source": [
    "В результате отмечаем снижение по результатам эксперимента конверсии и ARPU, и увеличение ARPPU.\n",
    "\n",
    "Далее оценим статистическую значимость полученных изменений\n",
    "\n",
    "**CR**"
   ]
  },
  {
   "cell_type": "markdown",
   "metadata": {},
   "source": [
    "Переменная в конверсии - категориальная. Соответственно, в качестве статистического теста используем - кси-квадрат, который достаточно прост в расчете.\n",
    "\n",
    "Условия проведения теста кси-квадрат:\n",
    "\n",
    "1) Все переменные незавизимы, - соблюдается (в нашем случае мы анализизируем конверсию независимых пользователей);\n",
    "\n",
    "2) Количество ожидаемых наблюдений в каждой ячейке сопряженной таблицы > 5, - соблюдается (с учетом конверсии 5% и минимум 1000 значений в группах меньше 5 значений не будет ни в одной из ячеек).\n",
    "\n",
    "Для дальнейшего ориентира применим 5% уровень значимости."
   ]
  },
  {
   "cell_type": "code",
   "execution_count": 37,
   "metadata": {},
   "outputs": [],
   "source": [
    "# рассчитаем данные по конверсии необходимые для теста\n",
    "control_1 = len(df_control[df_control['rev'] > 0])\n",
    "control_0 = df_control.shape[0] - control_1\n",
    "test_1 = len(df_test[df_test['rev'] > 0])\n",
    "test_0 = df_test.shape[0] - test_1\n",
    "\n",
    "T = np.array([[control_1, control_0], [test_1, test_0]])"
   ]
  },
  {
   "cell_type": "code",
   "execution_count": 38,
   "metadata": {},
   "outputs": [
    {
     "data": {
      "text/plain": [
       "0.44547028437158964"
      ]
     },
     "execution_count": 38,
     "metadata": {},
     "output_type": "execute_result"
    }
   ],
   "source": [
    "import scipy\n",
    "from scipy import stats\n",
    "scipy.stats.chi2_contingency(T,correction= False)[1]# поправка Йетса не требуется"
   ]
  },
  {
   "cell_type": "markdown",
   "metadata": {},
   "source": [
    "Полученное p-value больше выбранного уровня значимости в 5%, соответственно, принимаем нулевую гипотезу, **конверсия контрольной и тестовой групп не отличается.**"
   ]
  },
  {
   "cell_type": "markdown",
   "metadata": {},
   "source": [
    "**ARPU, ARPPU**"
   ]
  },
  {
   "cell_type": "markdown",
   "metadata": {},
   "source": [
    "Переменные - ARPU, ARPPU - непрерывные. Соответственно, предварительный план на исследование следующий:\n",
    "\n",
    "1) проведем проверку на нормальность данных метрик методом бутстрепа; - с учетом размера выборок (> 1000), для ускорения работы можно применить пуассоновский бутстрап\n",
    "\n",
    "2) если проверка проходит, проводим t-тест Уэлча (тест, который не требует равенство внутригрупповых дисперсий в выборках);\n",
    "\n",
    "3) если проверки не проходят, проводим бутстреп тест (симуляция Монте-Карло);\n",
    "\n",
    "Логарифмирование и метод Манна-Уитни проводить не планируется ввиду сложноинтерпретируемости результатов данных тестов (к примеру, в тесте Манна-Уитни сравниваются ранги выборок, а не метрики). К тому же, как мы убедились, в наших выборках величина покупок пользователей сильно варьируется (при этом высокие значения покупок не являются выбросами). Соответственно, при ранжировании/логарифмировании величины покупок сгладится разница между самыми низкими и высокими значениями. Таким образом, возможна ситуация, когда ранжированная выборка покажет повышение показателя, хотя, фактически произошло снижение (добавилось много пользователей с низкой покупкой, но при этом ушло несколько пользователей с очень высокими покупками, что перекрыло эффект от новых пользователей).\n",
    "\n",
    "Для дальнейшего ориентира применим 5% уровень значимости."
   ]
  },
  {
   "cell_type": "code",
   "execution_count": 39,
   "metadata": {},
   "outputs": [],
   "source": [
    "from tqdm.notebook import trange, tqdm\n",
    "import scipy.stats as stats"
   ]
  },
  {
   "cell_type": "code",
   "execution_count": 40,
   "metadata": {},
   "outputs": [],
   "source": [
    "# напишем функцию, которая формирует пуассоновскую выборку,\n",
    "# формирует массив метрик ARPU, строит qq-плот относительно нормального распределения\n",
    "# и проводит тест Шапиро-Уилка\n",
    "def poisson_qq_shapiro_ARPU(df_rev):\n",
    "    sample = []\n",
    "    for _ in trange(1000):\n",
    "        puas = np.random.poisson(1,len(df_rev))\n",
    "        sample.append(sum(df_rev*puas)/len(df_rev))\n",
    "    ax = plt.subplot(221)\n",
    "    res = stats.probplot(sample, dist=\"norm\", plot= plt)\n",
    "    ax.set_title(\"QQ-plot_norm\")\n",
    "    sp = stats.shapiro(sample)\n",
    "    print('Тест на нормальность Шапиро: p-value = %.3f' % sp[1])"
   ]
  },
  {
   "cell_type": "code",
   "execution_count": 41,
   "metadata": {},
   "outputs": [
    {
     "data": {
      "application/vnd.jupyter.widget-view+json": {
       "model_id": "",
       "version_major": 2,
       "version_minor": 0
      },
      "text/plain": [
       "HBox(children=(FloatProgress(value=0.0, max=1000.0), HTML(value='')))"
      ]
     },
     "metadata": {},
     "output_type": "display_data"
    },
    {
     "name": "stdout",
     "output_type": "stream",
     "text": [
      "\n",
      "Тест на нормальность Шапиро: p-value = 0.020\n"
     ]
    },
    {
     "data": {
      "image/png": "[encoded data removed]",
      "text/plain": [
       "<Figure size 720x595.44 with 1 Axes>"
      ]
     },
     "metadata": {},
     "output_type": "display_data"
    }
   ],
   "source": [
    "# проверим нормальность метрики ARPU в контрольной группе\n",
    "np.random.seed(17)\n",
    "poisson_qq_shapiro_ARPU(df_control['rev'])"
   ]
  },
  {
   "cell_type": "markdown",
   "metadata": {},
   "source": [
    "Распределение очень близко к нормальному по qq-плоту, однако, тест Шапиро не подтвердил нормальность распределения."
   ]
  },
  {
   "cell_type": "code",
   "execution_count": 42,
   "metadata": {},
   "outputs": [
    {
     "data": {
      "application/vnd.jupyter.widget-view+json": {
       "model_id": "",
       "version_major": 2,
       "version_minor": 0
      },
      "text/plain": [
       "HBox(children=(FloatProgress(value=0.0, max=1000.0), HTML(value='')))"
      ]
     },
     "metadata": {},
     "output_type": "display_data"
    },
    {
     "name": "stdout",
     "output_type": "stream",
     "text": [
      "\n",
      "Тест на нормальность Шапиро: p-value = 0.078\n"
     ]
    },
    {
     "data": {
      "image/png": "[encoded data removed]",
      "text/plain": [
       "<Figure size 720x595.44 with 1 Axes>"
      ]
     },
     "metadata": {},
     "output_type": "display_data"
    }
   ],
   "source": [
    "# проверим нормальность метрики ARPU в тестовой группе\n",
    "np.random.seed(17)\n",
    "poisson_qq_shapiro_ARPU(df_test_new['rev'])"
   ]
  },
  {
   "cell_type": "markdown",
   "metadata": {},
   "source": [
    "Распределение очень близко к нормальному по qq-плоту, тест Шапиро подтвердил нормальность распределения."
   ]
  },
  {
   "cell_type": "code",
   "execution_count": 43,
   "metadata": {},
   "outputs": [],
   "source": [
    "# напишем функцию, которая формирует пуассоновскую выборку,\n",
    "# формирует массив метрик ARPPU, строит qq-плот относительно нормального распределения\n",
    "# и проводит тест Шапиро-Уилка\n",
    "def poisson_qq_shapiro_ARPPU(df_rev):\n",
    "    sample = []\n",
    "    for _ in trange(1000):\n",
    "        df_rev['puas'] = np.random.poisson(1,len(df_rev))\n",
    "        df_rev['sum_rev'] = df_rev['rev'] * df_rev['puas']\n",
    "        sample.append(sum(df_rev['sum_rev'])/sum(df_rev[df_rev['sum_rev'] != 0].puas))\n",
    "    df_rev = df_rev[['id', 'grp', 'rev']]\n",
    "    ax = plt.subplot(221)\n",
    "    res = stats.probplot(sample, dist=\"norm\", plot= plt)\n",
    "    ax.set_title(\"QQ-plot_norm\")\n",
    "    sp = stats.shapiro(sample)\n",
    "    print('Тест на нормальность Шапиро: p-value = %.3f' % sp[1])"
   ]
  },
  {
   "cell_type": "code",
   "execution_count": 44,
   "metadata": {},
   "outputs": [
    {
     "data": {
      "application/vnd.jupyter.widget-view+json": {
       "model_id": "",
       "version_major": 2,
       "version_minor": 0
      },
      "text/plain": [
       "HBox(children=(FloatProgress(value=0.0, max=1000.0), HTML(value='')))"
      ]
     },
     "metadata": {},
     "output_type": "display_data"
    },
    {
     "name": "stdout",
     "output_type": "stream",
     "text": [
      "\n",
      "Тест на нормальность Шапиро: p-value = 0.191\n"
     ]
    },
    {
     "data": {
      "image/png": "[encoded data removed]",
      "text/plain": [
       "<Figure size 720x595.44 with 1 Axes>"
      ]
     },
     "metadata": {},
     "output_type": "display_data"
    }
   ],
   "source": [
    "# проверим нормальность метрики ARPPU в контрольной группе\n",
    "np.random.seed(18)\n",
    "poisson_qq_shapiro_ARPPU(df_control)"
   ]
  },
  {
   "cell_type": "markdown",
   "metadata": {},
   "source": [
    "Распределение очень близко к нормальному по qq-плоту, тест Шапиро подтвердил нормальность распределения."
   ]
  },
  {
   "cell_type": "code",
   "execution_count": 45,
   "metadata": {},
   "outputs": [
    {
     "data": {
      "application/vnd.jupyter.widget-view+json": {
       "model_id": "",
       "version_major": 2,
       "version_minor": 0
      },
      "text/plain": [
       "HBox(children=(FloatProgress(value=0.0, max=1000.0), HTML(value='')))"
      ]
     },
     "metadata": {},
     "output_type": "display_data"
    },
    {
     "name": "stdout",
     "output_type": "stream",
     "text": [
      "\n",
      "Тест на нормальность Шапиро: p-value = 0.059\n"
     ]
    },
    {
     "data": {
      "image/png": "[encoded data removed]",
      "text/plain": [
       "<Figure size 720x595.44 with 1 Axes>"
      ]
     },
     "metadata": {},
     "output_type": "display_data"
    }
   ],
   "source": [
    "# проверим нормальность метрики ARPPU в тестовой группе\n",
    "np.random.seed(19)\n",
    "poisson_qq_shapiro_ARPPU(df_test_new)"
   ]
  },
  {
   "cell_type": "markdown",
   "metadata": {},
   "source": [
    "Распределение очень близко к нормальному по qq-плоту, тест Шапиро подтвердил нормальность распределения."
   ]
  },
  {
   "cell_type": "markdown",
   "metadata": {},
   "source": [
    "Таким образом, нормальность распределения не подтверждается только для контрольной выборки ARPU (p-value<0.05). Соответственно, в рамках приведенного выше плана на исследование, статистическую значимость разницы ARPU \n",
    "между контрольной и тестовой выборкой оценим бутстрап методом, который позволяет не обращать внимание \n",
    "на распределение метрики. Для метрики ARPPU применим менее громоздкий t-тест Уэлча."
   ]
  },
  {
   "cell_type": "code",
   "execution_count": 46,
   "metadata": {},
   "outputs": [
    {
     "data": {
      "application/vnd.jupyter.widget-view+json": {
       "model_id": "",
       "version_major": 2,
       "version_minor": 0
      },
      "text/plain": [
       "HBox(children=(FloatProgress(value=0.0, max=10000.0), HTML(value='')))"
      ]
     },
     "metadata": {},
     "output_type": "display_data"
    },
    {
     "name": "stdout",
     "output_type": "stream",
     "text": [
      "\n"
     ]
    },
    {
     "data": {
      "image/png": "[encoded data removed]",
      "text/plain": [
       "<Figure size 720x595.44 with 1 Axes>"
      ]
     },
     "metadata": {},
     "output_type": "display_data"
    }
   ],
   "source": [
    "#оценим статистическую значимость разницы ARPU методом бутстрап. Принимаем 95% доверительный интервал.\n",
    "\n",
    "#извлечем выборку разниц ARPU тестовой и контрольной выборок\n",
    "boot_data = []\n",
    "for _ in trange(10000): # извлекаем подвыборки\n",
    "    samples_1 = df_control.sample(len(df_control), \n",
    "                replace = True) # повтор значений разрешается (суть бутстрепа)\n",
    "        \n",
    "    samples_2 = df_test_new.sample(len(df_test_new), \n",
    "                                   replace = True)\n",
    "            \n",
    "        \n",
    "    ARPU_control = sum(samples_1.rev)/len(samples_1)\n",
    "    ARPU_test = sum(samples_2.rev)/len(samples_2)\n",
    "        \n",
    "    boot_data.append(ARPU_control-ARPU_test)\n",
    "\n",
    "pd_boot_data = pd.DataFrame(boot_data)\n",
    "\n",
    "#рассчитаем границы доверительного интервала        \n",
    "left_quant = (1 - 0.95)/2\n",
    "right_quant = 1 - (1 - 0.95) / 2\n",
    "quants = pd_boot_data.quantile([left_quant, right_quant])\n",
    "\n",
    "#рассчитаем p-value \n",
    "p_1 = scipy.stats.norm.cdf(x = 0, loc = np.mean(boot_data), \n",
    "                           scale = np.std(boot_data))\n",
    "p_2 = scipy.stats.norm.cdf(x = 0, loc = -np.mean(boot_data), \n",
    "                           scale = np.std(boot_data))\n",
    "\n",
    "p_value = min(p_1, p_2) * 2\n",
    "\n",
    "# Построим гистограмму бутстрап распределения с нанесенными границами \n",
    "#доверительного интервала\n",
    "_, _, bars = plt.hist(pd_boot_data[0], bins = 50)\n",
    "for bar in bars:\n",
    "    if bar.get_x() <= quants.iloc[0][0] or bar.get_x() >= quants.iloc[1][0]:\n",
    "        bar.set_facecolor('red')\n",
    "    else: \n",
    "        bar.set_facecolor('grey')\n",
    "        bar.set_edgecolor('black')\n",
    "    \n",
    "plt.style.use('ggplot')\n",
    "plt.vlines(quants,ymin=0,ymax=50,linestyle='--')\n",
    "plt.xlabel('boot_data')\n",
    "plt.ylabel('frequency')\n",
    "plt.title(\"Histogram of boot_data\")\n",
    "plt.show()"
   ]
  },
  {
   "cell_type": "markdown",
   "metadata": {},
   "source": [
    "Как видно на гисторграмме, 0 входит в диапазон доверительно интервала. Таким образом, делаем вывод, что разница между ARPU контрольной и тестовой групп **статистически не значима.**"
   ]
  },
  {
   "cell_type": "markdown",
   "metadata": {},
   "source": [
    "По итогом bтеста получаем, что p-value > 0.05. Таким образом, делаем вывод, что разница между ARPPU контрольной и тестовой групп **статистически не значима.**"
   ]
  },
  {
   "cell_type": "code",
   "execution_count": 47,
   "metadata": {},
   "outputs": [
    {
     "data": {
      "text/plain": [
       "0.2854098127646194"
      ]
     },
     "execution_count": 47,
     "metadata": {},
     "output_type": "execute_result"
    }
   ],
   "source": [
    "# Проведем проверку равенства метрик ARPPU t-тестом Уэлча\n",
    "df_t_control = df_control[df_control['rev'] != 0].rev\n",
    "df_t_test = df_test_new[df_test_new['rev'] != 0].rev\n",
    "_, p = stats.ttest_ind(df_t_control, df_t_test, equal_var=False,\n",
    "                      alternative = 'less') #альтернативная гипотеза в том, \n",
    "                                            #что метрика в контрольной группе меньше чем в тестовой\n",
    "p"
   ]
  },
  {
   "cell_type": "markdown",
   "metadata": {},
   "source": [
    "По итогом теста получаем, что p-value > 0.05. Таким образом, делаем вывод, что разница между ARPPU контрольной и тестовой групп **статистически не значима.**"
   ]
  },
  {
   "cell_type": "markdown",
   "metadata": {},
   "source": [
    "**ВЫВОД ПО РЕЗУЛЬТАТАМ ИССЛЕДОВАНИЯ**\n",
    "\n",
    "*В результате анализа данных было получены следующие заключения:*\n",
    "\n",
    "1) С большой долей вероятности эксперимент был проведен с ошибкой, кроме новой механики оплаты тестовой группе был предложен новый продукт либо новая акция стоимостью 1900, кроме того, соотношение контрольной и целевой группы составляет 80/20, что также не является оптимальным;\n",
    "\n",
    "2) Ни по одной из выбранных целевых метрик (CR - основная метрика, ARPU, ARPPU) не наблюдается статистически значимое увеличение.\n",
    "\n",
    "*С учетом вышеуказанного предлагается:*\n",
    "\n",
    "1) Если есть возможность, провести эксперимент повторно. При этом следует убедиться в отсутствии факторов влияния кроме новой механики оплаты на тестовую группу. Дополнительно, предлагается обеспечить соотношение тестовой и контрольной группы 50/50;\n",
    "\n",
    "2) Если возможность провести эксперимент повторно отсутствует, **предлагается не применять на всех пользователей новую механику оплаты.**"
   ]
  },
  {
   "cell_type": "markdown",
   "metadata": {},
   "source": [
    "**Задача 2. SQL**"
   ]
  },
  {
   "cell_type": "markdown",
   "metadata": {},
   "source": [
    "*Очень усердные ученики*\n",
    "\n",
    "Условие:\n",
    "\n",
    "Образовательные курсы состоят из различных уроков, каждый из которых состоит из нескольких маленьких заданий. Каждое такое маленькое задание называется \"горошиной\".\n",
    "\n",
    "Назовём очень усердным учеником того пользователя, который хотя бы раз за текущий месяц правильно решил 20 горошин.\n",
    "\n",
    "Необходимо написать оптимальный запрос, который даст информацию о количестве очень усердных студентов. (под усердным студентом мы понимаем студента, который правильно решил 20 задач за текущий месяц)\n",
    "\n",
    "*Данные*\n",
    "\n",
    "default.peas:\n",
    "\n",
    "- st_id\t(int) -\tID ученика\n",
    "- timest\t(timestamp)\t- Время решения карточки\n",
    "- correct\t(bool)\t- Правильно ли решена горошина?\n",
    "- subject\t(text)\t-Дисциплина, в которой находится горошина"
   ]
  },
  {
   "cell_type": "markdown",
   "metadata": {},
   "source": [
    "Импортируем библиотеку для работы с Clickhouse, настраиваем подключение, пишем функцию подгрузки данных по запросу"
   ]
  },
  {
   "cell_type": "code",
   "execution_count": 48,
   "metadata": {},
   "outputs": [],
   "source": [
    "import pandahouse as ph"
   ]
  },
  {
   "cell_type": "code",
   "execution_count": 49,
   "metadata": {},
   "outputs": [],
   "source": [
    "connection_default = {'host': 'http://clickhouse.beslan.pro:8080',\n",
    "                      'database':'default',\n",
    "                      'user':'student', \n",
    "                      'password':'dpo_python_2020'\n",
    "                     }"
   ]
  },
  {
   "cell_type": "code",
   "execution_count": 50,
   "metadata": {},
   "outputs": [],
   "source": [
    "def select(sql):\n",
    "    '''функция подключения'''\n",
    "    return ph.read_clickhouse(sql, connection= connection_default)"
   ]
  },
  {
   "cell_type": "code",
   "execution_count": 51,
   "metadata": {},
   "outputs": [
    {
     "data": {
      "text/html": [
       "<div>\n",
       "<style scoped>\n",
       "    .dataframe tbody tr th:only-of-type {\n",
       "        vertical-align: middle;\n",
       "    }\n",
       "\n",
       "    .dataframe tbody tr th {\n",
       "        vertical-align: top;\n",
       "    }\n",
       "\n",
       "    .dataframe thead th {\n",
       "        text-align: right;\n",
       "    }\n",
       "</style>\n",
       "<table border=\"1\" class=\"dataframe\">\n",
       "  <thead>\n",
       "    <tr style=\"text-align: right;\">\n",
       "      <th></th>\n",
       "      <th>last_MONTH</th>\n",
       "      <th>uniqExact(st_id)</th>\n",
       "    </tr>\n",
       "  </thead>\n",
       "  <tbody>\n",
       "    <tr>\n",
       "      <th>0</th>\n",
       "      <td>10</td>\n",
       "      <td>308</td>\n",
       "    </tr>\n",
       "  </tbody>\n",
       "</table>\n",
       "</div>"
      ],
      "text/plain": [
       "   last_MONTH  uniqExact(st_id)\n",
       "0          10               308"
      ]
     },
     "execution_count": 51,
     "metadata": {},
     "output_type": "execute_result"
    }
   ],
   "source": [
    "# посмотрим на рассмотрение студентов по месяцам\n",
    "query = \"\"\"\n",
    "SELECT \n",
    "    MONTH(CAST(timest, 'Date')) as last_MONTH, COUNT(DISTINCT(st_id))\n",
    "FROM default.peas\n",
    "GROUP BY MONTH(CAST(timest, 'Date'))\n",
    "\"\"\"\n",
    "select(query)"
   ]
  },
  {
   "cell_type": "markdown",
   "metadata": {},
   "source": [
    "В таблице присутствуют данные всего по одному месяцу, т.е. он и есть текущий. Соответственно, далее можно написать запрос с поиском усердных студентов без указания условия по месяцу"
   ]
  },
  {
   "cell_type": "code",
   "execution_count": 52,
   "metadata": {},
   "outputs": [
    {
     "data": {
      "text/html": [
       "<div>\n",
       "<style scoped>\n",
       "    .dataframe tbody tr th:only-of-type {\n",
       "        vertical-align: middle;\n",
       "    }\n",
       "\n",
       "    .dataframe tbody tr th {\n",
       "        vertical-align: top;\n",
       "    }\n",
       "\n",
       "    .dataframe thead th {\n",
       "        text-align: right;\n",
       "    }\n",
       "</style>\n",
       "<table border=\"1\" class=\"dataframe\">\n",
       "  <thead>\n",
       "    <tr style=\"text-align: right;\">\n",
       "      <th></th>\n",
       "      <th>correct</th>\n",
       "    </tr>\n",
       "  </thead>\n",
       "  <tbody>\n",
       "    <tr>\n",
       "      <th>0</th>\n",
       "      <td>1</td>\n",
       "    </tr>\n",
       "    <tr>\n",
       "      <th>1</th>\n",
       "      <td>0</td>\n",
       "    </tr>\n",
       "  </tbody>\n",
       "</table>\n",
       "</div>"
      ],
      "text/plain": [
       "   correct\n",
       "0        1\n",
       "1        0"
      ]
     },
     "execution_count": 52,
     "metadata": {},
     "output_type": "execute_result"
    }
   ],
   "source": [
    "# посмотрим как обозначаются правильные ответы в таблице\n",
    "query = \"\"\"\n",
    "SELECT distinct(correct)\n",
    "FROM default.peas\n",
    "\"\"\"\n",
    "select(query)"
   ]
  },
  {
   "cell_type": "code",
   "execution_count": 53,
   "metadata": {},
   "outputs": [
    {
     "data": {
      "text/html": [
       "<div>\n",
       "<style scoped>\n",
       "    .dataframe tbody tr th:only-of-type {\n",
       "        vertical-align: middle;\n",
       "    }\n",
       "\n",
       "    .dataframe tbody tr th {\n",
       "        vertical-align: top;\n",
       "    }\n",
       "\n",
       "    .dataframe thead th {\n",
       "        text-align: right;\n",
       "    }\n",
       "</style>\n",
       "<table border=\"1\" class=\"dataframe\">\n",
       "  <thead>\n",
       "    <tr style=\"text-align: right;\">\n",
       "      <th></th>\n",
       "      <th>count(st_id)</th>\n",
       "    </tr>\n",
       "  </thead>\n",
       "  <tbody>\n",
       "    <tr>\n",
       "      <th>0</th>\n",
       "      <td>136</td>\n",
       "    </tr>\n",
       "  </tbody>\n",
       "</table>\n",
       "</div>"
      ],
      "text/plain": [
       "   count(st_id)\n",
       "0           136"
      ]
     },
     "execution_count": 53,
     "metadata": {},
     "output_type": "execute_result"
    }
   ],
   "source": [
    "# с учетом вышеуказанного запрос можно написать следующим образом\n",
    "query = \"\"\"\n",
    "SELECT \n",
    "    COUNT(st_id)\n",
    "FROM\n",
    "(\n",
    "SELECT \n",
    "    st_id, SUM(correct) AS corr_num\n",
    "FROM default.peas\n",
    "GROUP BY st_id\n",
    "HAVING corr_num >= 20\n",
    ")\n",
    "\"\"\"\n",
    "select(query)"
   ]
  },
  {
   "cell_type": "markdown",
   "metadata": {},
   "source": [
    "**ОТВЕТ: За текущий месяц было 136 успешных учеников.**"
   ]
  },
  {
   "cell_type": "markdown",
   "metadata": {},
   "source": [
    "*Оптимизация воронки*\n",
    "\n",
    "Образовательная платформа предлагает пройти студентам курсы по модели trial: \n",
    "студент может решить бесплатно лишь 30 горошин в день. \n",
    "Для неограниченного количества заданий в определенной дисциплине студенту необходимо приобрести полный доступ. \n",
    "Команда провела эксперимент, где был протестирован новый экран оплаты.\n",
    "\n",
    "Активным считается пользователь, за все время решивший больше 10 задач правильно в любых дисциплинах.\n",
    "Активным по математике считается пользователь, за все время решивший 2 или больше задач правильно по математике.\n",
    "\n",
    "**Задача**\n",
    "\n",
    "Необходимо в одном запросе выгрузить следующую информацию о группах пользователей:\n",
    "\n",
    "- ARPU \n",
    "- ARPAU \n",
    "- CR в покупку \n",
    "- СR активного пользователя в покупку \n",
    "- CR пользователя из активности по математике (subject = ’math’) в покупку курса по математике\n",
    "\n",
    "ARPU считается относительно всех пользователей, попавших в группы.\n",
    "\n",
    "\n",
    "**Данные:**\n",
    "\n",
    "default.peas:\n",
    "\n",
    "- st_id\t(int) -\tID ученика\n",
    "- timest\t(timestamp)\t- Время решения карточки\n",
    "- correct\t(bool)\t- Правильно ли решена горошина?\n",
    "- subject\t(text)\t-Дисциплина, в которой находится горошина\n",
    "\n",
    "default.studs:\n",
    "\n",
    "- st_id\t(int) \t- ID ученика\n",
    "- test_grp\t(text) -\tМетка ученика в данном эксперименте\n",
    "\n",
    "\n",
    "default.final_project_check:\n",
    "\n",
    "- st_id\t(int) - ID ученика\n",
    "- sale_time\t(timestamp)\t- Время покупки\n",
    "- money\t(int)\t- Цена, по которой приобрели данный курс\n",
    "- subject\t(text) \t- Дисциплина, на которую приобрели полный доступ"
   ]
  },
  {
   "cell_type": "code",
   "execution_count": 54,
   "metadata": {},
   "outputs": [
    {
     "name": "stdout",
     "output_type": "stream",
     "text": [
      "ОТВЕТ:\n"
     ]
    },
    {
     "data": {
      "text/html": [
       "<div>\n",
       "<style scoped>\n",
       "    .dataframe tbody tr th:only-of-type {\n",
       "        vertical-align: middle;\n",
       "    }\n",
       "\n",
       "    .dataframe tbody tr th {\n",
       "        vertical-align: top;\n",
       "    }\n",
       "\n",
       "    .dataframe thead th {\n",
       "        text-align: right;\n",
       "    }\n",
       "</style>\n",
       "<table border=\"1\" class=\"dataframe\">\n",
       "  <thead>\n",
       "    <tr style=\"text-align: right;\">\n",
       "      <th></th>\n",
       "      <th>test_grp</th>\n",
       "      <th>ARPU</th>\n",
       "      <th>ARPAU</th>\n",
       "      <th>CR</th>\n",
       "      <th>CR_act</th>\n",
       "      <th>CR_act_math</th>\n",
       "    </tr>\n",
       "  </thead>\n",
       "  <tbody>\n",
       "    <tr>\n",
       "      <th>0</th>\n",
       "      <td>control</td>\n",
       "      <td>4541.0</td>\n",
       "      <td>10394.0</td>\n",
       "      <td>4.92</td>\n",
       "      <td>11.02</td>\n",
       "      <td>10.20</td>\n",
       "    </tr>\n",
       "    <tr>\n",
       "      <th>1</th>\n",
       "      <td>pilot</td>\n",
       "      <td>11508.0</td>\n",
       "      <td>29740.0</td>\n",
       "      <td>10.85</td>\n",
       "      <td>26.04</td>\n",
       "      <td>14.29</td>\n",
       "    </tr>\n",
       "  </tbody>\n",
       "</table>\n",
       "</div>"
      ],
      "text/plain": [
       "  test_grp     ARPU    ARPAU     CR  CR_act  CR_act_math\n",
       "0  control   4541.0  10394.0   4.92   11.02        10.20\n",
       "1    pilot  11508.0  29740.0  10.85   26.04        14.29"
      ]
     },
     "execution_count": 54,
     "metadata": {},
     "output_type": "execute_result"
    }
   ],
   "source": [
    "query = '''\n",
    "SELECT test_grp,\n",
    "    ROUND(SUM(check.money) / uniqExact(studs.st_id)) AS ARPU,\n",
    "    ROUND(SUMIf(check.money, peas.correct_tasks > 10) / uniqIf(studs.st_id, peas.correct_tasks > 10)) AS ARPAU,\n",
    "    ROUND(100*uniqIf(studs.st_id, check.money>0) / uniqExact(studs.st_id), 2) AS CR,\n",
    "    ROUND(100*uniqIf(studs.st_id, peas.correct_tasks > 10 and check.money>0) / uniqIf(studs.st_id, peas.correct_tasks > 10), 2) AS CR_act,\n",
    "    ROUND(100*uniqIf(studs.st_id, peas.correct_tasks_math > 1 and check.money>0) / uniqIf(studs.st_id, peas.correct_tasks_math>1), 2) AS CR_act_math\n",
    "FROM\n",
    "    default.studs studs\n",
    "LEFT JOIN\n",
    "    (SELECT st_id,\n",
    "    SUM(correct) AS correct_tasks,\n",
    "    SUMIf(correct, subject=='Math') AS correct_tasks_math\n",
    "        FROM default.peas\n",
    "        GROUP BY st_id\n",
    "    ) peas ON studs.st_id = peas.st_id\n",
    "LEFT JOIN\n",
    "    default.final_project_check check\n",
    "    ON studs.st_id = check.st_id\n",
    "GROUP BY test_grp\n",
    "'''\n",
    "# выведем ответ по заданию\n",
    "print('ОТВЕТ:')\n",
    "select(query)"
   ]
  },
  {
   "cell_type": "markdown",
   "metadata": {},
   "source": [
    "**Задание 3. Python**"
   ]
  },
  {
   "cell_type": "markdown",
   "metadata": {},
   "source": [
    "1. Реализуйте функцию, которая будет автоматически подгружать информацию из дополнительного файла groups_add.csv (заголовки могут отличаться) и на основании дополнительных параметров пересчитывать метрики.\n",
    "2. Реализуйте функцию, которая будет строить графики по получаемым метрикам."
   ]
  },
  {
   "cell_type": "code",
   "execution_count": 55,
   "metadata": {},
   "outputs": [],
   "source": [
    "# за основу возьмем ячейку в блоке задания по A/B тесту, где рассчитывалась таблица с метриками\n",
    "# требуется добавить обновление метрик.\n",
    "# по условию не уточняются нужно ли обновлять датафрейм с контрольной и тестовой группами\n",
    "# предположим, что эти данные не должны обновляться\n",
    "def add_data(path):\n",
    "    \"\"\"\n",
    "    Переименование колонок, обновление данных, пересчет метрик\n",
    "    На вход принимает датафрейм с колонками id, группа (grp) и доход (rev)\n",
    "    На выход функция выдает таблицу с обновленными метриками CR,ARPU,ARPPU\n",
    "    \n",
    "    \"\"\"\n",
    "    global df_control\n",
    "    global df_test_new\n",
    "    \n",
    "    df_control_1 = df_control.copy()\n",
    "    df_test_1 = df_test_new.copy()\n",
    "    \n",
    "    #считываем данные\n",
    "    dataframe = pd.read_csv(path, sep=';')\n",
    "\n",
    "    #переименовываем колонки\n",
    "    dataframe = dataframe.rename(columns= {dataframe.columns[0]: \"id\",\n",
    "                                            dataframe.columns[1]: \"grp\",\n",
    "                                            dataframe.columns[2]: \"rev\"})\n",
    "    \n",
    "    \n",
    "    #приводим в нужный формат значения в колонках    \n",
    "    dataframe = dataframe.astype({dataframe.columns[0]: 'int',\n",
    "                                dataframe.columns[1]: 'str',\n",
    "                                dataframe.columns[2]: 'float'})\n",
    "    \n",
    "    df_control_1 = df_control_1.astype({df_control_1.columns[0]: 'int',\n",
    "                                df_control_1.columns[1]: 'str',\n",
    "                                df_control_1.columns[2]: 'float'})\n",
    "    \n",
    "    df_test_1 = df_test_1.astype({df_test_1.columns[0]: 'int',\n",
    "                                df_test_1.columns[1]: 'str',\n",
    "                                df_test_1.columns[2]: 'float'})\n",
    "    \n",
    "    #выделяем отдельно тестовую и контрольную выборки\n",
    "    dataframe_control = dataframe[dataframe['grp'] == 'A']\n",
    "    dataframe_test = dataframe[dataframe['grp'] == 'B']     \n",
    "    \n",
    "    #добавляем в контрольную и тестовую выборки новые данные\n",
    "    df_control_1 = df_control_1.append(dataframe_control)\n",
    "    df_test_1 = df_test_1.append(dataframe_test)\n",
    "        \n",
    "    #пересчитаем метрики и построим новую таблицу    \n",
    "    df_control_conv = len(df_control_1[df_control_1['rev'] != 0])/len(df_control_1)\n",
    "    df_test_conv_corr = len(df_test_1[df_test_1['rev'] != 0])/len(df_test_1)\n",
    "    \n",
    "    df_control_ARPU = df_control_1.rev.sum()/ df_control_1.id.nunique()\n",
    "    df_test_ARPU_corr = df_test_1.rev.sum()/ df_test_1.id.nunique()\n",
    "\n",
    "    df_control_ARPPU = df_control_1.rev.sum()/ len(df_control_1[df_control_1['rev'] != 0])\n",
    "    df_test_ARPPU_corr = df_test_1.rev.sum()/ len(df_test_1[df_test_1['rev'] != 0])\n",
    "\n",
    "    df_metrics = pd.DataFrame(np.array([['Control',round(df_control_conv,3), \n",
    "                                         round(df_control_ARPU,1),\n",
    "                                         round(df_control_ARPPU,1)], \n",
    "                                         ['Test',round(df_test_conv_corr,3),\n",
    "                                         round(df_test_ARPU_corr,1),\n",
    "                                         round(df_test_ARPPU_corr,1)]]),\n",
    "                              columns=['grp', 'CR', 'ARPU', 'ARPPU'])\n",
    "    return df_metrics"
   ]
  },
  {
   "cell_type": "code",
   "execution_count": 56,
   "metadata": {},
   "outputs": [
    {
     "data": {
      "text/html": [
       "<div>\n",
       "<style scoped>\n",
       "    .dataframe tbody tr th:only-of-type {\n",
       "        vertical-align: middle;\n",
       "    }\n",
       "\n",
       "    .dataframe tbody tr th {\n",
       "        vertical-align: top;\n",
       "    }\n",
       "\n",
       "    .dataframe thead th {\n",
       "        text-align: right;\n",
       "    }\n",
       "</style>\n",
       "<table border=\"1\" class=\"dataframe\">\n",
       "  <thead>\n",
       "    <tr style=\"text-align: right;\">\n",
       "      <th></th>\n",
       "      <th>grp</th>\n",
       "      <th>CR</th>\n",
       "      <th>ARPU</th>\n",
       "      <th>ARPPU</th>\n",
       "    </tr>\n",
       "  </thead>\n",
       "  <tbody>\n",
       "    <tr>\n",
       "      <th>0</th>\n",
       "      <td>Control</td>\n",
       "      <td>0.051</td>\n",
       "      <td>47.3</td>\n",
       "      <td>933.6</td>\n",
       "    </tr>\n",
       "    <tr>\n",
       "      <th>1</th>\n",
       "      <td>Test</td>\n",
       "      <td>0.046</td>\n",
       "      <td>46.0</td>\n",
       "      <td>996.1</td>\n",
       "    </tr>\n",
       "  </tbody>\n",
       "</table>\n",
       "</div>"
      ],
      "text/plain": [
       "       grp     CR  ARPU  ARPPU\n",
       "0  Control  0.051  47.3  933.6\n",
       "1     Test  0.046  46.0  996.1"
      ]
     },
     "execution_count": 56,
     "metadata": {},
     "output_type": "execute_result"
    }
   ],
   "source": [
    "df_metrics # для ориентира изначальное значение метрик"
   ]
  },
  {
   "cell_type": "code",
   "execution_count": 57,
   "metadata": {},
   "outputs": [
    {
     "data": {
      "text/html": [
       "<div>\n",
       "<style scoped>\n",
       "    .dataframe tbody tr th:only-of-type {\n",
       "        vertical-align: middle;\n",
       "    }\n",
       "\n",
       "    .dataframe tbody tr th {\n",
       "        vertical-align: top;\n",
       "    }\n",
       "\n",
       "    .dataframe thead th {\n",
       "        text-align: right;\n",
       "    }\n",
       "</style>\n",
       "<table border=\"1\" class=\"dataframe\">\n",
       "  <thead>\n",
       "    <tr style=\"text-align: right;\">\n",
       "      <th></th>\n",
       "      <th>student_id</th>\n",
       "      <th>grp</th>\n",
       "      <th>rev</th>\n",
       "    </tr>\n",
       "  </thead>\n",
       "  <tbody>\n",
       "    <tr>\n",
       "      <th>0</th>\n",
       "      <td>1627</td>\n",
       "      <td>A</td>\n",
       "      <td>990.0</td>\n",
       "    </tr>\n",
       "    <tr>\n",
       "      <th>1</th>\n",
       "      <td>3185</td>\n",
       "      <td>A</td>\n",
       "      <td>690.0</td>\n",
       "    </tr>\n",
       "    <tr>\n",
       "      <th>2</th>\n",
       "      <td>25973</td>\n",
       "      <td>A</td>\n",
       "      <td>690.0</td>\n",
       "    </tr>\n",
       "    <tr>\n",
       "      <th>3</th>\n",
       "      <td>26280</td>\n",
       "      <td>A</td>\n",
       "      <td>690.0</td>\n",
       "    </tr>\n",
       "    <tr>\n",
       "      <th>4</th>\n",
       "      <td>100300</td>\n",
       "      <td>A</td>\n",
       "      <td>990.0</td>\n",
       "    </tr>\n",
       "    <tr>\n",
       "      <th>...</th>\n",
       "      <td>...</td>\n",
       "      <td>...</td>\n",
       "      <td>...</td>\n",
       "    </tr>\n",
       "    <tr>\n",
       "      <th>536</th>\n",
       "      <td>5645737</td>\n",
       "      <td>B</td>\n",
       "      <td>1900.0</td>\n",
       "    </tr>\n",
       "    <tr>\n",
       "      <th>537</th>\n",
       "      <td>5651566</td>\n",
       "      <td>B</td>\n",
       "      <td>1900.0</td>\n",
       "    </tr>\n",
       "    <tr>\n",
       "      <th>538</th>\n",
       "      <td>5662322</td>\n",
       "      <td>B</td>\n",
       "      <td>1900.0</td>\n",
       "    </tr>\n",
       "    <tr>\n",
       "      <th>539</th>\n",
       "      <td>5681918</td>\n",
       "      <td>B</td>\n",
       "      <td>1900.0</td>\n",
       "    </tr>\n",
       "    <tr>\n",
       "      <th>540</th>\n",
       "      <td>5740903</td>\n",
       "      <td>B</td>\n",
       "      <td>1900.0</td>\n",
       "    </tr>\n",
       "  </tbody>\n",
       "</table>\n",
       "<p>541 rows × 3 columns</p>\n",
       "</div>"
      ],
      "text/plain": [
       "     student_id grp     rev\n",
       "0          1627   A   990.0\n",
       "1          3185   A   690.0\n",
       "2         25973   A   690.0\n",
       "3         26280   A   690.0\n",
       "4        100300   A   990.0\n",
       "..          ...  ..     ...\n",
       "536     5645737   B  1900.0\n",
       "537     5651566   B  1900.0\n",
       "538     5662322   B  1900.0\n",
       "539     5681918   B  1900.0\n",
       "540     5740903   B  1900.0\n",
       "\n",
       "[541 rows x 3 columns]"
      ]
     },
     "execution_count": 57,
     "metadata": {},
     "output_type": "execute_result"
    }
   ],
   "source": [
    "# протестируем функцию\n",
    "# предположим требуется добавить следующий ДФ к данным\n",
    "path = 'groups_add.csv'\n",
    "df = pd.read_csv(path,sep=';')\n",
    "df "
   ]
  },
  {
   "cell_type": "code",
   "execution_count": 58,
   "metadata": {},
   "outputs": [
    {
     "data": {
      "text/html": [
       "<div>\n",
       "<style scoped>\n",
       "    .dataframe tbody tr th:only-of-type {\n",
       "        vertical-align: middle;\n",
       "    }\n",
       "\n",
       "    .dataframe tbody tr th {\n",
       "        vertical-align: top;\n",
       "    }\n",
       "\n",
       "    .dataframe thead th {\n",
       "        text-align: right;\n",
       "    }\n",
       "</style>\n",
       "<table border=\"1\" class=\"dataframe\">\n",
       "  <thead>\n",
       "    <tr style=\"text-align: right;\">\n",
       "      <th></th>\n",
       "      <th>grp</th>\n",
       "      <th>CR</th>\n",
       "      <th>ARPU</th>\n",
       "      <th>ARPPU</th>\n",
       "    </tr>\n",
       "  </thead>\n",
       "  <tbody>\n",
       "    <tr>\n",
       "      <th>0</th>\n",
       "      <td>Control</td>\n",
       "      <td>0.131</td>\n",
       "      <td>133.9</td>\n",
       "      <td>1010.4</td>\n",
       "    </tr>\n",
       "    <tr>\n",
       "      <th>1</th>\n",
       "      <td>Test</td>\n",
       "      <td>0.099</td>\n",
       "      <td>106.1</td>\n",
       "      <td>1033.2</td>\n",
       "    </tr>\n",
       "  </tbody>\n",
       "</table>\n",
       "</div>"
      ],
      "text/plain": [
       "       grp     CR   ARPU   ARPPU\n",
       "0  Control  0.131  133.9  1010.4\n",
       "1     Test  0.099  106.1  1033.2"
      ]
     },
     "execution_count": 58,
     "metadata": {},
     "output_type": "execute_result"
    }
   ],
   "source": [
    "# Запускаем и смотрим обновились ли метрики\n",
    "add_data(path)"
   ]
  },
  {
   "cell_type": "markdown",
   "metadata": {},
   "source": [
    "Функция работает "
   ]
  },
  {
   "cell_type": "code",
   "execution_count": 59,
   "metadata": {},
   "outputs": [],
   "source": [
    "def draw_metrics(metrics):\n",
    "    \"\"\"\n",
    "    Вывод графиков метрик CR, ARPU, ARPPU\n",
    "    на вход подается ДФ со столбцами grp, CR,ARPU,ARPPU\n",
    "    на выходе функции выводятся графики метрик\n",
    "    \"\"\"\n",
    "    metrics = metrics.astype({metrics.columns[0]: 'str',\n",
    "                                    metrics.columns[1]: 'float',\n",
    "                                    metrics.columns[2]: 'float',\n",
    "                                    metrics.columns[3]: 'float'})\n",
    "\n",
    "    \n",
    "    fig, axes = plt.subplots(1, 3, figsize=(15, 5))\n",
    "    fig.suptitle('A/B test metrics comparison', size='x-large', weight='heavy', y=1.03)\n",
    "\n",
    "    sns.barplot(ax= axes[0], x= metrics.grp, y= metrics.CR).set(xlabel= None, ylabel= None)\n",
    "    axes[0].set_title('CR')\n",
    "\n",
    "    sns.barplot(ax= axes[1], x= metrics.grp, y= metrics.ARPU).set(xlabel= None, ylabel= None)\n",
    "    axes[1].set_title('ARPU')\n",
    "\n",
    "    sns.barplot(ax= axes[2], x= metrics.grp, y= metrics.ARPPU).set(xlabel= None, ylabel= None)\n",
    "    axes[2].set_title('ARPPU')\n",
    "\n",
    "    plt.show()   "
   ]
  },
  {
   "cell_type": "code",
   "execution_count": 60,
   "metadata": {},
   "outputs": [
    {
     "data": {
      "image/png": "[encoded data removed]",
      "text/plain": [
       "<Figure size 1080x360 with 3 Axes>"
      ]
     },
     "metadata": {},
     "output_type": "display_data"
    }
   ],
   "source": [
    "# протестируем наши функции\n",
    "draw_metrics(add_data(path))"
   ]
  },
  {
   "cell_type": "markdown",
   "metadata": {},
   "source": [
    "По итогу функции отработали штатно"
   ]
  }
 ],
 "metadata": {
  "kernelspec": {
   "display_name": "Python 3 (ipykernel)",
   "language": "python",
   "name": "python3"
  },
  "language_info": {
   "codemirror_mode": {
    "name": "ipython",
    "version": 3
   },
   "file_extension": ".py",
   "mimetype": "text/x-python",
   "name": "python",
   "nbconvert_exporter": "python",
   "pygments_lexer": "ipython3",
   "version": "3.8.10"
  }
 },
 "nbformat": 4,
 "nbformat_minor": 4
}
